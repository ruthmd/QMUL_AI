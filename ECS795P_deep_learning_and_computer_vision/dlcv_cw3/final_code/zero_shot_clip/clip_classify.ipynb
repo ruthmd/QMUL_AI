{
 "cells": [
  {
   "cell_type": "code",
   "execution_count": 1,
   "id": "744b9c02-9ba5-4ca9-93f0-1e47c1d2b9ca",
   "metadata": {},
   "outputs": [
    {
     "name": "stdout",
     "output_type": "stream",
     "text": [
      "Requirement already satisfied: datasets in /opt/conda/lib/python3.10/site-packages (2.19.1)\n",
      "Requirement already satisfied: transformers in /opt/conda/lib/python3.10/site-packages (4.40.2)\n",
      "Requirement already satisfied: filelock in /opt/conda/lib/python3.10/site-packages (from datasets) (3.9.0)\n",
      "Requirement already satisfied: numpy>=1.17 in /opt/conda/lib/python3.10/site-packages (from datasets) (1.24.4)\n",
      "Requirement already satisfied: pyarrow>=12.0.0 in /opt/conda/lib/python3.10/site-packages (from datasets) (13.0.0)\n",
      "Requirement already satisfied: pyarrow-hotfix in /opt/conda/lib/python3.10/site-packages (from datasets) (0.6)\n",
      "Requirement already satisfied: dill<0.3.9,>=0.3.0 in /opt/conda/lib/python3.10/site-packages (from datasets) (0.3.8)\n",
      "Requirement already satisfied: pandas in /opt/conda/lib/python3.10/site-packages (from datasets) (2.1.2)\n",
      "Requirement already satisfied: requests>=2.19.0 in /opt/conda/lib/python3.10/site-packages (from datasets) (2.31.0)\n",
      "Requirement already satisfied: tqdm>=4.62.1 in /opt/conda/lib/python3.10/site-packages (from datasets) (4.66.1)\n",
      "Requirement already satisfied: xxhash in /opt/conda/lib/python3.10/site-packages (from datasets) (3.4.1)\n",
      "Requirement already satisfied: multiprocess in /opt/conda/lib/python3.10/site-packages (from datasets) (0.70.16)\n",
      "Requirement already satisfied: fsspec<=2024.3.1,>=2023.1.0 in /opt/conda/lib/python3.10/site-packages (from fsspec[http]<=2024.3.1,>=2023.1.0->datasets) (2023.10.0)\n",
      "Requirement already satisfied: aiohttp in /opt/conda/lib/python3.10/site-packages (from datasets) (3.9.5)\n",
      "Requirement already satisfied: huggingface-hub>=0.21.2 in /opt/conda/lib/python3.10/site-packages (from datasets) (0.23.0)\n",
      "Requirement already satisfied: packaging in /opt/conda/lib/python3.10/site-packages (from datasets) (23.2)\n",
      "Requirement already satisfied: pyyaml>=5.1 in /opt/conda/lib/python3.10/site-packages (from datasets) (6.0.1)\n",
      "Requirement already satisfied: regex!=2019.12.17 in /opt/conda/lib/python3.10/site-packages (from transformers) (2023.12.25)\n",
      "Requirement already satisfied: tokenizers<0.20,>=0.19 in /opt/conda/lib/python3.10/site-packages (from transformers) (0.19.1)\n",
      "Requirement already satisfied: safetensors>=0.4.1 in /opt/conda/lib/python3.10/site-packages (from transformers) (0.4.3)\n",
      "Requirement already satisfied: aiosignal>=1.1.2 in /opt/conda/lib/python3.10/site-packages (from aiohttp->datasets) (1.3.1)\n",
      "Requirement already satisfied: attrs>=17.3.0 in /opt/conda/lib/python3.10/site-packages (from aiohttp->datasets) (23.1.0)\n",
      "Requirement already satisfied: frozenlist>=1.1.1 in /opt/conda/lib/python3.10/site-packages (from aiohttp->datasets) (1.4.1)\n",
      "Requirement already satisfied: multidict<7.0,>=4.5 in /opt/conda/lib/python3.10/site-packages (from aiohttp->datasets) (6.0.5)\n",
      "Requirement already satisfied: yarl<2.0,>=1.0 in /opt/conda/lib/python3.10/site-packages (from aiohttp->datasets) (1.9.4)\n",
      "Requirement already satisfied: async-timeout<5.0,>=4.0 in /opt/conda/lib/python3.10/site-packages (from aiohttp->datasets) (4.0.3)\n",
      "Requirement already satisfied: typing-extensions>=3.7.4.3 in /opt/conda/lib/python3.10/site-packages (from huggingface-hub>=0.21.2->datasets) (4.8.0)\n",
      "Requirement already satisfied: charset-normalizer<4,>=2 in /opt/conda/lib/python3.10/site-packages (from requests>=2.19.0->datasets) (3.3.1)\n",
      "Requirement already satisfied: idna<4,>=2.5 in /opt/conda/lib/python3.10/site-packages (from requests>=2.19.0->datasets) (3.4)\n",
      "Requirement already satisfied: urllib3<3,>=1.21.1 in /opt/conda/lib/python3.10/site-packages (from requests>=2.19.0->datasets) (2.0.7)\n",
      "Requirement already satisfied: certifi>=2017.4.17 in /opt/conda/lib/python3.10/site-packages (from requests>=2.19.0->datasets) (2023.7.22)\n",
      "Requirement already satisfied: python-dateutil>=2.8.2 in /opt/conda/lib/python3.10/site-packages (from pandas->datasets) (2.8.2)\n",
      "Requirement already satisfied: pytz>=2020.1 in /opt/conda/lib/python3.10/site-packages (from pandas->datasets) (2023.3.post1)\n",
      "Requirement already satisfied: tzdata>=2022.1 in /opt/conda/lib/python3.10/site-packages (from pandas->datasets) (2023.3)\n",
      "Requirement already satisfied: six>=1.5 in /opt/conda/lib/python3.10/site-packages (from python-dateutil>=2.8.2->pandas->datasets) (1.16.0)\n"
     ]
    }
   ],
   "source": [
    "!pip install datasets transformers"
   ]
  },
  {
   "cell_type": "code",
   "execution_count": 2,
   "id": "f2cc2da5-3a36-4eaf-97d1-6dae922060b1",
   "metadata": {},
   "outputs": [],
   "source": [
    "from datasets import load_dataset"
   ]
  },
  {
   "cell_type": "code",
   "execution_count": 3,
   "id": "4f18fc23-50f5-42da-80fe-e575235ec2eb",
   "metadata": {},
   "outputs": [
    {
     "name": "stderr",
     "output_type": "stream",
     "text": [
      "/opt/conda/lib/python3.10/site-packages/datasets/load.py:1486: FutureWarning: The repository for frgfm/imagenette contains custom code which must be executed to correctly load the dataset. You can inspect the repository content at https://hf.co/datasets/frgfm/imagenette\n",
      "You can avoid this message in future by passing the argument `trust_remote_code=True`.\n",
      "Passing `trust_remote_code=True` will be mandatory to load this dataset from the next major release of `datasets`.\n",
      "  warnings.warn(\n"
     ]
    }
   ],
   "source": [
    "imagenette = load_dataset(\n",
    "    'frgfm/imagenette',\n",
    "    '320px',\n",
    "    split='validation',\n",
    "    revision=\"4d512db\"\n",
    ")"
   ]
  },
  {
   "cell_type": "code",
   "execution_count": 4,
   "id": "2ec6b7bc-254c-4275-ad52-10de5ad9f553",
   "metadata": {},
   "outputs": [
    {
     "data": {
      "text/plain": [
       "Dataset({\n",
       "    features: ['image', 'label'],\n",
       "    num_rows: 3925\n",
       "})"
      ]
     },
     "execution_count": 4,
     "metadata": {},
     "output_type": "execute_result"
    }
   ],
   "source": [
    "imagenette"
   ]
  },
  {
   "cell_type": "code",
   "execution_count": 5,
   "id": "a9b548f3-f998-4da0-b258-0ab95c9988b0",
   "metadata": {},
   "outputs": [
    {
     "data": {
      "text/plain": [
       "{0, 1, 2, 3, 4, 5, 6, 7, 8, 9}"
      ]
     },
     "execution_count": 5,
     "metadata": {},
     "output_type": "execute_result"
    }
   ],
   "source": [
    "set(imagenette['label'])"
   ]
  },
  {
   "cell_type": "code",
   "execution_count": 6,
   "id": "d8ffe9af-ad4f-43b2-bbe7-d25459f8ab25",
   "metadata": {},
   "outputs": [
    {
     "data": {
      "text/plain": [
       "['tench',\n",
       " 'English springer',\n",
       " 'cassette player',\n",
       " 'chain saw',\n",
       " 'church',\n",
       " 'French horn',\n",
       " 'garbage truck',\n",
       " 'gas pump',\n",
       " 'golf ball',\n",
       " 'parachute']"
      ]
     },
     "execution_count": 6,
     "metadata": {},
     "output_type": "execute_result"
    }
   ],
   "source": [
    "# labels names \n",
    "labels = imagenette.info.features['label'].names\n",
    "labels"
   ]
  },
  {
   "cell_type": "code",
   "execution_count": 7,
   "id": "81fb93ff-ff98-46b2-b9e4-78842c4c517d",
   "metadata": {},
   "outputs": [
    {
     "data": {
      "text/plain": [
       "['a photo of a tench',\n",
       " 'a photo of a English springer',\n",
       " 'a photo of a cassette player',\n",
       " 'a photo of a chain saw',\n",
       " 'a photo of a church',\n",
       " 'a photo of a French horn',\n",
       " 'a photo of a garbage truck',\n",
       " 'a photo of a gas pump',\n",
       " 'a photo of a golf ball',\n",
       " 'a photo of a parachute']"
      ]
     },
     "execution_count": 7,
     "metadata": {},
     "output_type": "execute_result"
    }
   ],
   "source": [
    "# generate sentences serves as a seed text\n",
    "clip_labels = [f\"a photo of a {label}\" for label in labels]\n",
    "clip_labels"
   ]
  },
  {
   "cell_type": "code",
   "execution_count": 8,
   "id": "31852720-1eec-456f-ac6f-ba9fee898722",
   "metadata": {},
   "outputs": [
    {
     "name": "stderr",
     "output_type": "stream",
     "text": [
      "2024-05-07 21:20:36.215248: I tensorflow/core/util/port.cc:113] oneDNN custom operations are on. You may see slightly different numerical results due to floating-point round-off errors from different computation orders. To turn them off, set the environment variable `TF_ENABLE_ONEDNN_OPTS=0`.\n",
      "2024-05-07 21:20:36.257160: E external/local_xla/xla/stream_executor/cuda/cuda_dnn.cc:9261] Unable to register cuDNN factory: Attempting to register factory for plugin cuDNN when one has already been registered\n",
      "2024-05-07 21:20:36.257204: E external/local_xla/xla/stream_executor/cuda/cuda_fft.cc:607] Unable to register cuFFT factory: Attempting to register factory for plugin cuFFT when one has already been registered\n",
      "2024-05-07 21:20:36.258308: E external/local_xla/xla/stream_executor/cuda/cuda_blas.cc:1515] Unable to register cuBLAS factory: Attempting to register factory for plugin cuBLAS when one has already been registered\n",
      "2024-05-07 21:20:36.264881: I tensorflow/core/platform/cpu_feature_guard.cc:182] This TensorFlow binary is optimized to use available CPU instructions in performance-critical operations.\n",
      "To enable the following instructions: AVX2 AVX512F AVX512_VNNI FMA, in other operations, rebuild TensorFlow with the appropriate compiler flags.\n",
      "2024-05-07 21:20:37.119699: W tensorflow/compiler/tf2tensorrt/utils/py_utils.cc:38] TF-TRT Warning: Could not find TensorRT\n",
      "/opt/conda/lib/python3.10/site-packages/huggingface_hub/file_download.py:1132: FutureWarning: `resume_download` is deprecated and will be removed in version 1.0.0. Downloads always resume when possible. If you want to force a new download, use `force_download=True`.\n",
      "  warnings.warn(\n"
     ]
    }
   ],
   "source": [
    "# initialization\n",
    "from transformers import CLIPProcessor, CLIPModel\n",
    "\n",
    "model_id = \"openai/clip-vit-base-patch32\"\n",
    "\n",
    "processor = CLIPProcessor.from_pretrained(model_id)\n",
    "model = CLIPModel.from_pretrained(model_id)"
   ]
  },
  {
   "cell_type": "code",
   "execution_count": 9,
   "id": "b0f2af8d-b148-4260-aeed-a8aed57ed410",
   "metadata": {},
   "outputs": [
    {
     "data": {
      "text/plain": [
       "'cuda'"
      ]
     },
     "execution_count": 9,
     "metadata": {},
     "output_type": "execute_result"
    }
   ],
   "source": [
    "import torch\n",
    "\n",
    "# if you have CUDA set it to the active device like this\n",
    "device = \"cuda\" if torch.cuda.is_available() else \"cpu\"\n",
    "# move the model to the device\n",
    "model.to(device)\n",
    "\n",
    "device"
   ]
  },
  {
   "cell_type": "code",
   "execution_count": 10,
   "id": "f1840d50-9457-41ab-8da2-4a727d3006bb",
   "metadata": {},
   "outputs": [
    {
     "data": {
      "text/plain": [
       "tensor([49406,   320,  1125,   539,   320,  1149,   634, 49407],\n",
       "       device='cuda:0')"
      ]
     },
     "execution_count": 10,
     "metadata": {},
     "output_type": "execute_result"
    }
   ],
   "source": [
    "# create label tokens\n",
    "label_tokens = processor(\n",
    "    text=clip_labels,\n",
    "    padding=True,\n",
    "    images=None,\n",
    "    return_tensors='pt'\n",
    ").to(device)\n",
    "\n",
    "label_tokens['input_ids'][0][:10]"
   ]
  },
  {
   "cell_type": "code",
   "execution_count": 11,
   "id": "73403357-40d1-407d-b35f-32f08e838078",
   "metadata": {},
   "outputs": [
    {
     "data": {
      "text/plain": [
       "(10, 512)"
      ]
     },
     "execution_count": 11,
     "metadata": {},
     "output_type": "execute_result"
    }
   ],
   "source": [
    "# encode tokens to sentence embeddings\n",
    "label_emb = model.get_text_features(**label_tokens)\n",
    "# detach from pytorch gradient computation\n",
    "label_emb = label_emb.detach().cpu().numpy()\n",
    "label_emb.shape"
   ]
  },
  {
   "cell_type": "code",
   "execution_count": 12,
   "id": "bd7e5d07-48e3-4557-b629-ebc9ff898909",
   "metadata": {},
   "outputs": [
    {
     "data": {
      "text/plain": [
       "(-0.87605494, 0.89617455)"
      ]
     },
     "execution_count": 12,
     "metadata": {},
     "output_type": "execute_result"
    }
   ],
   "source": [
    "import numpy as np\n",
    "\n",
    "# normalization\n",
    "label_emb = label_emb / np.linalg.norm(label_emb, axis=0)\n",
    "label_emb.min(), label_emb.max()"
   ]
  },
  {
   "cell_type": "code",
   "execution_count": 13,
   "id": "7b9e1de4-d3e5-4341-a17f-0b4821c87d65",
   "metadata": {},
   "outputs": [
    {
     "data": {
      "image/jpeg": "[encoded data removed]",
      "image/png": "[encoded data removed]",
      "text/plain": [
       "<PIL.JpegImagePlugin.JpegImageFile image mode=RGB size=328x320>"
      ]
     },
     "execution_count": 13,
     "metadata": {},
     "output_type": "execute_result"
    }
   ],
   "source": [
    "imagenette[0]['image']"
   ]
  },
  {
   "cell_type": "code",
   "execution_count": 14,
   "id": "62fd4366-dc79-4a01-b9c1-da04aad2717d",
   "metadata": {},
   "outputs": [
    {
     "data": {
      "text/plain": [
       "torch.Size([1, 3, 224, 224])"
      ]
     },
     "execution_count": 14,
     "metadata": {},
     "output_type": "execute_result"
    }
   ],
   "source": [
    "image = processor(\n",
    "    text=None,\n",
    "    images=imagenette[0]['image'],\n",
    "    return_tensors='pt'\n",
    ")['pixel_values'].to(device)\n",
    "image.shape"
   ]
  },
  {
   "cell_type": "code",
   "execution_count": 15,
   "id": "9a367fb3-5960-4400-951e-c12792069e47",
   "metadata": {},
   "outputs": [
    {
     "name": "stderr",
     "output_type": "stream",
     "text": [
      "/opt/conda/lib/python3.10/site-packages/torch/nn/modules/conv.py:456: UserWarning: Applied workaround for CuDNN issue, install nvrtc.so (Triggered internally at ../aten/src/ATen/native/cudnn/Conv_v8.cpp:80.)\n",
      "  return F.conv2d(input, weight, bias, self.stride,\n"
     ]
    },
    {
     "data": {
      "text/plain": [
       "torch.Size([1, 512])"
      ]
     },
     "execution_count": 15,
     "metadata": {},
     "output_type": "execute_result"
    }
   ],
   "source": [
    "img_emb = model.get_image_features(image)\n",
    "img_emb.shape"
   ]
  },
  {
   "cell_type": "code",
   "execution_count": 16,
   "id": "4718e685-1a44-4927-ad29-687775006590",
   "metadata": {},
   "outputs": [],
   "source": [
    "img_emb = img_emb.detach().cpu().numpy()"
   ]
  },
  {
   "cell_type": "code",
   "execution_count": 17,
   "id": "afb53241-7412-4135-b488-20314438f1d1",
   "metadata": {},
   "outputs": [
    {
     "data": {
      "text/plain": [
       "(1, 10)"
      ]
     },
     "execution_count": 17,
     "metadata": {},
     "output_type": "execute_result"
    }
   ],
   "source": [
    "scores = np.dot(img_emb, label_emb.T)\n",
    "scores.shape"
   ]
  },
  {
   "cell_type": "code",
   "execution_count": 18,
   "id": "d0a4b4c2-e03e-461e-805b-06c508d39d92",
   "metadata": {},
   "outputs": [
    {
     "data": {
      "text/plain": [
       "2"
      ]
     },
     "execution_count": 18,
     "metadata": {},
     "output_type": "execute_result"
    }
   ],
   "source": [
    "# get index of highest score\n",
    "pred = np.argmax(scores)\n",
    "pred"
   ]
  },
  {
   "cell_type": "code",
   "execution_count": 19,
   "id": "f4961980-328c-43bb-bb96-ce8be9b64be7",
   "metadata": {},
   "outputs": [
    {
     "data": {
      "text/plain": [
       "'cassette player'"
      ]
     },
     "execution_count": 19,
     "metadata": {},
     "output_type": "execute_result"
    }
   ],
   "source": [
    "# find text label with highest score\n",
    "labels[pred]"
   ]
  },
  {
   "cell_type": "code",
   "execution_count": 20,
   "id": "e0127d17-0a1f-40fa-b306-3d5eb1bc3e94",
   "metadata": {},
   "outputs": [
    {
     "data": {
      "application/vnd.jupyter.widget-view+json": {
       "model_id": "dea78603e1fe4fc7b3a14fb0d538763f",
       "version_major": 2,
       "version_minor": 0
      },
      "text/plain": [
       "  0%|          | 0/123 [00:00<?, ?it/s]"
      ]
     },
     "metadata": {},
     "output_type": "display_data"
    }
   ],
   "source": [
    "from tqdm.auto import tqdm\n",
    "\n",
    "preds = []\n",
    "batch_size = 32\n",
    "\n",
    "for i in tqdm(range(0, len(imagenette), batch_size)):\n",
    "    i_end = min(i + batch_size, len(imagenette))\n",
    "    images = processor(\n",
    "        text=None,\n",
    "        images=imagenette[i:i_end]['image'],\n",
    "        return_tensors='pt'\n",
    "    )['pixel_values'].to(device)\n",
    "    img_emb = model.get_image_features(images)\n",
    "    img_emb = img_emb.detach().cpu().numpy()\n",
    "    scores = np.dot(img_emb, label_emb.T)\n",
    "    preds.extend(np.argmax(scores, axis=1))"
   ]
  },
  {
   "cell_type": "code",
   "execution_count": 21,
   "id": "c9b8933b-d5b4-40a7-9b20-4d06c7a90389",
   "metadata": {},
   "outputs": [
    {
     "name": "stdout",
     "output_type": "stream",
     "text": [
      "Test acc: 0.9870063694267516\n"
     ]
    }
   ],
   "source": [
    "true_preds = []\n",
    "for i, label in enumerate(imagenette['label']):\n",
    "    if label == preds[i]:\n",
    "        true_preds.append(1)\n",
    "    else:\n",
    "        true_preds.append(0)\n",
    "\n",
    "print(f\"Test acc: {sum(true_preds) / len(true_preds)}\")"
   ]
  },
  {
   "cell_type": "markdown",
   "id": "a9234557-1afc-435d-9145-959e25e093b1",
   "metadata": {},
   "source": [
    "## CIFAR10"
   ]
  },
  {
   "cell_type": "code",
   "execution_count": 22,
   "id": "cf98b146-9a68-4533-a0b2-132284a832c5",
   "metadata": {},
   "outputs": [],
   "source": [
    "from datasets import get_dataset_split_names"
   ]
  },
  {
   "cell_type": "code",
   "execution_count": 23,
   "id": "1048ac44-5274-4022-b75b-4318c4bc31ee",
   "metadata": {},
   "outputs": [],
   "source": [
    "train_data = load_dataset(\"cifar10\", split='train')\n",
    "test_data = load_dataset(\"cifar10\", split='test')"
   ]
  },
  {
   "cell_type": "code",
   "execution_count": 24,
   "id": "2c61e282-ce1d-4e34-b73d-f2e98a57eaf5",
   "metadata": {},
   "outputs": [
    {
     "data": {
      "text/plain": [
       "['airplane',\n",
       " 'automobile',\n",
       " 'bird',\n",
       " 'cat',\n",
       " 'deer',\n",
       " 'dog',\n",
       " 'frog',\n",
       " 'horse',\n",
       " 'ship',\n",
       " 'truck']"
      ]
     },
     "execution_count": 24,
     "metadata": {},
     "output_type": "execute_result"
    }
   ],
   "source": [
    "train_labels = train_data.features['label'].names\n",
    "train_labels"
   ]
  },
  {
   "cell_type": "code",
   "execution_count": 25,
   "id": "c777d156-0a1d-4ad6-b50c-6f4d7fc63692",
   "metadata": {},
   "outputs": [
    {
     "data": {
      "text/plain": [
       "['a photo of a airplane',\n",
       " 'a photo of a automobile',\n",
       " 'a photo of a bird',\n",
       " 'a photo of a cat',\n",
       " 'a photo of a deer',\n",
       " 'a photo of a dog',\n",
       " 'a photo of a frog',\n",
       " 'a photo of a horse',\n",
       " 'a photo of a ship',\n",
       " 'a photo of a truck']"
      ]
     },
     "execution_count": 25,
     "metadata": {},
     "output_type": "execute_result"
    }
   ],
   "source": [
    "# generate sentences\n",
    "clip_labels = [f\"a photo of a {label}\" for label in train_labels]\n",
    "clip_labels"
   ]
  },
  {
   "cell_type": "code",
   "execution_count": 26,
   "id": "e7d3387d-1df9-4b3a-affa-495ea9f8a509",
   "metadata": {},
   "outputs": [
    {
     "data": {
      "text/plain": [
       "tensor([49406,   320,  1125,   539,   320, 16451, 49407], device='cuda:0')"
      ]
     },
     "execution_count": 26,
     "metadata": {},
     "output_type": "execute_result"
    }
   ],
   "source": [
    "# create label tokens\n",
    "label_tokens = processor(\n",
    "    text=clip_labels,\n",
    "    padding=True,\n",
    "    images=None,\n",
    "    return_tensors='pt'\n",
    ").to(device)\n",
    "\n",
    "label_tokens['input_ids'][0][:10]"
   ]
  },
  {
   "cell_type": "code",
   "execution_count": 27,
   "id": "923c433f-76e3-4ed5-acd5-a5af4fd52c66",
   "metadata": {},
   "outputs": [
    {
     "data": {
      "image/jpeg": "[encoded data removed]",
      "image/png": "[encoded data removed]",
      "text/plain": [
       "<PIL.PngImagePlugin.PngImageFile image mode=RGB size=32x32>"
      ]
     },
     "execution_count": 27,
     "metadata": {},
     "output_type": "execute_result"
    }
   ],
   "source": [
    "test_data[0]['img']"
   ]
  },
  {
   "cell_type": "code",
   "execution_count": 28,
   "id": "c13c94f5-a53d-4ee0-a13c-4552de52710a",
   "metadata": {},
   "outputs": [
    {
     "data": {
      "text/plain": [
       "'cat'"
      ]
     },
     "execution_count": 28,
     "metadata": {},
     "output_type": "execute_result"
    }
   ],
   "source": [
    "train_labels[test_data[0]['label']]"
   ]
  },
  {
   "cell_type": "code",
   "execution_count": 29,
   "id": "7a3d06c8-e8cf-43b1-9535-efdc09e4de20",
   "metadata": {},
   "outputs": [
    {
     "data": {
      "text/plain": [
       "(10, 512)"
      ]
     },
     "execution_count": 29,
     "metadata": {},
     "output_type": "execute_result"
    }
   ],
   "source": [
    "# encode tokens to sentence embeddings\n",
    "label_emb = model.get_text_features(**label_tokens)\n",
    "# detach from pytorch gradient computation\n",
    "label_emb = label_emb.detach().cpu().numpy()\n",
    "label_emb.shape"
   ]
  },
  {
   "cell_type": "code",
   "execution_count": 30,
   "id": "20029d51-b6a1-468e-8531-b491be304ed5",
   "metadata": {},
   "outputs": [
    {
     "data": {
      "text/plain": [
       "(-0.819966, 0.9265056)"
      ]
     },
     "execution_count": 30,
     "metadata": {},
     "output_type": "execute_result"
    }
   ],
   "source": [
    "import numpy as np\n",
    "\n",
    "# normalization\n",
    "label_emb = label_emb / np.linalg.norm(label_emb, axis=0)\n",
    "label_emb.min(), label_emb.max()"
   ]
  },
  {
   "cell_type": "code",
   "execution_count": 31,
   "id": "499b4b91-844f-4180-b5b9-ea784866d64f",
   "metadata": {},
   "outputs": [],
   "source": [
    "image = processor(\n",
    "        text=None,\n",
    "        images=test_data[0]['img'],\n",
    "        return_tensors='pt'\n",
    ")['pixel_values'].to(device)"
   ]
  },
  {
   "cell_type": "code",
   "execution_count": 32,
   "id": "6164aad4-9bd5-4c26-8b27-1922b56cc3a1",
   "metadata": {},
   "outputs": [
    {
     "data": {
      "text/plain": [
       "torch.Size([1, 512])"
      ]
     },
     "execution_count": 32,
     "metadata": {},
     "output_type": "execute_result"
    }
   ],
   "source": [
    "img_emb = model.get_image_features(image)\n",
    "img_emb.shape"
   ]
  },
  {
   "cell_type": "code",
   "execution_count": 33,
   "id": "8a63070e-d7da-4a46-9c40-cfdb5feed58c",
   "metadata": {},
   "outputs": [],
   "source": [
    "img_emb = img_emb.detach().cpu().numpy()"
   ]
  },
  {
   "cell_type": "code",
   "execution_count": 34,
   "id": "20232711-cbfa-4194-abaf-c08ba32caec3",
   "metadata": {},
   "outputs": [
    {
     "data": {
      "text/plain": [
       "(1, 10)"
      ]
     },
     "execution_count": 34,
     "metadata": {},
     "output_type": "execute_result"
    }
   ],
   "source": [
    "scores = np.dot(img_emb, label_emb.T)\n",
    "scores.shape"
   ]
  },
  {
   "cell_type": "code",
   "execution_count": 35,
   "id": "aeb77da6-fec8-41a6-9edd-4f082a2b6713",
   "metadata": {},
   "outputs": [
    {
     "data": {
      "text/plain": [
       "3"
      ]
     },
     "execution_count": 35,
     "metadata": {},
     "output_type": "execute_result"
    }
   ],
   "source": [
    "# get index of highest score\n",
    "pred = np.argmax(scores)\n",
    "pred"
   ]
  },
  {
   "cell_type": "code",
   "execution_count": 36,
   "id": "1730f237-e354-4fba-93ba-50e664f4c4c9",
   "metadata": {},
   "outputs": [
    {
     "data": {
      "text/plain": [
       "'cat'"
      ]
     },
     "execution_count": 36,
     "metadata": {},
     "output_type": "execute_result"
    }
   ],
   "source": [
    "train_labels[pred]"
   ]
  },
  {
   "cell_type": "code",
   "execution_count": 37,
   "id": "8251212b-e236-43e4-bd56-8ef20acd6f66",
   "metadata": {},
   "outputs": [
    {
     "data": {
      "application/vnd.jupyter.widget-view+json": {
       "model_id": "45cfca8e55cf4955a31060cb8a53f0fe",
       "version_major": 2,
       "version_minor": 0
      },
      "text/plain": [
       "  0%|          | 0/79 [00:00<?, ?it/s]"
      ]
     },
     "metadata": {},
     "output_type": "display_data"
    }
   ],
   "source": [
    "from tqdm.auto import tqdm\n",
    "\n",
    "preds = []\n",
    "batch_size = 128\n",
    "\n",
    "for i in tqdm(range(0, len(test_data), batch_size)):\n",
    "    i_end = min(i + batch_size, len(test_data))\n",
    "    images = processor(\n",
    "        text=None,\n",
    "        images=test_data[i:i_end]['img'],\n",
    "        return_tensors='pt'\n",
    "    )['pixel_values'].to(device)\n",
    "    img_emb = model.get_image_features(images)\n",
    "    img_emb = img_emb.detach().cpu().numpy()\n",
    "    scores = np.dot(img_emb, label_emb.T)\n",
    "    preds.extend(np.argmax(scores, axis=1))"
   ]
  },
  {
   "cell_type": "code",
   "execution_count": 38,
   "id": "d4337aa6-ba7c-4286-9bd4-dbc772f6bc4f",
   "metadata": {},
   "outputs": [
    {
     "name": "stdout",
     "output_type": "stream",
     "text": [
      "Test acc: 0.8724\n"
     ]
    }
   ],
   "source": [
    "true_preds = []\n",
    "for i, label in enumerate(test_data['label']):\n",
    "    if label == preds[i]:\n",
    "        true_preds.append(1)\n",
    "    else:\n",
    "        true_preds.append(0)\n",
    "\n",
    "print(f\"Test acc: {sum(true_preds) / len(true_preds)}\")"
   ]
  },
  {
   "cell_type": "markdown",
   "id": "9e1464d7-1d61-4c43-8c85-981d70581494",
   "metadata": {},
   "source": [
    "## MNIST"
   ]
  },
  {
   "cell_type": "code",
   "execution_count": 39,
   "id": "56ea77b7-f43f-498e-aa05-283ac976595d",
   "metadata": {},
   "outputs": [],
   "source": [
    "train_data = load_dataset(\"mnist\", split='train')\n",
    "test_data = load_dataset(\"mnist\", split='test')"
   ]
  },
  {
   "cell_type": "code",
   "execution_count": 40,
   "id": "f296156d-183d-4ec5-b598-9b640e1c9c6a",
   "metadata": {},
   "outputs": [],
   "source": [
    "mnist_labels = ['zero', 'one', 'two', 'three', 'four', 'five', 'six', 'seven', 'eight', 'nine']"
   ]
  },
  {
   "cell_type": "code",
   "execution_count": 41,
   "id": "741cd167-dccd-4106-87e0-ae1af7d9effb",
   "metadata": {},
   "outputs": [
    {
     "data": {
      "text/plain": [
       "['0', '1', '2', '3', '4', '5', '6', '7', '8', '9']"
      ]
     },
     "execution_count": 41,
     "metadata": {},
     "output_type": "execute_result"
    }
   ],
   "source": [
    "train_labels = train_data.features['label'].names\n",
    "train_labels\n"
   ]
  },
  {
   "cell_type": "code",
   "execution_count": 42,
   "id": "15cdddcd-0b3a-40f2-b823-1cfd1c9d14e9",
   "metadata": {},
   "outputs": [
    {
     "data": {
      "text/plain": [
       "['a photo of a zero',\n",
       " 'a photo of a one',\n",
       " 'a photo of a two',\n",
       " 'a photo of a three',\n",
       " 'a photo of a four',\n",
       " 'a photo of a five',\n",
       " 'a photo of a six',\n",
       " 'a photo of a seven',\n",
       " 'a photo of a eight',\n",
       " 'a photo of a nine']"
      ]
     },
     "execution_count": 42,
     "metadata": {},
     "output_type": "execute_result"
    }
   ],
   "source": [
    "# generate sentences\n",
    "clip_labels = [f\"a photo of a {label}\" for label in mnist_labels]\n",
    "clip_labels"
   ]
  },
  {
   "cell_type": "code",
   "execution_count": 43,
   "id": "babecefd-8b08-4911-a005-8682275d52af",
   "metadata": {},
   "outputs": [
    {
     "data": {
      "text/plain": [
       "tensor([49406,   320,  1125,   539,   320,  5848, 49407], device='cuda:0')"
      ]
     },
     "execution_count": 43,
     "metadata": {},
     "output_type": "execute_result"
    }
   ],
   "source": [
    "# create label tokens\n",
    "label_tokens = processor(\n",
    "    text=clip_labels,\n",
    "    padding=True,\n",
    "    images=None,\n",
    "    return_tensors='pt'\n",
    ").to(device)\n",
    "\n",
    "label_tokens['input_ids'][0][:10]"
   ]
  },
  {
   "cell_type": "code",
   "execution_count": 44,
   "id": "c8aedd65-97cb-4358-ae53-e23dab6590e0",
   "metadata": {},
   "outputs": [
    {
     "data": {
      "image/jpeg": "[encoded data removed]",
      "image/png": "[encoded data removed]",
      "text/plain": [
       "<PIL.PngImagePlugin.PngImageFile image mode=L size=28x28>"
      ]
     },
     "execution_count": 44,
     "metadata": {},
     "output_type": "execute_result"
    }
   ],
   "source": [
    "test_data[0]['image']"
   ]
  },
  {
   "cell_type": "code",
   "execution_count": 45,
   "id": "ca71192c-cce4-4494-afae-61519dd07942",
   "metadata": {},
   "outputs": [
    {
     "data": {
      "text/plain": [
       "'7'"
      ]
     },
     "execution_count": 45,
     "metadata": {},
     "output_type": "execute_result"
    }
   ],
   "source": [
    "train_labels[test_data[0]['label']]"
   ]
  },
  {
   "cell_type": "code",
   "execution_count": 46,
   "id": "fb8bbd39-a3ee-4167-8bc1-08be49afc139",
   "metadata": {},
   "outputs": [
    {
     "data": {
      "text/plain": [
       "(10, 512)"
      ]
     },
     "execution_count": 46,
     "metadata": {},
     "output_type": "execute_result"
    }
   ],
   "source": [
    "# encode tokens to sentence embeddings\n",
    "label_emb = model.get_text_features(**label_tokens)\n",
    "# detach from pytorch gradient computation\n",
    "label_emb = label_emb.detach().cpu().numpy()\n",
    "label_emb.shape"
   ]
  },
  {
   "cell_type": "code",
   "execution_count": 47,
   "id": "7bfefc1c-b739-4d78-ba51-ac624634241d",
   "metadata": {},
   "outputs": [
    {
     "data": {
      "text/plain": [
       "(-0.8639847, 0.9492535)"
      ]
     },
     "execution_count": 47,
     "metadata": {},
     "output_type": "execute_result"
    }
   ],
   "source": [
    "import numpy as np\n",
    "\n",
    "# normalization\n",
    "label_emb = label_emb / np.linalg.norm(label_emb, axis=0)\n",
    "label_emb.min(), label_emb.max()"
   ]
  },
  {
   "cell_type": "code",
   "execution_count": 48,
   "id": "8e51f7a1-9ffc-421d-995c-a1ff8fe20e6e",
   "metadata": {},
   "outputs": [],
   "source": [
    "image = processor(\n",
    "        text=None,\n",
    "        images=test_data[0]['image'],\n",
    "        return_tensors='pt'\n",
    ")['pixel_values'].to(device)"
   ]
  },
  {
   "cell_type": "code",
   "execution_count": 49,
   "id": "be2c98c1-f018-4195-a715-d2bc428fac1c",
   "metadata": {},
   "outputs": [
    {
     "data": {
      "text/plain": [
       "torch.Size([1, 512])"
      ]
     },
     "execution_count": 49,
     "metadata": {},
     "output_type": "execute_result"
    }
   ],
   "source": [
    "img_emb = model.get_image_features(image)\n",
    "img_emb.shape"
   ]
  },
  {
   "cell_type": "code",
   "execution_count": 50,
   "id": "31290a42-bb06-4f11-be9e-ca05dd1f6835",
   "metadata": {},
   "outputs": [],
   "source": [
    "img_emb = img_emb.detach().cpu().numpy()"
   ]
  },
  {
   "cell_type": "code",
   "execution_count": 51,
   "id": "84f56345-7d1c-409c-9c2b-9eaff1461317",
   "metadata": {},
   "outputs": [
    {
     "data": {
      "text/plain": [
       "(1, 10)"
      ]
     },
     "execution_count": 51,
     "metadata": {},
     "output_type": "execute_result"
    }
   ],
   "source": [
    "scores = np.dot(img_emb, label_emb.T)\n",
    "scores.shape"
   ]
  },
  {
   "cell_type": "code",
   "execution_count": 52,
   "id": "65b64143-8988-47cc-bd00-c1053b84449d",
   "metadata": {},
   "outputs": [
    {
     "data": {
      "text/plain": [
       "7"
      ]
     },
     "execution_count": 52,
     "metadata": {},
     "output_type": "execute_result"
    }
   ],
   "source": [
    "# get index of highest score\n",
    "pred = np.argmax(scores)\n",
    "pred"
   ]
  },
  {
   "cell_type": "code",
   "execution_count": 53,
   "id": "0849fea8-a32d-481a-bd0a-84612e1049fc",
   "metadata": {},
   "outputs": [
    {
     "data": {
      "text/plain": [
       "'7'"
      ]
     },
     "execution_count": 53,
     "metadata": {},
     "output_type": "execute_result"
    }
   ],
   "source": [
    "train_labels[pred]"
   ]
  },
  {
   "cell_type": "code",
   "execution_count": 54,
   "id": "a2a76829-733f-4b01-9692-f733fad45990",
   "metadata": {},
   "outputs": [
    {
     "data": {
      "application/vnd.jupyter.widget-view+json": {
       "model_id": "7413eaa2319a4ed98ffc944c7143bd02",
       "version_major": 2,
       "version_minor": 0
      },
      "text/plain": [
       "  0%|          | 0/79 [00:00<?, ?it/s]"
      ]
     },
     "metadata": {},
     "output_type": "display_data"
    }
   ],
   "source": [
    "from tqdm.auto import tqdm\n",
    "\n",
    "preds = []\n",
    "batch_size = 128\n",
    "\n",
    "for i in tqdm(range(0, len(test_data), batch_size)):\n",
    "    i_end = min(i + batch_size, len(test_data))\n",
    "    images = processor(\n",
    "        text=None,\n",
    "        images=test_data[i:i_end]['image'],\n",
    "        return_tensors='pt'\n",
    "    )['pixel_values'].to(device)\n",
    "    img_emb = model.get_image_features(images)\n",
    "    img_emb = img_emb.detach().cpu().numpy()\n",
    "    scores = np.dot(img_emb, label_emb.T)\n",
    "    preds.extend(np.argmax(scores, axis=1))"
   ]
  },
  {
   "cell_type": "code",
   "execution_count": 55,
   "id": "95c431b7-de8e-46e1-94d5-0b7aa1401fe3",
   "metadata": {},
   "outputs": [
    {
     "name": "stdout",
     "output_type": "stream",
     "text": [
      "Test acc: 0.185\n"
     ]
    }
   ],
   "source": [
    "true_preds = []\n",
    "for i, label in enumerate(test_data['label']):\n",
    "    if label == preds[i]:\n",
    "        true_preds.append(1)\n",
    "    else:\n",
    "        true_preds.append(0)\n",
    "\n",
    "print(f\"Test acc: {sum(true_preds) / len(true_preds)}\")"
   ]
  },
  {
   "cell_type": "markdown",
   "id": "827012aa-b844-46b1-8b32-2d20845ce5d2",
   "metadata": {},
   "source": [
    "## FASHION MNIST"
   ]
  },
  {
   "cell_type": "code",
   "execution_count": 56,
   "id": "f68fb244-e8c7-4a52-9122-10d5e476ccaf",
   "metadata": {},
   "outputs": [],
   "source": [
    "train_data = load_dataset(\"fashion_mnist\", split='train')\n",
    "test_data = load_dataset(\"fashion_mnist\", split='test')"
   ]
  },
  {
   "cell_type": "code",
   "execution_count": 57,
   "id": "ac1a0332-ccc1-4ac8-bbb1-af0bc4a0228f",
   "metadata": {},
   "outputs": [
    {
     "data": {
      "text/plain": [
       "['T - shirt / top',\n",
       " 'Trouser',\n",
       " 'Pullover',\n",
       " 'Dress',\n",
       " 'Coat',\n",
       " 'Sandal',\n",
       " 'Shirt',\n",
       " 'Sneaker',\n",
       " 'Bag',\n",
       " 'Ankle boot']"
      ]
     },
     "execution_count": 57,
     "metadata": {},
     "output_type": "execute_result"
    }
   ],
   "source": [
    "train_labels = train_data.features['label'].names\n",
    "train_labels\n"
   ]
  },
  {
   "cell_type": "code",
   "execution_count": 58,
   "id": "fdd56fbc-cba1-400f-acb7-431c91b64bd2",
   "metadata": {},
   "outputs": [
    {
     "data": {
      "text/plain": [
       "['a photo of a T - shirt / top',\n",
       " 'a photo of a Trouser',\n",
       " 'a photo of a Pullover',\n",
       " 'a photo of a Dress',\n",
       " 'a photo of a Coat',\n",
       " 'a photo of a Sandal',\n",
       " 'a photo of a Shirt',\n",
       " 'a photo of a Sneaker',\n",
       " 'a photo of a Bag',\n",
       " 'a photo of a Ankle boot']"
      ]
     },
     "execution_count": 58,
     "metadata": {},
     "output_type": "execute_result"
    }
   ],
   "source": [
    "# generate sentences\n",
    "clip_labels = [f\"a photo of a {label}\" for label in train_labels]\n",
    "clip_labels"
   ]
  },
  {
   "cell_type": "code",
   "execution_count": 59,
   "id": "85f4e8fa-5ed2-4aa9-a482-3ee916806cf1",
   "metadata": {},
   "outputs": [
    {
     "data": {
      "text/plain": [
       "tensor([49406,   320,  1125,   539,   320,   339,   268,  2523,   270,  1253],\n",
       "       device='cuda:0')"
      ]
     },
     "execution_count": 59,
     "metadata": {},
     "output_type": "execute_result"
    }
   ],
   "source": [
    "# create label tokens\n",
    "label_tokens = processor(\n",
    "    text=clip_labels,\n",
    "    padding=True,\n",
    "    images=None,\n",
    "    return_tensors='pt'\n",
    ").to(device)\n",
    "\n",
    "label_tokens['input_ids'][0][:10]"
   ]
  },
  {
   "cell_type": "code",
   "execution_count": 60,
   "id": "9df320fb-f3cf-4cb5-87dd-60e34cceb24c",
   "metadata": {},
   "outputs": [
    {
     "data": {
      "image/jpeg": "[encoded data removed]",
      "image/png": "[encoded data removed]",
      "text/plain": [
       "<PIL.PngImagePlugin.PngImageFile image mode=L size=28x28>"
      ]
     },
     "execution_count": 60,
     "metadata": {},
     "output_type": "execute_result"
    }
   ],
   "source": [
    "test_data[0]['image']"
   ]
  },
  {
   "cell_type": "code",
   "execution_count": 61,
   "id": "32f4af69-1752-4200-a827-535769074e89",
   "metadata": {},
   "outputs": [
    {
     "data": {
      "text/plain": [
       "'Ankle boot'"
      ]
     },
     "execution_count": 61,
     "metadata": {},
     "output_type": "execute_result"
    }
   ],
   "source": [
    "train_labels[test_data[0]['label']]"
   ]
  },
  {
   "cell_type": "code",
   "execution_count": 62,
   "id": "0846a090-c890-49aa-95aa-712d1a083c63",
   "metadata": {},
   "outputs": [
    {
     "data": {
      "text/plain": [
       "(10, 512)"
      ]
     },
     "execution_count": 62,
     "metadata": {},
     "output_type": "execute_result"
    }
   ],
   "source": [
    "# encode tokens to sentence embeddings\n",
    "label_emb = model.get_text_features(**label_tokens)\n",
    "# detach from pytorch gradient computation\n",
    "label_emb = label_emb.detach().cpu().numpy()\n",
    "label_emb.shape"
   ]
  },
  {
   "cell_type": "code",
   "execution_count": 63,
   "id": "6e96da87-4224-4245-a4a8-b637d3245b84",
   "metadata": {},
   "outputs": [
    {
     "data": {
      "text/plain": [
       "(-0.82189494, 0.8578639)"
      ]
     },
     "execution_count": 63,
     "metadata": {},
     "output_type": "execute_result"
    }
   ],
   "source": [
    "import numpy as np\n",
    "\n",
    "# normalization\n",
    "label_emb = label_emb / np.linalg.norm(label_emb, axis=0)\n",
    "label_emb.min(), label_emb.max()"
   ]
  },
  {
   "cell_type": "code",
   "execution_count": 64,
   "id": "4332e9e6-5a81-43de-af28-45abc28ba2ee",
   "metadata": {},
   "outputs": [],
   "source": [
    "image = processor(\n",
    "        text=None,\n",
    "        images=test_data[0]['image'],\n",
    "        return_tensors='pt'\n",
    ")['pixel_values'].to(device)"
   ]
  },
  {
   "cell_type": "code",
   "execution_count": 65,
   "id": "800e803d-1cb7-426d-b49d-dcdb0232650e",
   "metadata": {},
   "outputs": [
    {
     "data": {
      "text/plain": [
       "torch.Size([1, 512])"
      ]
     },
     "execution_count": 65,
     "metadata": {},
     "output_type": "execute_result"
    }
   ],
   "source": [
    "img_emb = model.get_image_features(image)\n",
    "img_emb.shape"
   ]
  },
  {
   "cell_type": "code",
   "execution_count": 66,
   "id": "970a6970-423c-4edc-ad5a-b89f3532ef21",
   "metadata": {},
   "outputs": [],
   "source": [
    "img_emb = img_emb.detach().cpu().numpy()"
   ]
  },
  {
   "cell_type": "code",
   "execution_count": 67,
   "id": "acfa9d1f-342c-40a8-aebd-978d1dc56b48",
   "metadata": {},
   "outputs": [
    {
     "data": {
      "text/plain": [
       "(1, 10)"
      ]
     },
     "execution_count": 67,
     "metadata": {},
     "output_type": "execute_result"
    }
   ],
   "source": [
    "scores = np.dot(img_emb, label_emb.T)\n",
    "scores.shape"
   ]
  },
  {
   "cell_type": "code",
   "execution_count": 68,
   "id": "b36a10a8-e0e9-468d-b557-75ae49310629",
   "metadata": {},
   "outputs": [
    {
     "data": {
      "text/plain": [
       "7"
      ]
     },
     "execution_count": 68,
     "metadata": {},
     "output_type": "execute_result"
    }
   ],
   "source": [
    "# get index of highest score\n",
    "pred = np.argmax(scores)\n",
    "pred"
   ]
  },
  {
   "cell_type": "code",
   "execution_count": 69,
   "id": "751e0036-e2b4-49ee-bd82-708a85e964f0",
   "metadata": {},
   "outputs": [
    {
     "data": {
      "text/plain": [
       "'Sneaker'"
      ]
     },
     "execution_count": 69,
     "metadata": {},
     "output_type": "execute_result"
    }
   ],
   "source": [
    "train_labels[pred]"
   ]
  },
  {
   "cell_type": "code",
   "execution_count": 70,
   "id": "5bf033db-eb8e-491c-af86-b8e987ba4936",
   "metadata": {},
   "outputs": [
    {
     "data": {
      "application/vnd.jupyter.widget-view+json": {
       "model_id": "1d80774076e94a028f05ffc39c322e67",
       "version_major": 2,
       "version_minor": 0
      },
      "text/plain": [
       "  0%|          | 0/79 [00:00<?, ?it/s]"
      ]
     },
     "metadata": {},
     "output_type": "display_data"
    }
   ],
   "source": [
    "from tqdm.auto import tqdm\n",
    "\n",
    "preds = []\n",
    "batch_size = 128\n",
    "\n",
    "for i in tqdm(range(0, len(test_data), batch_size)):\n",
    "    i_end = min(i + batch_size, len(test_data))\n",
    "    images = processor(\n",
    "        text=None,\n",
    "        images=test_data[i:i_end]['image'],\n",
    "        return_tensors='pt'\n",
    "    )['pixel_values'].to(device)\n",
    "    img_emb = model.get_image_features(images)\n",
    "    img_emb = img_emb.detach().cpu().numpy()\n",
    "    scores = np.dot(img_emb, label_emb.T)\n",
    "    preds.extend(np.argmax(scores, axis=1))"
   ]
  },
  {
   "cell_type": "code",
   "execution_count": 71,
   "id": "50883ce3-086d-4d2e-a234-faf620c2c337",
   "metadata": {},
   "outputs": [
    {
     "name": "stdout",
     "output_type": "stream",
     "text": [
      "Test acc: 0.602\n"
     ]
    }
   ],
   "source": [
    "true_preds = []\n",
    "for i, label in enumerate(test_data['label']):\n",
    "    if label == preds[i]:\n",
    "        true_preds.append(1)\n",
    "    else:\n",
    "        true_preds.append(0)\n",
    "\n",
    "print(f\"Test acc: {sum(true_preds) / len(true_preds)}\")"
   ]
  },
  {
   "cell_type": "code",
   "execution_count": null,
   "id": "1baeadfc-9448-4427-814d-81d6b75cecfe",
   "metadata": {},
   "outputs": [],
   "source": []
  }
 ],
 "metadata": {
  "kernelspec": {
   "display_name": "Python 3 (ipykernel)",
   "language": "python",
   "name": "python3"
  },
  "language_info": {
   "codemirror_mode": {
    "name": "ipython",
    "version": 3
   },
   "file_extension": ".py",
   "mimetype": "text/x-python",
   "name": "python",
   "nbconvert_exporter": "python",
   "pygments_lexer": "ipython3",
   "version": "3.10.13"
  }
 },
 "nbformat": 4,
 "nbformat_minor": 5
}
