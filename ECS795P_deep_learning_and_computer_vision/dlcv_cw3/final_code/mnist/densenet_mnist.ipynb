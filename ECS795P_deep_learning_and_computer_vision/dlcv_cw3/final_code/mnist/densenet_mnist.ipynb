{
 "cells": [
  {
   "cell_type": "code",
   "execution_count": 1,
   "metadata": {
    "colab": {
     "autoexec": {
      "startup": false,
      "wait_interval": 0
     }
    },
    "colab_type": "code",
    "id": "ORj09gnrj5wp"
   },
   "outputs": [],
   "source": [
    "import os\n",
    "import time\n",
    "\n",
    "import numpy as np\n",
    "import pandas as pd\n",
    "\n",
    "import torch\n",
    "import torch.nn as nn\n",
    "import torch.nn.functional as F\n",
    "from torch.utils.data import DataLoader\n",
    "from torch.utils.data.dataset import Subset\n",
    "\n",
    "from torchvision import datasets\n",
    "from torchvision import transforms\n",
    "\n",
    "import matplotlib.pyplot as plt\n",
    "from PIL import Image\n",
    "\n",
    "\n",
    "if torch.cuda.is_available():\n",
    "    torch.backends.cudnn.deterministic = True\n",
    "\n",
    "from torchsummary import summary"
   ]
  },
  {
   "cell_type": "code",
   "execution_count": 2,
   "metadata": {},
   "outputs": [],
   "source": [
    "import matplotlib.pyplot as plt\n",
    "%matplotlib inline"
   ]
  },
  {
   "cell_type": "markdown",
   "metadata": {
    "colab_type": "text",
    "id": "I6hghKPxj5w0"
   },
   "source": [
    "## Model Settings"
   ]
  },
  {
   "cell_type": "code",
   "execution_count": 3,
   "metadata": {
    "colab": {
     "autoexec": {
      "startup": false,
      "wait_interval": 0
     },
     "base_uri": "https://localhost:8080/",
     "height": 85
    },
    "colab_type": "code",
    "executionInfo": {
     "elapsed": 23936,
     "status": "ok",
     "timestamp": 1524974497505,
     "user": {
      "displayName": "Sebastian Raschka",
      "photoUrl": "//lh6.googleusercontent.com/-cxK6yOSQ6uE/AAAAAAAAAAI/AAAAAAAAIfw/P9ar_CHsKOQ/s50-c-k-no/photo.jpg",
      "userId": "118404394130788869227"
     },
     "user_tz": 240
    },
    "id": "NnT0sZIwj5wu",
    "outputId": "55aed925-d17e-4c6a-8c71-0d9b3bde5637"
   },
   "outputs": [],
   "source": [
    "##########################\n",
    "### SETTINGS\n",
    "##########################\n",
    "\n",
    "# Hyperparameters\n",
    "RANDOM_SEED = 1\n",
    "LEARNING_RATE = 0.0001\n",
    "BATCH_SIZE = 128\n",
    "NUM_EPOCHS = 10\n",
    "\n",
    "# Architecture\n",
    "NUM_CLASSES = 10\n",
    "\n",
    "# Other\n",
    "DEVICE = \"cuda:0\"\n",
    "GRAYSCALE = True"
   ]
  },
  {
   "cell_type": "markdown",
   "metadata": {},
   "source": [
    "### MNIST Dataset"
   ]
  },
  {
   "cell_type": "code",
   "execution_count": 4,
   "metadata": {},
   "outputs": [
    {
     "name": "stdout",
     "output_type": "stream",
     "text": [
      "Downloading http://yann.lecun.com/exdb/mnist/train-images-idx3-ubyte.gz\n",
      "Failed to download (trying next):\n",
      "HTTP Error 403: Forbidden\n",
      "\n",
      "Downloading https://ossci-datasets.s3.amazonaws.com/mnist/train-images-idx3-ubyte.gz\n",
      "Downloading https://ossci-datasets.s3.amazonaws.com/mnist/train-images-idx3-ubyte.gz to ./data/MNIST/raw/train-images-idx3-ubyte.gz\n"
     ]
    },
    {
     "name": "stderr",
     "output_type": "stream",
     "text": [
      "100%|██████████| 9912422/9912422 [00:01<00:00, 9146327.57it/s] \n"
     ]
    },
    {
     "name": "stdout",
     "output_type": "stream",
     "text": [
      "Extracting ./data/MNIST/raw/train-images-idx3-ubyte.gz to ./data/MNIST/raw\n",
      "\n",
      "Downloading http://yann.lecun.com/exdb/mnist/train-labels-idx1-ubyte.gz\n",
      "Failed to download (trying next):\n",
      "HTTP Error 403: Forbidden\n",
      "\n",
      "Downloading https://ossci-datasets.s3.amazonaws.com/mnist/train-labels-idx1-ubyte.gz\n",
      "Downloading https://ossci-datasets.s3.amazonaws.com/mnist/train-labels-idx1-ubyte.gz to ./data/MNIST/raw/train-labels-idx1-ubyte.gz\n"
     ]
    },
    {
     "name": "stderr",
     "output_type": "stream",
     "text": [
      "100%|██████████| 28881/28881 [00:00<00:00, 335252.26it/s]\n"
     ]
    },
    {
     "name": "stdout",
     "output_type": "stream",
     "text": [
      "Extracting ./data/MNIST/raw/train-labels-idx1-ubyte.gz to ./data/MNIST/raw\n",
      "\n",
      "Downloading http://yann.lecun.com/exdb/mnist/t10k-images-idx3-ubyte.gz\n",
      "Failed to download (trying next):\n",
      "HTTP Error 403: Forbidden\n",
      "\n",
      "Downloading https://ossci-datasets.s3.amazonaws.com/mnist/t10k-images-idx3-ubyte.gz\n",
      "Downloading https://ossci-datasets.s3.amazonaws.com/mnist/t10k-images-idx3-ubyte.gz to ./data/MNIST/raw/t10k-images-idx3-ubyte.gz\n"
     ]
    },
    {
     "name": "stderr",
     "output_type": "stream",
     "text": [
      "100%|██████████| 1648877/1648877 [00:00<00:00, 1899312.71it/s]\n"
     ]
    },
    {
     "name": "stdout",
     "output_type": "stream",
     "text": [
      "Extracting ./data/MNIST/raw/t10k-images-idx3-ubyte.gz to ./data/MNIST/raw\n",
      "\n",
      "Downloading http://yann.lecun.com/exdb/mnist/t10k-labels-idx1-ubyte.gz\n",
      "Failed to download (trying next):\n",
      "HTTP Error 403: Forbidden\n",
      "\n",
      "Downloading https://ossci-datasets.s3.amazonaws.com/mnist/t10k-labels-idx1-ubyte.gz\n",
      "Downloading https://ossci-datasets.s3.amazonaws.com/mnist/t10k-labels-idx1-ubyte.gz to ./data/MNIST/raw/t10k-labels-idx1-ubyte.gz\n"
     ]
    },
    {
     "name": "stderr",
     "output_type": "stream",
     "text": [
      "100%|██████████| 4542/4542 [00:00<00:00, 1122005.35it/s]"
     ]
    },
    {
     "name": "stdout",
     "output_type": "stream",
     "text": [
      "Extracting ./data/MNIST/raw/t10k-labels-idx1-ubyte.gz to ./data/MNIST/raw\n",
      "\n"
     ]
    },
    {
     "name": "stderr",
     "output_type": "stream",
     "text": [
      "\n"
     ]
    }
   ],
   "source": [
    "train_indices = torch.arange(0, 59000)\n",
    "valid_indices = torch.arange(59000, 60000)\n",
    "\n",
    "resize_transform = transforms.Compose([transforms.Resize((32, 32)),\n",
    "                                       transforms.ToTensor()])\n",
    "\n",
    "\n",
    "train_and_valid = datasets.MNIST(root='./data', \n",
    "                                 train=True, \n",
    "                                 transform=resize_transform,\n",
    "                                 download=True)\n",
    "\n",
    "test_dataset = datasets.MNIST(root='./data', \n",
    "                              train=False, \n",
    "                              transform=resize_transform,\n",
    "                              download=True)\n",
    "\n",
    "train_dataset = Subset(train_and_valid, train_indices)\n",
    "valid_dataset = Subset(train_and_valid, valid_indices)\n",
    "\n",
    "train_loader = DataLoader(dataset=train_dataset, \n",
    "                          batch_size=BATCH_SIZE,\n",
    "                          num_workers=4,\n",
    "                          shuffle=True)\n",
    "\n",
    "valid_loader = DataLoader(dataset=valid_dataset, \n",
    "                          batch_size=BATCH_SIZE,\n",
    "                          num_workers=4,\n",
    "                          shuffle=False)\n",
    "\n",
    "test_loader = DataLoader(dataset=test_dataset, \n",
    "                         batch_size=BATCH_SIZE,\n",
    "                         num_workers=4,\n",
    "                         shuffle=False)"
   ]
  },
  {
   "cell_type": "code",
   "execution_count": null,
   "metadata": {},
   "outputs": [
    {
     "name": "stdout",
     "output_type": "stream",
     "text": [
      "tensor([3, 0, 1, 7, 9, 8, 4, 4, 0, 5])\n",
      "tensor([9, 9, 9, 3, 8, 1, 5, 1, 6, 7])\n"
     ]
    }
   ],
   "source": [
    "# Check that shuffling works properly\n",
    "# i.e., label indices should be in random order.\n",
    "# Also, the label order should be different in the second\n",
    "# epoch.\n",
    "\n",
    "for images, labels in train_loader:  \n",
    "    pass\n",
    "print(labels[:10])\n",
    "\n",
    "for images, labels in train_loader:  \n",
    "    pass\n",
    "print(labels[:10])"
   ]
  },
  {
   "cell_type": "code",
   "execution_count": null,
   "metadata": {},
   "outputs": [
    {
     "name": "stdout",
     "output_type": "stream",
     "text": [
      "tensor([2, 2, 0, 9, 4, 0, 1, 2, 3, 4])\n",
      "tensor([1, 2, 3, 4, 5, 6, 7, 8, 9, 0])\n"
     ]
    }
   ],
   "source": [
    "# Check that validation set and test sets are diverse\n",
    "# i.e., that they contain all classes\n",
    "\n",
    "for images, labels in valid_loader:  \n",
    "    pass\n",
    "print(labels[:10])\n",
    "\n",
    "for images, labels in test_loader:  \n",
    "    pass\n",
    "print(labels[:10])"
   ]
  },
  {
   "cell_type": "code",
   "execution_count": 7,
   "metadata": {},
   "outputs": [],
   "source": [
    "##########################\n",
    "### MODEL\n",
    "##########################\n",
    "\n",
    "# The following code cell that implements the DenseNet-121 architecture \n",
    "# is a derivative of the code provided at \n",
    "# https://github.com/pytorch/vision/blob/master/torchvision/models/densenet.py\n",
    "\n",
    "import re\n",
    "import torch\n",
    "import torch.nn as nn\n",
    "import torch.nn.functional as F\n",
    "import torch.utils.checkpoint as cp\n",
    "from collections import OrderedDict\n",
    "\n",
    "\n",
    "\n",
    "def _bn_function_factory(norm, relu, conv):\n",
    "    def bn_function(*inputs):\n",
    "        concated_features = torch.cat(inputs, 1)\n",
    "        bottleneck_output = conv(relu(norm(concated_features)))\n",
    "        return bottleneck_output\n",
    "\n",
    "    return bn_function\n",
    "\n",
    "\n",
    "class _DenseLayer(nn.Sequential):\n",
    "    def __init__(self, num_input_features, growth_rate, bn_size, drop_rate, memory_efficient=False):\n",
    "        super(_DenseLayer, self).__init__()\n",
    "        self.add_module('norm1', nn.BatchNorm2d(num_input_features)),\n",
    "        self.add_module('relu1', nn.ReLU(inplace=True)),\n",
    "        self.add_module('conv1', nn.Conv2d(num_input_features, bn_size *\n",
    "                                           growth_rate, kernel_size=1, stride=1,\n",
    "                                           bias=False)),\n",
    "        self.add_module('norm2', nn.BatchNorm2d(bn_size * growth_rate)),\n",
    "        self.add_module('relu2', nn.ReLU(inplace=True)),\n",
    "        self.add_module('conv2', nn.Conv2d(bn_size * growth_rate, growth_rate,\n",
    "                                           kernel_size=3, stride=1, padding=1,\n",
    "                                           bias=False)),\n",
    "        self.drop_rate = drop_rate\n",
    "        self.memory_efficient = memory_efficient\n",
    "\n",
    "    def forward(self, *prev_features):\n",
    "        bn_function = _bn_function_factory(self.norm1, self.relu1, self.conv1)\n",
    "        if self.memory_efficient and any(prev_feature.requires_grad for prev_feature in prev_features):\n",
    "            bottleneck_output = cp.checkpoint(bn_function, *prev_features)\n",
    "        else:\n",
    "            bottleneck_output = bn_function(*prev_features)\n",
    "        new_features = self.conv2(self.relu2(self.norm2(bottleneck_output)))\n",
    "        if self.drop_rate > 0:\n",
    "            new_features = F.dropout(new_features, p=self.drop_rate,\n",
    "                                     training=self.training)\n",
    "        return new_features\n",
    "\n",
    "\n",
    "class _DenseBlock(nn.Module):\n",
    "    def __init__(self, num_layers, num_input_features, bn_size, growth_rate, drop_rate, memory_efficient=False):\n",
    "        super(_DenseBlock, self).__init__()\n",
    "        for i in range(num_layers):\n",
    "            layer = _DenseLayer(\n",
    "                num_input_features + i * growth_rate,\n",
    "                growth_rate=growth_rate,\n",
    "                bn_size=bn_size,\n",
    "                drop_rate=drop_rate,\n",
    "                memory_efficient=memory_efficient,\n",
    "            )\n",
    "            self.add_module('denselayer%d' % (i + 1), layer)\n",
    "\n",
    "    def forward(self, init_features):\n",
    "        features = [init_features]\n",
    "        for name, layer in self.named_children():\n",
    "            new_features = layer(*features)\n",
    "            features.append(new_features)\n",
    "        return torch.cat(features, 1)\n",
    "\n",
    "\n",
    "class _Transition(nn.Sequential):\n",
    "    def __init__(self, num_input_features, num_output_features):\n",
    "        super(_Transition, self).__init__()\n",
    "        self.add_module('norm', nn.BatchNorm2d(num_input_features))\n",
    "        self.add_module('relu', nn.ReLU(inplace=True))\n",
    "        self.add_module('conv', nn.Conv2d(num_input_features, num_output_features,\n",
    "                                          kernel_size=1, stride=1, bias=False))\n",
    "        self.add_module('pool', nn.AvgPool2d(kernel_size=2, stride=2))\n",
    "\n",
    "\n",
    "class DenseNet121(nn.Module):\n",
    "    r\"\"\"Densenet-BC model class, based on\n",
    "    `\"Densely Connected Convolutional Networks\" <https://arxiv.org/pdf/1608.06993.pdf>`_\n",
    "\n",
    "    Args:\n",
    "        growth_rate (int) - how many filters to add each layer (`k` in paper)\n",
    "        block_config (list of 4 ints) - how many layers in each pooling block\n",
    "        num_init_featuremaps (int) - the number of filters to learn in the first convolution layer\n",
    "        bn_size (int) - multiplicative factor for number of bottle neck layers\n",
    "          (i.e. bn_size * k features in the bottleneck layer)\n",
    "        drop_rate (float) - dropout rate after each dense layer\n",
    "        num_classes (int) - number of classification classes\n",
    "        memory_efficient (bool) - If True, uses checkpointing. Much more memory efficient,\n",
    "          but slower. Default: *False*. See `\"paper\" <https://arxiv.org/pdf/1707.06990.pdf>`_\n",
    "    \"\"\"\n",
    "\n",
    "    def __init__(self, growth_rate=32, block_config=(6, 12, 24, 16),\n",
    "                 num_init_featuremaps=64, bn_size=4, drop_rate=0, num_classes=1000, memory_efficient=False,\n",
    "                 grayscale=False):\n",
    "\n",
    "        super(DenseNet121, self).__init__()\n",
    "\n",
    "        # First convolution\n",
    "        if grayscale:\n",
    "            in_channels=1\n",
    "        else:\n",
    "            in_channels=3\n",
    "        \n",
    "        self.features = nn.Sequential(OrderedDict([\n",
    "            ('conv0', nn.Conv2d(in_channels=in_channels, out_channels=num_init_featuremaps,\n",
    "                                kernel_size=7, stride=2,\n",
    "                                padding=3, bias=False)), # bias is redundant when using batchnorm\n",
    "            ('norm0', nn.BatchNorm2d(num_features=num_init_featuremaps)),\n",
    "            ('relu0', nn.ReLU(inplace=True)),\n",
    "            ('pool0', nn.MaxPool2d(kernel_size=3, stride=2, padding=1)),\n",
    "        ]))\n",
    "\n",
    "        # Each denseblock\n",
    "        num_features = num_init_featuremaps\n",
    "        for i, num_layers in enumerate(block_config):\n",
    "            block = _DenseBlock(\n",
    "                num_layers=num_layers,\n",
    "                num_input_features=num_features,\n",
    "                bn_size=bn_size,\n",
    "                growth_rate=growth_rate,\n",
    "                drop_rate=drop_rate,\n",
    "                memory_efficient=memory_efficient\n",
    "            )\n",
    "            self.features.add_module('denseblock%d' % (i + 1), block)\n",
    "            num_features = num_features + num_layers * growth_rate\n",
    "            if i != len(block_config) - 1:\n",
    "                trans = _Transition(num_input_features=num_features,\n",
    "                                    num_output_features=num_features // 2)\n",
    "                self.features.add_module('transition%d' % (i + 1), trans)\n",
    "                num_features = num_features // 2\n",
    "\n",
    "        # Final batch norm\n",
    "        self.features.add_module('norm5', nn.BatchNorm2d(num_features))\n",
    "\n",
    "        # Linear layer\n",
    "        self.classifier = nn.Linear(num_features, num_classes)\n",
    "\n",
    "        # Official init from torch repo.\n",
    "        for m in self.modules():\n",
    "            if isinstance(m, nn.Conv2d):\n",
    "                nn.init.kaiming_normal_(m.weight)\n",
    "            elif isinstance(m, nn.BatchNorm2d):\n",
    "                nn.init.constant_(m.weight, 1)\n",
    "                nn.init.constant_(m.bias, 0)\n",
    "            elif isinstance(m, nn.Linear):\n",
    "                nn.init.constant_(m.bias, 0)\n",
    "\n",
    "    def forward(self, x):\n",
    "        features = self.features(x)\n",
    "        out = F.relu(features, inplace=True)\n",
    "        out = F.adaptive_avg_pool2d(out, (1, 1))\n",
    "        out = torch.flatten(out, 1)\n",
    "        logits = self.classifier(out)\n",
    "        probas = F.softmax(logits, dim=1)\n",
    "        return logits, probas"
   ]
  },
  {
   "cell_type": "code",
   "execution_count": 9,
   "metadata": {
    "colab": {
     "autoexec": {
      "startup": false,
      "wait_interval": 0
     }
    },
    "colab_type": "code",
    "id": "_lza9t_uj5w1"
   },
   "outputs": [],
   "source": [
    "torch.manual_seed(RANDOM_SEED)\n",
    "\n",
    "model = DenseNet121(num_classes=NUM_CLASSES, grayscale=GRAYSCALE)\n",
    "model.to(DEVICE)\n",
    "\n",
    "optimizer = torch.optim.Adam(model.parameters(), lr=LEARNING_RATE)  "
   ]
  },
  {
   "cell_type": "code",
   "execution_count": 11,
   "metadata": {},
   "outputs": [
    {
     "name": "stdout",
     "output_type": "stream",
     "text": [
      "==========================================================================================\n",
      "Layer (type:depth-idx)                   Output Shape              Param #\n",
      "==========================================================================================\n",
      "├─Sequential: 1-1                        [-1, 1024, 1, 1]          --\n",
      "|    └─Conv2d: 2-1                       [-1, 64, 16, 16]          3,136\n",
      "|    └─BatchNorm2d: 2-2                  [-1, 64, 16, 16]          128\n",
      "|    └─ReLU: 2-3                         [-1, 64, 16, 16]          --\n",
      "|    └─MaxPool2d: 2-4                    [-1, 64, 8, 8]            --\n",
      "|    └─_DenseBlock: 2-5                  [-1, 256, 8, 8]           --\n",
      "|    |    └─_DenseLayer: 3-1             [-1, 32, 8, 8]            45,440\n",
      "|    |    └─_DenseLayer: 3-2             [-1, 32, 8, 8]            49,600\n",
      "|    |    └─_DenseLayer: 3-3             [-1, 32, 8, 8]            53,760\n",
      "|    |    └─_DenseLayer: 3-4             [-1, 32, 8, 8]            57,920\n",
      "|    |    └─_DenseLayer: 3-5             [-1, 32, 8, 8]            62,080\n",
      "|    |    └─_DenseLayer: 3-6             [-1, 32, 8, 8]            66,240\n",
      "|    └─_Transition: 2-6                  [-1, 128, 4, 4]           --\n",
      "|    |    └─BatchNorm2d: 3-7             [-1, 256, 8, 8]           512\n",
      "|    |    └─ReLU: 3-8                    [-1, 256, 8, 8]           --\n",
      "|    |    └─Conv2d: 3-9                  [-1, 128, 8, 8]           32,768\n",
      "|    |    └─AvgPool2d: 3-10              [-1, 128, 4, 4]           --\n",
      "|    └─_DenseBlock: 2-7                  [-1, 512, 4, 4]           --\n",
      "|    |    └─_DenseLayer: 3-11            [-1, 32, 4, 4]            53,760\n",
      "|    |    └─_DenseLayer: 3-12            [-1, 32, 4, 4]            57,920\n",
      "|    |    └─_DenseLayer: 3-13            [-1, 32, 4, 4]            62,080\n",
      "|    |    └─_DenseLayer: 3-14            [-1, 32, 4, 4]            66,240\n",
      "|    |    └─_DenseLayer: 3-15            [-1, 32, 4, 4]            70,400\n",
      "|    |    └─_DenseLayer: 3-16            [-1, 32, 4, 4]            74,560\n",
      "|    |    └─_DenseLayer: 3-17            [-1, 32, 4, 4]            78,720\n",
      "|    |    └─_DenseLayer: 3-18            [-1, 32, 4, 4]            82,880\n",
      "|    |    └─_DenseLayer: 3-19            [-1, 32, 4, 4]            87,040\n",
      "|    |    └─_DenseLayer: 3-20            [-1, 32, 4, 4]            91,200\n",
      "|    |    └─_DenseLayer: 3-21            [-1, 32, 4, 4]            95,360\n",
      "|    |    └─_DenseLayer: 3-22            [-1, 32, 4, 4]            99,520\n",
      "|    └─_Transition: 2-8                  [-1, 256, 2, 2]           --\n",
      "|    |    └─BatchNorm2d: 3-23            [-1, 512, 4, 4]           1,024\n",
      "|    |    └─ReLU: 3-24                   [-1, 512, 4, 4]           --\n",
      "|    |    └─Conv2d: 3-25                 [-1, 256, 4, 4]           131,072\n",
      "|    |    └─AvgPool2d: 3-26              [-1, 256, 2, 2]           --\n",
      "|    └─_DenseBlock: 2-9                  [-1, 1024, 2, 2]          --\n",
      "|    |    └─_DenseLayer: 3-27            [-1, 32, 2, 2]            70,400\n",
      "|    |    └─_DenseLayer: 3-28            [-1, 32, 2, 2]            74,560\n",
      "|    |    └─_DenseLayer: 3-29            [-1, 32, 2, 2]            78,720\n",
      "|    |    └─_DenseLayer: 3-30            [-1, 32, 2, 2]            82,880\n",
      "|    |    └─_DenseLayer: 3-31            [-1, 32, 2, 2]            87,040\n",
      "|    |    └─_DenseLayer: 3-32            [-1, 32, 2, 2]            91,200\n",
      "|    |    └─_DenseLayer: 3-33            [-1, 32, 2, 2]            95,360\n",
      "|    |    └─_DenseLayer: 3-34            [-1, 32, 2, 2]            99,520\n",
      "|    |    └─_DenseLayer: 3-35            [-1, 32, 2, 2]            103,680\n",
      "|    |    └─_DenseLayer: 3-36            [-1, 32, 2, 2]            107,840\n",
      "|    |    └─_DenseLayer: 3-37            [-1, 32, 2, 2]            112,000\n",
      "|    |    └─_DenseLayer: 3-38            [-1, 32, 2, 2]            116,160\n",
      "|    |    └─_DenseLayer: 3-39            [-1, 32, 2, 2]            120,320\n",
      "|    |    └─_DenseLayer: 3-40            [-1, 32, 2, 2]            124,480\n",
      "|    |    └─_DenseLayer: 3-41            [-1, 32, 2, 2]            128,640\n",
      "|    |    └─_DenseLayer: 3-42            [-1, 32, 2, 2]            132,800\n",
      "|    |    └─_DenseLayer: 3-43            [-1, 32, 2, 2]            136,960\n",
      "|    |    └─_DenseLayer: 3-44            [-1, 32, 2, 2]            141,120\n",
      "|    |    └─_DenseLayer: 3-45            [-1, 32, 2, 2]            145,280\n",
      "|    |    └─_DenseLayer: 3-46            [-1, 32, 2, 2]            149,440\n",
      "|    |    └─_DenseLayer: 3-47            [-1, 32, 2, 2]            153,600\n",
      "|    |    └─_DenseLayer: 3-48            [-1, 32, 2, 2]            157,760\n",
      "|    |    └─_DenseLayer: 3-49            [-1, 32, 2, 2]            161,920\n",
      "|    |    └─_DenseLayer: 3-50            [-1, 32, 2, 2]            166,080\n",
      "|    └─_Transition: 2-10                 [-1, 512, 1, 1]           --\n",
      "|    |    └─BatchNorm2d: 3-51            [-1, 1024, 2, 2]          2,048\n",
      "|    |    └─ReLU: 3-52                   [-1, 1024, 2, 2]          --\n",
      "|    |    └─Conv2d: 3-53                 [-1, 512, 2, 2]           524,288\n",
      "|    |    └─AvgPool2d: 3-54              [-1, 512, 1, 1]           --\n",
      "|    └─_DenseBlock: 2-11                 [-1, 1024, 1, 1]          --\n",
      "|    |    └─_DenseLayer: 3-55            [-1, 32, 1, 1]            103,680\n",
      "|    |    └─_DenseLayer: 3-56            [-1, 32, 1, 1]            107,840\n",
      "|    |    └─_DenseLayer: 3-57            [-1, 32, 1, 1]            112,000\n",
      "|    |    └─_DenseLayer: 3-58            [-1, 32, 1, 1]            116,160\n",
      "|    |    └─_DenseLayer: 3-59            [-1, 32, 1, 1]            120,320\n",
      "|    |    └─_DenseLayer: 3-60            [-1, 32, 1, 1]            124,480\n",
      "|    |    └─_DenseLayer: 3-61            [-1, 32, 1, 1]            128,640\n",
      "|    |    └─_DenseLayer: 3-62            [-1, 32, 1, 1]            132,800\n",
      "|    |    └─_DenseLayer: 3-63            [-1, 32, 1, 1]            136,960\n",
      "|    |    └─_DenseLayer: 3-64            [-1, 32, 1, 1]            141,120\n",
      "|    |    └─_DenseLayer: 3-65            [-1, 32, 1, 1]            145,280\n",
      "|    |    └─_DenseLayer: 3-66            [-1, 32, 1, 1]            149,440\n",
      "|    |    └─_DenseLayer: 3-67            [-1, 32, 1, 1]            153,600\n",
      "|    |    └─_DenseLayer: 3-68            [-1, 32, 1, 1]            157,760\n",
      "|    |    └─_DenseLayer: 3-69            [-1, 32, 1, 1]            161,920\n",
      "|    |    └─_DenseLayer: 3-70            [-1, 32, 1, 1]            166,080\n",
      "|    └─BatchNorm2d: 2-12                 [-1, 1024, 1, 1]          2,048\n",
      "├─Linear: 1-2                            [-1, 10]                  10,250\n",
      "==========================================================================================\n",
      "Total params: 6,957,834\n",
      "Trainable params: 6,957,834\n",
      "Non-trainable params: 0\n",
      "Total mult-adds (M): 76.28\n",
      "==========================================================================================\n",
      "Input size (MB): 0.00\n",
      "Forward/backward pass size (MB): 3.51\n",
      "Params size (MB): 26.54\n",
      "Estimated Total Size (MB): 30.06\n",
      "==========================================================================================\n"
     ]
    },
    {
     "data": {
      "text/plain": [
       "==========================================================================================\n",
       "Layer (type:depth-idx)                   Output Shape              Param #\n",
       "==========================================================================================\n",
       "├─Sequential: 1-1                        [-1, 1024, 1, 1]          --\n",
       "|    └─Conv2d: 2-1                       [-1, 64, 16, 16]          3,136\n",
       "|    └─BatchNorm2d: 2-2                  [-1, 64, 16, 16]          128\n",
       "|    └─ReLU: 2-3                         [-1, 64, 16, 16]          --\n",
       "|    └─MaxPool2d: 2-4                    [-1, 64, 8, 8]            --\n",
       "|    └─_DenseBlock: 2-5                  [-1, 256, 8, 8]           --\n",
       "|    |    └─_DenseLayer: 3-1             [-1, 32, 8, 8]            45,440\n",
       "|    |    └─_DenseLayer: 3-2             [-1, 32, 8, 8]            49,600\n",
       "|    |    └─_DenseLayer: 3-3             [-1, 32, 8, 8]            53,760\n",
       "|    |    └─_DenseLayer: 3-4             [-1, 32, 8, 8]            57,920\n",
       "|    |    └─_DenseLayer: 3-5             [-1, 32, 8, 8]            62,080\n",
       "|    |    └─_DenseLayer: 3-6             [-1, 32, 8, 8]            66,240\n",
       "|    └─_Transition: 2-6                  [-1, 128, 4, 4]           --\n",
       "|    |    └─BatchNorm2d: 3-7             [-1, 256, 8, 8]           512\n",
       "|    |    └─ReLU: 3-8                    [-1, 256, 8, 8]           --\n",
       "|    |    └─Conv2d: 3-9                  [-1, 128, 8, 8]           32,768\n",
       "|    |    └─AvgPool2d: 3-10              [-1, 128, 4, 4]           --\n",
       "|    └─_DenseBlock: 2-7                  [-1, 512, 4, 4]           --\n",
       "|    |    └─_DenseLayer: 3-11            [-1, 32, 4, 4]            53,760\n",
       "|    |    └─_DenseLayer: 3-12            [-1, 32, 4, 4]            57,920\n",
       "|    |    └─_DenseLayer: 3-13            [-1, 32, 4, 4]            62,080\n",
       "|    |    └─_DenseLayer: 3-14            [-1, 32, 4, 4]            66,240\n",
       "|    |    └─_DenseLayer: 3-15            [-1, 32, 4, 4]            70,400\n",
       "|    |    └─_DenseLayer: 3-16            [-1, 32, 4, 4]            74,560\n",
       "|    |    └─_DenseLayer: 3-17            [-1, 32, 4, 4]            78,720\n",
       "|    |    └─_DenseLayer: 3-18            [-1, 32, 4, 4]            82,880\n",
       "|    |    └─_DenseLayer: 3-19            [-1, 32, 4, 4]            87,040\n",
       "|    |    └─_DenseLayer: 3-20            [-1, 32, 4, 4]            91,200\n",
       "|    |    └─_DenseLayer: 3-21            [-1, 32, 4, 4]            95,360\n",
       "|    |    └─_DenseLayer: 3-22            [-1, 32, 4, 4]            99,520\n",
       "|    └─_Transition: 2-8                  [-1, 256, 2, 2]           --\n",
       "|    |    └─BatchNorm2d: 3-23            [-1, 512, 4, 4]           1,024\n",
       "|    |    └─ReLU: 3-24                   [-1, 512, 4, 4]           --\n",
       "|    |    └─Conv2d: 3-25                 [-1, 256, 4, 4]           131,072\n",
       "|    |    └─AvgPool2d: 3-26              [-1, 256, 2, 2]           --\n",
       "|    └─_DenseBlock: 2-9                  [-1, 1024, 2, 2]          --\n",
       "|    |    └─_DenseLayer: 3-27            [-1, 32, 2, 2]            70,400\n",
       "|    |    └─_DenseLayer: 3-28            [-1, 32, 2, 2]            74,560\n",
       "|    |    └─_DenseLayer: 3-29            [-1, 32, 2, 2]            78,720\n",
       "|    |    └─_DenseLayer: 3-30            [-1, 32, 2, 2]            82,880\n",
       "|    |    └─_DenseLayer: 3-31            [-1, 32, 2, 2]            87,040\n",
       "|    |    └─_DenseLayer: 3-32            [-1, 32, 2, 2]            91,200\n",
       "|    |    └─_DenseLayer: 3-33            [-1, 32, 2, 2]            95,360\n",
       "|    |    └─_DenseLayer: 3-34            [-1, 32, 2, 2]            99,520\n",
       "|    |    └─_DenseLayer: 3-35            [-1, 32, 2, 2]            103,680\n",
       "|    |    └─_DenseLayer: 3-36            [-1, 32, 2, 2]            107,840\n",
       "|    |    └─_DenseLayer: 3-37            [-1, 32, 2, 2]            112,000\n",
       "|    |    └─_DenseLayer: 3-38            [-1, 32, 2, 2]            116,160\n",
       "|    |    └─_DenseLayer: 3-39            [-1, 32, 2, 2]            120,320\n",
       "|    |    └─_DenseLayer: 3-40            [-1, 32, 2, 2]            124,480\n",
       "|    |    └─_DenseLayer: 3-41            [-1, 32, 2, 2]            128,640\n",
       "|    |    └─_DenseLayer: 3-42            [-1, 32, 2, 2]            132,800\n",
       "|    |    └─_DenseLayer: 3-43            [-1, 32, 2, 2]            136,960\n",
       "|    |    └─_DenseLayer: 3-44            [-1, 32, 2, 2]            141,120\n",
       "|    |    └─_DenseLayer: 3-45            [-1, 32, 2, 2]            145,280\n",
       "|    |    └─_DenseLayer: 3-46            [-1, 32, 2, 2]            149,440\n",
       "|    |    └─_DenseLayer: 3-47            [-1, 32, 2, 2]            153,600\n",
       "|    |    └─_DenseLayer: 3-48            [-1, 32, 2, 2]            157,760\n",
       "|    |    └─_DenseLayer: 3-49            [-1, 32, 2, 2]            161,920\n",
       "|    |    └─_DenseLayer: 3-50            [-1, 32, 2, 2]            166,080\n",
       "|    └─_Transition: 2-10                 [-1, 512, 1, 1]           --\n",
       "|    |    └─BatchNorm2d: 3-51            [-1, 1024, 2, 2]          2,048\n",
       "|    |    └─ReLU: 3-52                   [-1, 1024, 2, 2]          --\n",
       "|    |    └─Conv2d: 3-53                 [-1, 512, 2, 2]           524,288\n",
       "|    |    └─AvgPool2d: 3-54              [-1, 512, 1, 1]           --\n",
       "|    └─_DenseBlock: 2-11                 [-1, 1024, 1, 1]          --\n",
       "|    |    └─_DenseLayer: 3-55            [-1, 32, 1, 1]            103,680\n",
       "|    |    └─_DenseLayer: 3-56            [-1, 32, 1, 1]            107,840\n",
       "|    |    └─_DenseLayer: 3-57            [-1, 32, 1, 1]            112,000\n",
       "|    |    └─_DenseLayer: 3-58            [-1, 32, 1, 1]            116,160\n",
       "|    |    └─_DenseLayer: 3-59            [-1, 32, 1, 1]            120,320\n",
       "|    |    └─_DenseLayer: 3-60            [-1, 32, 1, 1]            124,480\n",
       "|    |    └─_DenseLayer: 3-61            [-1, 32, 1, 1]            128,640\n",
       "|    |    └─_DenseLayer: 3-62            [-1, 32, 1, 1]            132,800\n",
       "|    |    └─_DenseLayer: 3-63            [-1, 32, 1, 1]            136,960\n",
       "|    |    └─_DenseLayer: 3-64            [-1, 32, 1, 1]            141,120\n",
       "|    |    └─_DenseLayer: 3-65            [-1, 32, 1, 1]            145,280\n",
       "|    |    └─_DenseLayer: 3-66            [-1, 32, 1, 1]            149,440\n",
       "|    |    └─_DenseLayer: 3-67            [-1, 32, 1, 1]            153,600\n",
       "|    |    └─_DenseLayer: 3-68            [-1, 32, 1, 1]            157,760\n",
       "|    |    └─_DenseLayer: 3-69            [-1, 32, 1, 1]            161,920\n",
       "|    |    └─_DenseLayer: 3-70            [-1, 32, 1, 1]            166,080\n",
       "|    └─BatchNorm2d: 2-12                 [-1, 1024, 1, 1]          2,048\n",
       "├─Linear: 1-2                            [-1, 10]                  10,250\n",
       "==========================================================================================\n",
       "Total params: 6,957,834\n",
       "Trainable params: 6,957,834\n",
       "Non-trainable params: 0\n",
       "Total mult-adds (M): 76.28\n",
       "==========================================================================================\n",
       "Input size (MB): 0.00\n",
       "Forward/backward pass size (MB): 3.51\n",
       "Params size (MB): 26.54\n",
       "Estimated Total Size (MB): 30.06\n",
       "=========================================================================================="
      ]
     },
     "execution_count": 11,
     "metadata": {},
     "output_type": "execute_result"
    }
   ],
   "source": [
    "summary(model,(1,32,32))"
   ]
  },
  {
   "cell_type": "markdown",
   "metadata": {
    "colab_type": "text",
    "id": "RAodboScj5w6"
   },
   "source": [
    "## Training"
   ]
  },
  {
   "cell_type": "code",
   "execution_count": 11,
   "metadata": {},
   "outputs": [],
   "source": [
    "def compute_acc(model, data_loader, device):\n",
    "    correct_pred, num_examples = 0, 0\n",
    "    model.eval()\n",
    "    for i, (features, targets) in enumerate(data_loader):\n",
    "            \n",
    "        features = features.to(device)\n",
    "        targets = targets.to(device)\n",
    "\n",
    "        logits, probas = model(features)\n",
    "        _, predicted_labels = torch.max(probas, 1)\n",
    "        num_examples += targets.size(0)\n",
    "        assert predicted_labels.size() == targets.size()\n",
    "        correct_pred += (predicted_labels == targets).sum()\n",
    "    return correct_pred.float()/num_examples * 100"
   ]
  },
  {
   "cell_type": "code",
   "execution_count": 16,
   "metadata": {
    "colab": {
     "autoexec": {
      "startup": false,
      "wait_interval": 0
     },
     "base_uri": "https://localhost:8080/",
     "height": 1547
    },
    "colab_type": "code",
    "executionInfo": {
     "elapsed": 2384585,
     "status": "ok",
     "timestamp": 1524976888520,
     "user": {
      "displayName": "Sebastian Raschka",
      "photoUrl": "//lh6.googleusercontent.com/-cxK6yOSQ6uE/AAAAAAAAAAI/AAAAAAAAIfw/P9ar_CHsKOQ/s50-c-k-no/photo.jpg",
      "userId": "118404394130788869227"
     },
     "user_tz": 240
    },
    "id": "Dzh3ROmRj5w7",
    "outputId": "5f8fd8c9-b076-403a-b0b7-fd2d498b48d7"
   },
   "outputs": [
    {
     "name": "stdout",
     "output_type": "stream",
     "text": [
      "Epoch: 001/010 | Batch 000/461 | Cost: 0.0017\n",
      "Epoch: 001/010 | Batch 150/461 | Cost: 0.0292\n",
      "Epoch: 001/010 | Batch 300/461 | Cost: 0.0014\n",
      "Epoch: 001/010 | Batch 450/461 | Cost: 0.0101\n",
      "Epoch: 001/010\n",
      "Train ACC: 99.77 | Validation ACC: 98.90\n",
      "Time elapsed: 0.77 min\n",
      "Epoch: 002/010 | Batch 000/461 | Cost: 0.0045\n",
      "Epoch: 002/010 | Batch 150/461 | Cost: 0.0007\n",
      "Epoch: 002/010 | Batch 300/461 | Cost: 0.0043\n",
      "Epoch: 002/010 | Batch 450/461 | Cost: 0.0004\n",
      "Epoch: 002/010\n",
      "Train ACC: 99.86 | Validation ACC: 99.30\n",
      "Time elapsed: 1.56 min\n",
      "Epoch: 003/010 | Batch 000/461 | Cost: 0.0098\n",
      "Epoch: 003/010 | Batch 150/461 | Cost: 0.0036\n",
      "Epoch: 003/010 | Batch 300/461 | Cost: 0.0098\n",
      "Epoch: 003/010 | Batch 450/461 | Cost: 0.0013\n",
      "Epoch: 003/010\n",
      "Train ACC: 99.84 | Validation ACC: 99.20\n",
      "Time elapsed: 2.32 min\n",
      "Epoch: 004/010 | Batch 000/461 | Cost: 0.0022\n",
      "Epoch: 004/010 | Batch 150/461 | Cost: 0.0004\n",
      "Epoch: 004/010 | Batch 300/461 | Cost: 0.0014\n",
      "Epoch: 004/010 | Batch 450/461 | Cost: 0.0121\n",
      "Epoch: 004/010\n",
      "Train ACC: 99.92 | Validation ACC: 98.80\n",
      "Time elapsed: 3.09 min\n",
      "Epoch: 005/010 | Batch 000/461 | Cost: 0.0040\n",
      "Epoch: 005/010 | Batch 150/461 | Cost: 0.0009\n",
      "Epoch: 005/010 | Batch 300/461 | Cost: 0.0444\n",
      "Epoch: 005/010 | Batch 450/461 | Cost: 0.0024\n",
      "Epoch: 005/010\n",
      "Train ACC: 99.92 | Validation ACC: 99.30\n",
      "Time elapsed: 3.85 min\n",
      "Epoch: 006/010 | Batch 000/461 | Cost: 0.0007\n",
      "Epoch: 006/010 | Batch 150/461 | Cost: 0.0015\n",
      "Epoch: 006/010 | Batch 300/461 | Cost: 0.0003\n",
      "Epoch: 006/010 | Batch 450/461 | Cost: 0.0006\n",
      "Epoch: 006/010\n",
      "Train ACC: 98.73 | Validation ACC: 96.60\n",
      "Time elapsed: 4.62 min\n",
      "Epoch: 007/010 | Batch 000/461 | Cost: 0.0413\n",
      "Epoch: 007/010 | Batch 150/461 | Cost: 0.0086\n",
      "Epoch: 007/010 | Batch 300/461 | Cost: 0.0070\n",
      "Epoch: 007/010 | Batch 450/461 | Cost: 0.0002\n",
      "Epoch: 007/010\n",
      "Train ACC: 99.93 | Validation ACC: 98.90\n",
      "Time elapsed: 5.36 min\n",
      "Epoch: 008/010 | Batch 000/461 | Cost: 0.0010\n",
      "Epoch: 008/010 | Batch 150/461 | Cost: 0.0046\n",
      "Epoch: 008/010 | Batch 300/461 | Cost: 0.0014\n",
      "Epoch: 008/010 | Batch 450/461 | Cost: 0.0131\n",
      "Epoch: 008/010\n",
      "Train ACC: 99.88 | Validation ACC: 98.70\n",
      "Time elapsed: 6.12 min\n",
      "Epoch: 009/010 | Batch 000/461 | Cost: 0.0002\n",
      "Epoch: 009/010 | Batch 150/461 | Cost: 0.0015\n",
      "Epoch: 009/010 | Batch 300/461 | Cost: 0.0001\n",
      "Epoch: 009/010 | Batch 450/461 | Cost: 0.0013\n",
      "Epoch: 009/010\n",
      "Train ACC: 99.95 | Validation ACC: 99.20\n",
      "Time elapsed: 6.76 min\n",
      "Epoch: 010/010 | Batch 000/461 | Cost: 0.0007\n",
      "Epoch: 010/010 | Batch 150/461 | Cost: 0.0007\n",
      "Epoch: 010/010 | Batch 300/461 | Cost: 0.0026\n",
      "Epoch: 010/010 | Batch 450/461 | Cost: 0.0030\n",
      "Epoch: 010/010\n",
      "Train ACC: 99.91 | Validation ACC: 99.30\n",
      "Time elapsed: 7.39 min\n",
      "Total Training Time: 7.39 min\n"
     ]
    }
   ],
   "source": [
    "start_time = time.time()\n",
    "\n",
    "cost_list = []\n",
    "train_acc_list, valid_acc_list = [], []\n",
    "\n",
    "\n",
    "for epoch in range(NUM_EPOCHS):\n",
    "    \n",
    "    model.train()\n",
    "    for batch_idx, (features, targets) in enumerate(train_loader):\n",
    "        \n",
    "        features = features.to(DEVICE)\n",
    "        targets = targets.to(DEVICE)\n",
    "            \n",
    "        ### FORWARD AND BACK PROP\n",
    "        logits, probas = model(features)\n",
    "        cost = F.cross_entropy(logits, targets)\n",
    "        optimizer.zero_grad()\n",
    "        \n",
    "        cost.backward()\n",
    "        \n",
    "        ### UPDATE MODEL PARAMETERS\n",
    "        optimizer.step()\n",
    "        \n",
    "        #################################################\n",
    "        ### CODE ONLY FOR LOGGING BEYOND THIS POINT\n",
    "        ################################################\n",
    "        cost_list.append(cost.item())\n",
    "        if not batch_idx % 150:\n",
    "            print (f'Epoch: {epoch+1:03d}/{NUM_EPOCHS:03d} | '\n",
    "                   f'Batch {batch_idx:03d}/{len(train_loader):03d} |' \n",
    "                   f' Cost: {cost:.4f}')\n",
    "\n",
    "        \n",
    "\n",
    "    model.eval()\n",
    "    with torch.set_grad_enabled(False): # save memory during inference\n",
    "        \n",
    "        train_acc = compute_acc(model, train_loader, device=DEVICE)\n",
    "        valid_acc = compute_acc(model, valid_loader, device=DEVICE)\n",
    "        \n",
    "        print(f'Epoch: {epoch+1:03d}/{NUM_EPOCHS:03d}\\n'\n",
    "              f'Train ACC: {train_acc:.2f} | Validation ACC: {valid_acc:.2f}')\n",
    "        \n",
    "        train_acc_list.append(train_acc.cpu().numpy())\n",
    "        valid_acc_list.append(valid_acc.cpu().numpy())\n",
    "        \n",
    "    elapsed = (time.time() - start_time)/60\n",
    "    print(f'Time elapsed: {elapsed:.2f} min')\n",
    "  \n",
    "elapsed = (time.time() - start_time)/60\n",
    "print(f'Total Training Time: {elapsed:.2f} min')"
   ]
  },
  {
   "cell_type": "markdown",
   "metadata": {
    "colab_type": "text",
    "id": "paaeEQHQj5xC"
   },
   "source": [
    "## Evaluation"
   ]
  },
  {
   "cell_type": "code",
   "execution_count": 17,
   "metadata": {
    "colab": {
     "autoexec": {
      "startup": false,
      "wait_interval": 0
     },
     "base_uri": "https://localhost:8080/",
     "height": 34
    },
    "colab_type": "code",
    "executionInfo": {
     "elapsed": 6514,
     "status": "ok",
     "timestamp": 1524976895054,
     "user": {
      "displayName": "Sebastian Raschka",
      "photoUrl": "//lh6.googleusercontent.com/-cxK6yOSQ6uE/AAAAAAAAAAI/AAAAAAAAIfw/P9ar_CHsKOQ/s50-c-k-no/photo.jpg",
      "userId": "118404394130788869227"
     },
     "user_tz": 240
    },
    "id": "gzQMWKq5j5xE",
    "outputId": "de7dc005-5eeb-4177-9f9f-d9b5d1358db9"
   },
   "outputs": [
    {
     "data": {
      "image/png": "[encoded data removed]",
      "text/plain": [
       "<Figure size 640x480 with 1 Axes>"
      ]
     },
     "metadata": {},
     "output_type": "display_data"
    }
   ],
   "source": [
    "plt.plot(cost_list, label='Minibatch cost')\n",
    "plt.plot(np.convolve(cost_list, \n",
    "                     np.ones(200,)/200, mode='valid'), \n",
    "         label='Running average')\n",
    "\n",
    "plt.ylabel('Cross Entropy')\n",
    "plt.xlabel('Iteration')\n",
    "plt.legend()\n",
    "plt.show()\n"
   ]
  },
  {
   "cell_type": "code",
   "execution_count": 18,
   "metadata": {},
   "outputs": [
    {
     "data": {
      "image/png": "[encoded data removed]",
      "text/plain": [
       "<Figure size 640x480 with 1 Axes>"
      ]
     },
     "metadata": {},
     "output_type": "display_data"
    }
   ],
   "source": [
    "plt.plot(np.arange(1, NUM_EPOCHS+1), train_acc_list, label='Training')\n",
    "plt.plot(np.arange(1, NUM_EPOCHS+1), valid_acc_list, label='Validation')\n",
    "\n",
    "plt.xlabel('Epoch')\n",
    "plt.ylabel('Accuracy')\n",
    "plt.legend()\n",
    "plt.show()"
   ]
  },
  {
   "cell_type": "code",
   "execution_count": 19,
   "metadata": {},
   "outputs": [
    {
     "name": "stdout",
     "output_type": "stream",
     "text": [
      "Validation ACC: 99.30%\n",
      "Test ACC: 99.07%\n"
     ]
    }
   ],
   "source": [
    "with torch.set_grad_enabled(False):\n",
    "    test_acc = compute_acc(model=model,\n",
    "                           data_loader=test_loader,\n",
    "                           device=DEVICE)\n",
    "    \n",
    "    valid_acc = compute_acc(model=model,\n",
    "                            data_loader=valid_loader,\n",
    "                            device=DEVICE)\n",
    "    \n",
    "\n",
    "print(f'Validation ACC: {valid_acc:.2f}%')\n",
    "print(f'Test ACC: {test_acc:.2f}%')"
   ]
  }
 ],
 "metadata": {
  "accelerator": "GPU",
  "colab": {
   "collapsed_sections": [],
   "default_view": {},
   "name": "convnet-vgg16.ipynb",
   "provenance": [],
   "version": "0.3.2",
   "views": {}
  },
  "kernelspec": {
   "display_name": "Python 3 (ipykernel)",
   "language": "python",
   "name": "python3"
  },
  "language_info": {
   "codemirror_mode": {
    "name": "ipython",
    "version": 3
   },
   "file_extension": ".py",
   "mimetype": "text/x-python",
   "name": "python",
   "nbconvert_exporter": "python",
   "pygments_lexer": "ipython3",
   "version": "3.11.5"
  },
  "toc": {
   "nav_menu": {},
   "number_sections": true,
   "sideBar": true,
   "skip_h1_title": false,
   "title_cell": "Table of Contents",
   "title_sidebar": "Contents",
   "toc_cell": true,
   "toc_position": {
    "height": "calc(100% - 180px)",
    "left": "10px",
    "top": "150px",
    "width": "371px"
   },
   "toc_section_display": true,
   "toc_window_display": true
  }
 },
 "nbformat": 4,
 "nbformat_minor": 4
}
