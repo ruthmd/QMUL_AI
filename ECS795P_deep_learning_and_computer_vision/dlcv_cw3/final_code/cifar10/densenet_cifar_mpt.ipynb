{
 "cells": [
  {
   "cell_type": "code",
   "execution_count": 1,
   "metadata": {
    "_cell_guid": "b1076dfc-b9ad-4769-8c92-a6c4dae69d19",
    "_kg_hide-input": true,
    "_uuid": "8f2839f25d086af736a60e9eeb907d3b93b6e0e5"
   },
   "outputs": [],
   "source": [
    "# Imports\n",
    "import numpy as np # linear algebra\n",
    "import pandas as pd # data processing, CSV file I/O (e.g. pd.read_csv)\n",
    "\n",
    "# import utilities\n",
    "import os\n",
    "import time\n",
    "\n",
    "# import data visualization\n",
    "import matplotlib.pyplot as plt\n",
    "\n",
    "# import pytorch\n",
    "import torch\n",
    "import torch.nn as nn\n",
    "import torch.nn.functional as F\n",
    "from torch.optim import SGD,Adam,lr_scheduler\n",
    "from torch.utils.data import random_split\n",
    "import torchvision\n",
    "from torchvision import transforms, datasets\n",
    "from torch.utils.data import DataLoader"
   ]
  },
  {
   "cell_type": "code",
   "execution_count": 2,
   "metadata": {
    "_kg_hide-input": true
   },
   "outputs": [],
   "source": [
    "# define transformations for train\n",
    "train_transform = transforms.Compose([\n",
    "    transforms.RandomHorizontalFlip(p=.40),\n",
    "    transforms.RandomRotation(30),\n",
    "    transforms.ToTensor(),\n",
    "    transforms.Normalize([0.5, 0.5, 0.5], [0.5, 0.5, 0.5])\n",
    "])\n",
    "\n",
    "# define transformations for test\n",
    "test_transform = transforms.Compose([\n",
    "    transforms.ToTensor(),\n",
    "    transforms.Normalize([0.5, 0.5, 0.5], [0.5, 0.5, 0.5])])\n",
    "\n",
    "# define training dataloader\n",
    "def get_training_dataloader(train_transform, batch_size=128, num_workers=0, shuffle=True):\n",
    "    \"\"\" return training dataloader\n",
    "    Args:\n",
    "        train_transform: transfroms for train dataset\n",
    "        path: path to cifar100 training python dataset\n",
    "        batch_size: dataloader batchsize\n",
    "        num_workers: dataloader num_works\n",
    "        shuffle: whether to shuffle \n",
    "    Returns: train_data_loader:torch dataloader object\n",
    "    \"\"\"\n",
    "\n",
    "    transform_train = train_transform\n",
    "    cifar10_training = torchvision.datasets.CIFAR10(root='./data', train=True, download=True, transform=transform_train)\n",
    "    cifar10_training_loader = DataLoader(\n",
    "        cifar10_training, shuffle=shuffle, num_workers=num_workers, batch_size=batch_size)\n",
    "\n",
    "    return cifar10_training_loader\n",
    "\n",
    "# define test dataloader\n",
    "def get_testing_dataloader(test_transform, batch_size=128, num_workers=0, shuffle=True):\n",
    "    \"\"\" return training dataloader\n",
    "    Args:\n",
    "        test_transform: transforms for test dataset\n",
    "        path: path to cifar100 test python dataset\n",
    "        batch_size: dataloader batchsize\n",
    "        num_workers: dataloader num_works\n",
    "        shuffle: whether to shuffle \n",
    "    Returns: cifar100_test_loader:torch dataloader object\n",
    "    \"\"\"\n",
    "\n",
    "    transform_test = test_transform\n",
    "    cifar10_test = torchvision.datasets.CIFAR10(root='./data', train=False, download=True, transform=transform_test)\n",
    "    cifar10_test_loader = DataLoader(cifar10_test, shuffle=shuffle, num_workers=num_workers, batch_size=batch_size)\n",
    "\n",
    "    return cifar10_test_loader"
   ]
  },
  {
   "cell_type": "code",
   "execution_count": 3,
   "metadata": {
    "_kg_hide-output": true
   },
   "outputs": [
    {
     "name": "stdout",
     "output_type": "stream",
     "text": [
      "Files already downloaded and verified\n",
      "Files already downloaded and verified\n"
     ]
    }
   ],
   "source": [
    "# get dataloaders for training and testing datasets\n",
    "# don't forget to turn on internet in kernel's settings\n",
    "trainloader = get_training_dataloader(train_transform)\n",
    "testloader = get_testing_dataloader(test_transform)"
   ]
  },
  {
   "cell_type": "markdown",
   "metadata": {},
   "source": [
    "View some random images from the training dataset:"
   ]
  },
  {
   "cell_type": "code",
   "execution_count": 4,
   "metadata": {},
   "outputs": [],
   "source": [
    "# specify the names of the classes\n",
    "classes_dict = {0 : 'airplane', 1 : 'automobile', 2: 'bird', 3 : 'cat', 4 : 'deer', 5: 'dog', 6:'frog', 7 : 'horse', 8 : 'ship', 9 : 'truck'}"
   ]
  },
  {
   "cell_type": "code",
   "execution_count": 5,
   "metadata": {
    "_cell_guid": "79c7e3d0-c299-4dcb-8224-4455121ee9b0",
    "_uuid": "d629ff2d2480ee46fbb7e2d37f6b5fab8052498a"
   },
   "outputs": [],
   "source": [
    "#\"\"\"Bottleneck layers. Although each layer only produces k\n",
    "#output feature-maps, it typically has many more inputs. It\n",
    "#has been noted in [37, 11] that a 1×1 convolution can be in-\n",
    "#troduced as bottleneck layer before each 3×3 convolution\n",
    "#to reduce the number of input feature-maps, and thus to\n",
    "#improve computational efficiency.\"\"\"\n",
    "class Bottleneck(nn.Module):\n",
    "    def __init__(self, in_channels, growth_rate):\n",
    "        super().__init__()\n",
    "        #\"\"\"In  our experiments, we let each 1×1 convolution \n",
    "        #produce 4k feature-maps.\"\"\"\n",
    "        inner_channel = 4 * growth_rate\n",
    "\n",
    "        #\"\"\"We find this design especially effective for DenseNet and \n",
    "        #we refer to our network with such a bottleneck layer, i.e., \n",
    "        #to the BN-ReLU-Conv(1×1)-BN-ReLU-Conv(3×3) version of H ` , \n",
    "        #as DenseNet-B.\"\"\"\n",
    "        self.bottle_neck = nn.Sequential(\n",
    "            nn.BatchNorm2d(in_channels),\n",
    "            nn.ReLU(inplace=True),\n",
    "            nn.Conv2d(in_channels, inner_channel, kernel_size=1, bias=False),\n",
    "            nn.BatchNorm2d(inner_channel),\n",
    "            nn.ReLU(inplace=True),\n",
    "            nn.Conv2d(inner_channel, growth_rate, kernel_size=3, padding=1, bias=False)\n",
    "        )\n",
    "\n",
    "    def forward(self, x):\n",
    "        return torch.cat([x, self.bottle_neck(x)], 1)\n",
    "\n",
    "#\"\"\"We refer to layers between blocks as transition\n",
    "#layers, which do convolution and pooling.\"\"\"\n",
    "class Transition(nn.Module):\n",
    "    def __init__(self, in_channels, out_channels):\n",
    "        super().__init__()\n",
    "        #\"\"\"The transition layers used in our experiments \n",
    "        #consist of a batch normalization layer and an 1×1 \n",
    "        #convolutional layer followed by a 2×2 average pooling \n",
    "        #layer\"\"\".\n",
    "        self.down_sample = nn.Sequential(\n",
    "            nn.BatchNorm2d(in_channels),\n",
    "            nn.Conv2d(in_channels, out_channels, 1, bias=False),\n",
    "            nn.AvgPool2d(2, stride=2)\n",
    "        )\n",
    "\n",
    "    def forward(self, x):\n",
    "        return self.down_sample(x)\n",
    "\n",
    "#DesneNet-BC\n",
    "#B stands for bottleneck layer(BN-RELU-CONV(1x1)-BN-RELU-CONV(3x3))\n",
    "#C stands for compression factor(0<=theta<=1)\n",
    "class DenseNet(nn.Module):\n",
    "    def __init__(self, block, nblocks, growth_rate=12, reduction=0.5, num_class=10):\n",
    "        super().__init__()\n",
    "        self.growth_rate = growth_rate\n",
    "\n",
    "        #\"\"\"Before entering the first dense block, a convolution \n",
    "        #with 16 (or twice the growth rate for DenseNet-BC) \n",
    "        #output channels is performed on the input images.\"\"\"\n",
    "        inner_channels = 2 * growth_rate\n",
    "\n",
    "        #For convolutional layers with kernel size 3×3, each \n",
    "        #side of the inputs is zero-padded by one pixel to keep \n",
    "        #the feature-map size fixed.\n",
    "        self.conv1 = nn.Conv2d(3, inner_channels, kernel_size=3, padding=1, bias=False) \n",
    "\n",
    "        self.features = nn.Sequential()\n",
    "\n",
    "        for index in range(len(nblocks) - 1):\n",
    "            self.features.add_module(\"dense_block_layer_{}\".format(index), self._make_dense_layers(block, inner_channels, nblocks[index]))\n",
    "            inner_channels += growth_rate * nblocks[index]\n",
    "\n",
    "            #\"\"\"If a dense block contains m feature-maps, we let the \n",
    "            #following transition layer generate θm output feature-\n",
    "            #maps, where 0 < θ ≤ 1 is referred to as the compression \n",
    "            #fac-tor.\n",
    "            out_channels = int(reduction * inner_channels) # int() will automatic floor the value\n",
    "            self.features.add_module(\"transition_layer_{}\".format(index), Transition(inner_channels, out_channels))\n",
    "            inner_channels = out_channels\n",
    "\n",
    "        self.features.add_module(\"dense_block{}\".format(len(nblocks) - 1), self._make_dense_layers(block, inner_channels, nblocks[len(nblocks)-1]))\n",
    "        inner_channels += growth_rate * nblocks[len(nblocks) - 1]\n",
    "        self.features.add_module('bn', nn.BatchNorm2d(inner_channels))\n",
    "        self.features.add_module('activation', nn.ReLU(inplace=True))\n",
    "\n",
    "        self.avgpool = nn.AdaptiveAvgPool2d((1, 1))\n",
    "\n",
    "        self.linear = nn.Linear(inner_channels, num_class)\n",
    "\n",
    "    def forward(self, x):\n",
    "        output = self.conv1(x)\n",
    "        output = self.features(output)\n",
    "        output = self.avgpool(output)\n",
    "        output = output.view(output.size()[0], -1)\n",
    "        output = self.linear(output)\n",
    "        return output\n",
    "\n",
    "    def _make_dense_layers(self, block, in_channels, nblocks):\n",
    "        dense_block = nn.Sequential()\n",
    "        for index in range(nblocks):\n",
    "            dense_block.add_module('bottle_neck_layer_{}'.format(index), block(in_channels, self.growth_rate))\n",
    "            in_channels += self.growth_rate\n",
    "        return dense_block\n",
    "\n",
    "def densenet121(activation = 'relu'):\n",
    "    return DenseNet(Bottleneck, [6,12,24,16], growth_rate=32)\n",
    "\n",
    "def densenet169(activation = 'relu'):\n",
    "    return DenseNet(Bottleneck, [6,12,32,32], growth_rate=32)\n",
    "\n",
    "def densenet201(activation = 'relu'):\n",
    "    return DenseNet(Bottleneck, [6,12,48,32], growth_rate=32)\n",
    "\n",
    "def densenet161(activation = 'relu'):\n",
    "    return DenseNet(Bottleneck, [6,12,36,24], growth_rate=48)"
   ]
  },
  {
   "cell_type": "markdown",
   "metadata": {},
   "source": [
    "## Train Model\n",
    "Setup training parameters:"
   ]
  },
  {
   "cell_type": "code",
   "execution_count": 6,
   "metadata": {},
   "outputs": [
    {
     "data": {
      "text/plain": [
       "device(type='cuda', index=0)"
      ]
     },
     "execution_count": 6,
     "metadata": {},
     "output_type": "execute_result"
    }
   ],
   "source": [
    "# number of epochs\n",
    "epochs = 50\n",
    "# learning rate\n",
    "learning_rate = 0.001\n",
    "# device to use\n",
    "# don't forget to turn on GPU on kernel's settings\n",
    "device = torch.device('cuda:0' if torch.cuda.is_available() else \"cpu\")\n",
    "device"
   ]
  },
  {
   "cell_type": "markdown",
   "metadata": {},
   "source": [
    "Initialize the model:"
   ]
  },
  {
   "cell_type": "code",
   "execution_count": 7,
   "metadata": {},
   "outputs": [],
   "source": [
    "model = densenet121()"
   ]
  },
  {
   "cell_type": "markdown",
   "metadata": {},
   "source": [
    "Initialize loss function and optimizer:"
   ]
  },
  {
   "cell_type": "code",
   "execution_count": 8,
   "metadata": {},
   "outputs": [],
   "source": [
    "# set loss function\n",
    "criterion = nn.CrossEntropyLoss()\n",
    "\n",
    "# set optimizer, only train the classifier parameters, feature parameters are frozen\n",
    "optimizer = Adam(model.parameters(), lr=learning_rate)\n",
    "scaler = torch.cuda.amp.GradScaler()"
   ]
  },
  {
   "cell_type": "code",
   "execution_count": 9,
   "metadata": {},
   "outputs": [],
   "source": [
    "train_stats_list = []"
   ]
  },
  {
   "cell_type": "code",
   "execution_count": 10,
   "metadata": {
    "_kg_hide-output": true
   },
   "outputs": [
    {
     "name": "stderr",
     "output_type": "stream",
     "text": [
      "/opt/conda/lib/python3.10/site-packages/torch/nn/modules/conv.py:456: UserWarning: Applied workaround for CuDNN issue, install nvrtc.so (Triggered internally at ../aten/src/ATen/native/cudnn/Conv_v8.cpp:80.)\n",
      "  return F.conv2d(input, weight, bias, self.stride,\n"
     ]
    },
    {
     "name": "stdout",
     "output_type": "stream",
     "text": [
      "Epoch 1/50.. Time per epoch: 50.0550.. Train loss: 1.4974.. Train accuracy: 0.4459.. Test loss: 1.2634.. Test accuracy: 0.5438.. \n",
      "Epoch 2/50.. Time per epoch: 48.6972.. Train loss: 1.1079.. Train accuracy: 0.6020.. Test loss: 0.9726.. Test accuracy: 0.6530.. \n",
      "Epoch 3/50.. Time per epoch: 48.6035.. Train loss: 0.9366.. Train accuracy: 0.6684.. Test loss: 0.8468.. Test accuracy: 0.6945.. \n",
      "Epoch 4/50.. Time per epoch: 48.9330.. Train loss: 0.8197.. Train accuracy: 0.7120.. Test loss: 0.7435.. Test accuracy: 0.7395.. \n",
      "Epoch 5/50.. Time per epoch: 48.8614.. Train loss: 0.7315.. Train accuracy: 0.7427.. Test loss: 0.6588.. Test accuracy: 0.7708.. \n",
      "Epoch 6/50.. Time per epoch: 47.8737.. Train loss: 0.6557.. Train accuracy: 0.7693.. Test loss: 0.6083.. Test accuracy: 0.7880.. \n",
      "Epoch 7/50.. Time per epoch: 48.2786.. Train loss: 0.6005.. Train accuracy: 0.7903.. Test loss: 0.5644.. Test accuracy: 0.8057.. \n",
      "Epoch 8/50.. Time per epoch: 48.7536.. Train loss: 0.5398.. Train accuracy: 0.8097.. Test loss: 0.5376.. Test accuracy: 0.8107.. \n",
      "Epoch 9/50.. Time per epoch: 49.6043.. Train loss: 0.4909.. Train accuracy: 0.8291.. Test loss: 0.4939.. Test accuracy: 0.8292.. \n",
      "Epoch 10/50.. Time per epoch: 49.7030.. Train loss: 0.4592.. Train accuracy: 0.8394.. Test loss: 0.4541.. Test accuracy: 0.8442.. \n",
      "Epoch 11/50.. Time per epoch: 51.2701.. Train loss: 0.4270.. Train accuracy: 0.8527.. Test loss: 0.4625.. Test accuracy: 0.8485.. \n",
      "Epoch 12/50.. Time per epoch: 50.2960.. Train loss: 0.4028.. Train accuracy: 0.8597.. Test loss: 0.4784.. Test accuracy: 0.8410.. \n",
      "Epoch 13/50.. Time per epoch: 46.1261.. Train loss: 0.3745.. Train accuracy: 0.8681.. Test loss: 0.4159.. Test accuracy: 0.8643.. \n",
      "Epoch 14/50.. Time per epoch: 43.5942.. Train loss: 0.3507.. Train accuracy: 0.8766.. Test loss: 0.3780.. Test accuracy: 0.8719.. \n",
      "Epoch 15/50.. Time per epoch: 43.3521.. Train loss: 0.3266.. Train accuracy: 0.8850.. Test loss: 0.3828.. Test accuracy: 0.8678.. \n",
      "Epoch 16/50.. Time per epoch: 43.8629.. Train loss: 0.3071.. Train accuracy: 0.8910.. Test loss: 0.3876.. Test accuracy: 0.8732.. \n",
      "Epoch 17/50.. Time per epoch: 45.5183.. Train loss: 0.2932.. Train accuracy: 0.8979.. Test loss: 0.3636.. Test accuracy: 0.8797.. \n",
      "Epoch 18/50.. Time per epoch: 45.1443.. Train loss: 0.2705.. Train accuracy: 0.9050.. Test loss: 0.3905.. Test accuracy: 0.8703.. \n",
      "Epoch 19/50.. Time per epoch: 45.1048.. Train loss: 0.2576.. Train accuracy: 0.9091.. Test loss: 0.3395.. Test accuracy: 0.8898.. \n",
      "Epoch 20/50.. Time per epoch: 45.6883.. Train loss: 0.2378.. Train accuracy: 0.9167.. Test loss: 0.3606.. Test accuracy: 0.8792.. \n",
      "Epoch 21/50.. Time per epoch: 45.2242.. Train loss: 0.2262.. Train accuracy: 0.9209.. Test loss: 0.3294.. Test accuracy: 0.8954.. \n",
      "Epoch 22/50.. Time per epoch: 45.2406.. Train loss: 0.2148.. Train accuracy: 0.9241.. Test loss: 0.3487.. Test accuracy: 0.8870.. \n",
      "Epoch 23/50.. Time per epoch: 45.0649.. Train loss: 0.2006.. Train accuracy: 0.9294.. Test loss: 0.3432.. Test accuracy: 0.8890.. \n",
      "Epoch 24/50.. Time per epoch: 46.1272.. Train loss: 0.1873.. Train accuracy: 0.9336.. Test loss: 0.4329.. Test accuracy: 0.8714.. \n",
      "Epoch 25/50.. Time per epoch: 46.3189.. Train loss: 0.1788.. Train accuracy: 0.9375.. Test loss: 0.3599.. Test accuracy: 0.8899.. \n",
      "Epoch 26/50.. Time per epoch: 45.1763.. Train loss: 0.1703.. Train accuracy: 0.9399.. Test loss: 0.3523.. Test accuracy: 0.8982.. \n",
      "Epoch 27/50.. Time per epoch: 44.9908.. Train loss: 0.1580.. Train accuracy: 0.9450.. Test loss: 0.3485.. Test accuracy: 0.8951.. \n",
      "Epoch 28/50.. Time per epoch: 48.2741.. Train loss: 0.1493.. Train accuracy: 0.9473.. Test loss: 0.3610.. Test accuracy: 0.8954.. \n",
      "Epoch 29/50.. Time per epoch: 51.9588.. Train loss: 0.1471.. Train accuracy: 0.9477.. Test loss: 0.3622.. Test accuracy: 0.8958.. \n",
      "Epoch 30/50.. Time per epoch: 52.4127.. Train loss: 0.1404.. Train accuracy: 0.9512.. Test loss: 0.3852.. Test accuracy: 0.8870.. \n",
      "Epoch 31/50.. Time per epoch: 52.1627.. Train loss: 0.1314.. Train accuracy: 0.9529.. Test loss: 0.3850.. Test accuracy: 0.8922.. \n",
      "Epoch 32/50.. Time per epoch: 53.1014.. Train loss: 0.1236.. Train accuracy: 0.9555.. Test loss: 0.3727.. Test accuracy: 0.8969.. \n",
      "Epoch 33/50.. Time per epoch: 53.6760.. Train loss: 0.1211.. Train accuracy: 0.9572.. Test loss: 0.3996.. Test accuracy: 0.8907.. \n",
      "Epoch 34/50.. Time per epoch: 53.7055.. Train loss: 0.1160.. Train accuracy: 0.9588.. Test loss: 0.3361.. Test accuracy: 0.9052.. \n",
      "Epoch 35/50.. Time per epoch: 53.3938.. Train loss: 0.1047.. Train accuracy: 0.9630.. Test loss: 0.3735.. Test accuracy: 0.9001.. \n",
      "Epoch 36/50.. Time per epoch: 53.8245.. Train loss: 0.1012.. Train accuracy: 0.9635.. Test loss: 0.3798.. Test accuracy: 0.9016.. \n",
      "Epoch 37/50.. Time per epoch: 53.4002.. Train loss: 0.1035.. Train accuracy: 0.9634.. Test loss: 0.3889.. Test accuracy: 0.8976.. \n",
      "Epoch 38/50.. Time per epoch: 54.1599.. Train loss: 0.0927.. Train accuracy: 0.9681.. Test loss: 0.3914.. Test accuracy: 0.8999.. \n",
      "Epoch 39/50.. Time per epoch: 53.1383.. Train loss: 0.0919.. Train accuracy: 0.9674.. Test loss: 0.3860.. Test accuracy: 0.9028.. \n",
      "Epoch 40/50.. Time per epoch: 50.9957.. Train loss: 0.0872.. Train accuracy: 0.9681.. Test loss: 0.3845.. Test accuracy: 0.9024.. \n",
      "Epoch 41/50.. Time per epoch: 51.0301.. Train loss: 0.0916.. Train accuracy: 0.9676.. Test loss: 0.3664.. Test accuracy: 0.9019.. \n",
      "Epoch 42/50.. Time per epoch: 50.9575.. Train loss: 0.0753.. Train accuracy: 0.9723.. Test loss: 0.3954.. Test accuracy: 0.8984.. \n",
      "Epoch 43/50.. Time per epoch: 51.0158.. Train loss: 0.0758.. Train accuracy: 0.9732.. Test loss: 0.3711.. Test accuracy: 0.9037.. \n",
      "Epoch 44/50.. Time per epoch: 53.1127.. Train loss: 0.0725.. Train accuracy: 0.9748.. Test loss: 0.3786.. Test accuracy: 0.9015.. \n",
      "Epoch 45/50.. Time per epoch: 52.5217.. Train loss: 0.0728.. Train accuracy: 0.9738.. Test loss: 0.3844.. Test accuracy: 0.9066.. \n",
      "Epoch 46/50.. Time per epoch: 63.9997.. Train loss: 0.0726.. Train accuracy: 0.9753.. Test loss: 0.4134.. Test accuracy: 0.8982.. \n",
      "Epoch 47/50.. Time per epoch: 65.4347.. Train loss: 0.0696.. Train accuracy: 0.9750.. Test loss: 0.3852.. Test accuracy: 0.9079.. \n",
      "Epoch 48/50.. Time per epoch: 74.7759.. Train loss: 0.0683.. Train accuracy: 0.9758.. Test loss: 0.3797.. Test accuracy: 0.9086.. \n",
      "Epoch 49/50.. Time per epoch: 83.4177.. Train loss: 0.0640.. Train accuracy: 0.9774.. Test loss: 0.3834.. Test accuracy: 0.9068.. \n",
      "Epoch 50/50.. Time per epoch: 92.0884.. Train loss: 0.0605.. Train accuracy: 0.9780.. Test loss: 0.4252.. Test accuracy: 0.9013.. \n"
     ]
    }
   ],
   "source": [
    "#train the model\n",
    "model.to(device)\n",
    "\n",
    "steps = 0\n",
    "running_loss = 0\n",
    "for epoch in range(epochs):\n",
    "    \n",
    "    since = time.time()\n",
    "    \n",
    "    train_accuracy = 0\n",
    "    top3_train_accuracy = 0 \n",
    "    for inputs, labels in trainloader:\n",
    "        steps += 1\n",
    "        # Move input and label tensors to the default device\n",
    "        inputs, labels = inputs.to(device), labels.to(device)\n",
    "        \n",
    "        optimizer.zero_grad()\n",
    "\n",
    "        with torch.cuda.amp.autocast(enabled=True, dtype=torch.bfloat16, cache_enabled=True):\n",
    "            logps = model.forward(inputs)\n",
    "            loss = criterion(logps, labels)\n",
    "        \n",
    "        # loss.backward()\n",
    "        # optimizer.step()\n",
    "        \n",
    "        scaler.scale(loss).backward()\n",
    "        scaler.step(optimizer)\n",
    "        scaler.update()\n",
    "\n",
    "        running_loss += loss.item()\n",
    "        \n",
    "        # calculate train top-1 accuracy\n",
    "        ps = torch.exp(logps)\n",
    "        top_p, top_class = ps.topk(1, dim=1)\n",
    "        equals = top_class == labels.view(*top_class.shape)\n",
    "        train_accuracy += torch.mean(equals.type(torch.FloatTensor)).item()\n",
    "        \n",
    "        # Calculate train top-3 accuracy\n",
    "        np_top3_class = ps.topk(3, dim=1)[1].cpu().numpy()\n",
    "        target_numpy = labels.cpu().numpy()\n",
    "        top3_train_accuracy += np.mean([1 if target_numpy[i] in np_top3_class[i] else 0 for i in range(0, len(target_numpy))])\n",
    "        \n",
    "    time_elapsed = time.time() - since\n",
    "    \n",
    "    test_loss = 0\n",
    "    test_accuracy = 0\n",
    "    top3_test_accuracy = 0\n",
    "    model.eval()\n",
    "    with torch.no_grad():\n",
    "        for inputs, labels in testloader:\n",
    "            inputs, labels = inputs.to(device), labels.to(device)\n",
    "            logps = model.forward(inputs)\n",
    "            batch_loss = criterion(logps, labels)\n",
    "\n",
    "            test_loss += batch_loss.item()\n",
    "\n",
    "            # Calculate test top-1 accuracy\n",
    "            ps = torch.exp(logps)\n",
    "            top_p, top_class = ps.topk(1, dim=1)\n",
    "            equals = top_class == labels.view(*top_class.shape)\n",
    "            test_accuracy += torch.mean(equals.type(torch.FloatTensor)).item()\n",
    "            \n",
    "            # Calculate test top-3 accuracy\n",
    "            np_top3_class = ps.topk(3, dim=1)[1].cpu().numpy()\n",
    "            target_numpy = labels.cpu().numpy()\n",
    "            top3_test_accuracy += np.mean([1 if target_numpy[i] in np_top3_class[i] else 0 for i in range(0, len(target_numpy))])\n",
    "\n",
    "    print(f\"Epoch {epoch+1}/{epochs}.. \"\n",
    "          f\"Time per epoch: {time_elapsed:.4f}.. \"\n",
    "          f\"Train loss: {running_loss/len(trainloader):.4f}.. \"\n",
    "          f\"Train accuracy: {train_accuracy/len(trainloader):.4f}.. \"\n",
    "          f\"Test loss: {test_loss/len(testloader):.4f}.. \"\n",
    "          f\"Test accuracy: {test_accuracy/len(testloader):.4f}.. \")\n",
    "\n",
    "    train_stats_list.append({'Epoch': epoch, 'Time per epoch':time_elapsed, 'Avg time per step': time_elapsed/len(trainloader), 'Train loss' : running_loss/len(trainloader), 'Train accuracy': train_accuracy/len(trainloader), 'Train top-3 accuracy':top3_train_accuracy/len(trainloader),'Test loss' : test_loss/len(testloader), 'Test accuracy': test_accuracy/len(testloader), 'Test top-3 accuracy':top3_test_accuracy/len(testloader)})\n",
    "\n",
    "    running_loss = 0\n",
    "    model.train()"
   ]
  },
  {
   "cell_type": "code",
   "execution_count": 11,
   "metadata": {},
   "outputs": [],
   "source": [
    "train_stats = pd.DataFrame(train_stats_list, columns = ['Epoch', 'Time per epoch', 'Avg time per step', 'Train loss', 'Train accuracy', 'Train top-3 accuracy','Test loss', 'Test accuracy', 'Test top-3 accuracy']) "
   ]
  },
  {
   "cell_type": "markdown",
   "metadata": {},
   "source": [
    "Save training log to a csv file:"
   ]
  },
  {
   "cell_type": "markdown",
   "metadata": {},
   "source": [
    "## Analyze Training Log\n",
    "Plot test and train accuracy and test and train loss:"
   ]
  },
  {
   "cell_type": "code",
   "execution_count": 12,
   "metadata": {},
   "outputs": [
    {
     "data": {
      "text/plain": [
       "<matplotlib.legend.Legend at 0x7f8f4c729b10>"
      ]
     },
     "execution_count": 12,
     "metadata": {},
     "output_type": "execute_result"
    },
    {
     "data": {
      "image/png": "[encoded data removed]",
      "text/plain": [
       "<Figure size 1000x700 with 1 Axes>"
      ]
     },
     "metadata": {},
     "output_type": "display_data"
    }
   ],
   "source": [
    "fig = plt.figure(figsize=(10,7))\n",
    "ax = plt.axes()\n",
    "\n",
    "plt.title(\"Loss\")\n",
    "plt.xlabel(\"Epochs\")\n",
    "plt.ylabel(\"Loss\");\n",
    "\n",
    "x = range(1, len(train_stats['Train loss'].values) + 1)\n",
    "ax.plot(x, train_stats['Train loss'].values, '-g', label='train loss');\n",
    "ax.plot(x, train_stats['Test loss'].values, '-b', label='test loss');\n",
    "\n",
    "plt.legend()"
   ]
  },
  {
   "cell_type": "code",
   "execution_count": 13,
   "metadata": {},
   "outputs": [
    {
     "data": {
      "text/plain": [
       "<matplotlib.legend.Legend at 0x7f8f360a0070>"
      ]
     },
     "execution_count": 13,
     "metadata": {},
     "output_type": "execute_result"
    },
    {
     "data": {
      "image/png": "[encoded data removed]",
      "text/plain": [
       "<Figure size 1000x700 with 1 Axes>"
      ]
     },
     "metadata": {},
     "output_type": "display_data"
    }
   ],
   "source": [
    "fig = plt.figure(figsize=(10,7))\n",
    "ax = plt.axes()\n",
    "\n",
    "plt.title(\"Accuracy\")\n",
    "plt.xlabel(\"Epochs\")\n",
    "plt.ylabel(\"Accuracy\");\n",
    "\n",
    "x = range(1, len(train_stats['Train accuracy'].values) + 1)\n",
    "ax.plot(x, train_stats['Train accuracy'].values, '-g', label='train accuracy');\n",
    "ax.plot(x, train_stats['Test accuracy'].values, '-b', label='test accuracy');\n",
    "\n",
    "plt.legend()"
   ]
  },
  {
   "cell_type": "code",
   "execution_count": null,
   "metadata": {},
   "outputs": [],
   "source": []
  }
 ],
 "metadata": {
  "kernelspec": {
   "display_name": "Python 3 (ipykernel)",
   "language": "python",
   "name": "python3"
  },
  "language_info": {
   "codemirror_mode": {
    "name": "ipython",
    "version": 3
   },
   "file_extension": ".py",
   "mimetype": "text/x-python",
   "name": "python",
   "nbconvert_exporter": "python",
   "pygments_lexer": "ipython3",
   "version": "3.10.13"
  }
 },
 "nbformat": 4,
 "nbformat_minor": 4
}
