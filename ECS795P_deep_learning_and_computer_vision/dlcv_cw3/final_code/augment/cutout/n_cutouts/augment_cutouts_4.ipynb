{
 "cells": [
  {
   "cell_type": "code",
   "execution_count": 3,
   "id": "b4f1886e-ac72-48e5-bdb9-ee9cb54653fe",
   "metadata": {
    "id": "b4f1886e-ac72-48e5-bdb9-ee9cb54653fe"
   },
   "outputs": [],
   "source": [
    "# imports\n",
    "import os\n",
    "import time\n",
    "import csv\n",
    "import multiprocessing\n",
    "\n",
    "import numpy as np\n",
    "import pandas as pd\n",
    "import matplotlib.pyplot as plt\n",
    "\n",
    "import torch\n",
    "import torch.nn as nn\n",
    "import torch.optim as optim\n",
    "import torch.nn.functional as F\n",
    "import torch.backends.cudnn as cudnn\n",
    "from torch.autograd import Variable\n",
    "\n",
    "import torchvision\n",
    "import torchvision.transforms as transforms"
   ]
  },
  {
   "cell_type": "code",
   "execution_count": 4,
   "id": "4468e923-f155-49af-8d5e-f7df3a57e4e2",
   "metadata": {
    "id": "4468e923-f155-49af-8d5e-f7df3a57e4e2"
   },
   "outputs": [],
   "source": [
    "# @title Set random seed\n",
    "\n",
    "# @markdown Executing `set_seed(seed=seed)` you are setting the seed\n",
    "\n",
    "# for DL its critical to set the random seed so that students can have a\n",
    "# baseline to compare their results to expected results.\n",
    "# Read more here: https://pytorch.org/docs/stable/notes/randomness.html\n",
    "\n",
    "# Call `set_seed` function in the exercises to ensure reproducibility.\n",
    "import random\n",
    "import torch\n",
    "\n",
    "def set_seed(seed=None, seed_torch=True):\n",
    "  if seed is None:\n",
    "    seed = np.random.choice(2 ** 32)\n",
    "  random.seed(seed)\n",
    "  np.random.seed(seed)\n",
    "  if seed_torch:\n",
    "    torch.manual_seed(seed)\n",
    "    torch.cuda.manual_seed_all(seed)\n",
    "    torch.cuda.manual_seed(seed)\n",
    "    torch.backends.cudnn.benchmark = False\n",
    "    torch.backends.cudnn.deterministic = True\n",
    "\n",
    "  print(f'Random seed {seed} has been set.')\n",
    "\n",
    "# In case that `DataLoader` is used\n",
    "def seed_worker(worker_id):\n",
    "  worker_seed = torch.initial_seed() % 2**32\n",
    "  np.random.seed(worker_seed)\n",
    "  random.seed(worker_seed)"
   ]
  },
  {
   "cell_type": "code",
   "execution_count": 5,
   "id": "752cf674-342c-4bd3-8c58-826f12700574",
   "metadata": {
    "id": "752cf674-342c-4bd3-8c58-826f12700574"
   },
   "outputs": [],
   "source": [
    "# @title Set device (GPU or CPU)\n",
    "\n",
    "# inform the user if the notebook uses GPU or CPU.\n",
    "\n",
    "def set_device():\n",
    "  device = \"cuda\" if torch.cuda.is_available() else \"cpu\"\n",
    "  if device != \"cuda\":\n",
    "    print(\"WARNING: For this notebook to perform best, \"\n",
    "        \"if possible, in the menu under `Runtime` -> \"\n",
    "        \"`Change runtime type.`  select `GPU` \")\n",
    "  else:\n",
    "    print(\"GPU is enabled in this notebook.\")\n",
    "\n",
    "  return device"
   ]
  },
  {
   "cell_type": "code",
   "execution_count": 6,
   "id": "0d82ab75-b01e-4ad4-b778-e0a68d60164d",
   "metadata": {
    "colab": {
     "base_uri": "https://localhost:8080/",
     "height": 71
    },
    "id": "0d82ab75-b01e-4ad4-b778-e0a68d60164d",
    "outputId": "d508f30f-224a-4f64-8fc7-2051f2201c17"
   },
   "outputs": [
    {
     "name": "stdout",
     "output_type": "stream",
     "text": [
      "Random seed 2021 has been set.\n",
      "GPU is enabled in this notebook.\n"
     ]
    },
    {
     "data": {
      "text/plain": [
       "'cuda'"
      ]
     },
     "execution_count": 6,
     "metadata": {},
     "output_type": "execute_result"
    }
   ],
   "source": [
    "set_seed(seed=2021)\n",
    "set_device()"
   ]
  },
  {
   "cell_type": "code",
   "execution_count": 7,
   "id": "b2151bc4-2707-4ca4-adc3-4fba615af5a8",
   "metadata": {
    "id": "b2151bc4-2707-4ca4-adc3-4fba615af5a8"
   },
   "outputs": [],
   "source": [
    "# hyper-parameters\n",
    "use_cuda = torch.cuda.is_available()\n",
    "alpha = 1  # alpha for mixup augmentation\n",
    "best_acc = 0  # best test accuracy\n",
    "start_epoch = 0  # start from epoch 0 or last checkpoint epoch\n",
    "batch_size = 128\n",
    "end_apochs = 200  # Please change this to 200\n",
    "base_learning_rate = 0.001\n",
    "cutout = True  # True/False if you want to use cutout augmentation\n",
    "mixup = False  # True/False if you want to use mixup augmentation\n",
    "n_holes = 4  # number of holes to cut out from image for cutout\n",
    "length = 2  # length of the holes for cutout augmentation\n",
    "torchvision_transforms = False  # True/False if you want use torchvision augmentations"
   ]
  },
  {
   "cell_type": "code",
   "execution_count": 8,
   "id": "51681a3f-8033-4beb-abcd-013129ecb7a1",
   "metadata": {
    "id": "51681a3f-8033-4beb-abcd-013129ecb7a1"
   },
   "outputs": [],
   "source": [
    "# @markdown `Cutout` Augmentation class\n",
    "\n",
    "class Cutout(object):\n",
    "    \"\"\"\n",
    "    code from: https://github.com/uoguelph-mlrg/Cutout\n",
    "    \n",
    "    Randomly mask out one or more patches from an image.\n",
    "    Args:\n",
    "      n_holes (int): Number of patches to cut out of each image.\n",
    "      length (int): The length (in pixels) of each square patch.\n",
    "    \"\"\"\n",
    "    def __init__(self, n_holes, length):\n",
    "        self.n_holes = n_holes\n",
    "        self.length = length\n",
    "    \n",
    "    def __call__(self, img):\n",
    "        \"\"\"\n",
    "        Args:\n",
    "            img (Tensor): Tensor image of size (C, H, W).\n",
    "        Returns:\n",
    "            Tensor: Image with n_holes of dimension length x length cut out of it.\n",
    "        \"\"\"\n",
    "        h = img.size(1)\n",
    "        w = img.size(2)\n",
    "        \n",
    "        mask = np.ones((h, w), np.float32)\n",
    "    \n",
    "        for n in range(self.n_holes):\n",
    "            y = np.random.randint(h)\n",
    "            x = np.random.randint(w)\n",
    "            \n",
    "            y1 = np.clip(y - self.length // 2, 0, h)\n",
    "            y2 = np.clip(y + self.length // 2, 0, h)\n",
    "            x1 = np.clip(x - self.length // 2, 0, w)\n",
    "            x2 = np.clip(x + self.length // 2, 0, w)\n",
    "            \n",
    "            mask[y1: y2, x1: x2] = 0.\n",
    "        \n",
    "        mask = torch.from_numpy(mask)\n",
    "        mask = mask.expand_as(img)\n",
    "        img = img * mask\n",
    "    \n",
    "        return img"
   ]
  },
  {
   "cell_type": "code",
   "execution_count": 9,
   "id": "8047cb30-f448-4492-bd25-2a34633a3e9a",
   "metadata": {
    "id": "8047cb30-f448-4492-bd25-2a34633a3e9a"
   },
   "outputs": [],
   "source": [
    "# @markdown `mixup_data` Augmentation function\n",
    "\n",
    "def mixup_data(x, y, alpha=1.0, use_cuda=True):\n",
    "    '''Compute the mixup data. Return mixed inputs, pairs of targets, and lambda\n",
    "      - https://github.com/hongyi-zhang/mixup\n",
    "    '''\n",
    "    if alpha > 0.:\n",
    "        lam = np.random.beta(alpha, alpha)\n",
    "    else:\n",
    "        lam = 1.\n",
    "    batch_size = x.size()[0]\n",
    "    \n",
    "    if use_cuda:\n",
    "        index = torch.randperm(batch_size).cuda()\n",
    "    else:\n",
    "        index = torch.randperm(batch_size)\n",
    "    \n",
    "    mixed_x = lam * x + (1 - lam) * x[index, :]\n",
    "    y_a, y_b = y, y[index]\n",
    "    \n",
    "    return mixed_x, y_a, y_b, lam"
   ]
  },
  {
   "cell_type": "code",
   "execution_count": 10,
   "id": "c01e7b97-d783-4a2e-ac56-035cb200de0d",
   "metadata": {
    "colab": {
     "base_uri": "https://localhost:8080/"
    },
    "id": "c01e7b97-d783-4a2e-ac56-035cb200de0d",
    "outputId": "91fa26ba-be8c-4ccc-cb2e-337c724c131b"
   },
   "outputs": [
    {
     "name": "stdout",
     "output_type": "stream",
     "text": [
      "==> Preparing data...\n",
      "Files already downloaded and verified\n",
      "Files already downloaded and verified\n"
     ]
    }
   ],
   "source": [
    "# @markdown Download and prepare Data\n",
    "print('==> Preparing data...')\n",
    "def percentageSplit(full_dataset, percent=0.0):\n",
    "    set1_size = int(percent * len(full_dataset))\n",
    "    set2_size = len(full_dataset) - set1_size\n",
    "    final_dataset, _ = torch.utils.data.random_split(full_dataset, [set1_size, set2_size])\n",
    "    return final_dataset\n",
    "\n",
    "# CIFAR100 normalizing\n",
    "# mean = [0.5071, 0.4866, 0.4409]\n",
    "# std = [0.2673, 0.2564, 0.2762]\n",
    "\n",
    "# CIFAR10 normalizing\n",
    "mean = (0.4914, 0.4822, 0.4465)\n",
    "std = (0.2023, 0.1994, 0.2010)\n",
    "\n",
    "# torchvision transforms\n",
    "transform_train = transforms.Compose([])\n",
    "if torchvision_transforms:\n",
    "    transform_train.transforms.append(transforms.RandomCrop(32, padding=4))\n",
    "    transform_train.transforms.append(transforms.RandomHorizontalFlip())\n",
    "\n",
    "transform_train.transforms.append(transforms.ToTensor())\n",
    "transform_train.transforms.append(transforms.Normalize(mean, std))\n",
    "\n",
    "if cutout:\n",
    "    transform_train.transforms.append(Cutout(n_holes=n_holes, length=length))\n",
    "\n",
    "transform_test = transforms.Compose([\n",
    "    transforms.ToTensor(),\n",
    "    transforms.Normalize(mean, std),\n",
    "])\n",
    "\n",
    "trainset = torchvision.datasets.CIFAR10(\n",
    "    root='./data', train=True, download=True,\n",
    "    transform=transform_train)\n",
    "\n",
    "testset = torchvision.datasets.CIFAR10(\n",
    "    root='./data', train=False, download=True,\n",
    "    transform=transform_test)"
   ]
  },
  {
   "cell_type": "code",
   "execution_count": 11,
   "id": "38ae20fe-2b43-48bf-a8d8-454d7c34ece2",
   "metadata": {
    "colab": {
     "base_uri": "https://localhost:8080/"
    },
    "id": "38ae20fe-2b43-48bf-a8d8-454d7c34ece2",
    "outputId": "d777d878-0590-4f21-8d32-bc1a0b2255b1"
   },
   "outputs": [
    {
     "name": "stdout",
     "output_type": "stream",
     "text": [
      "Object type: <class 'torchvision.datasets.cifar.CIFAR10'>\n",
      "Training data shape: (50000, 32, 32, 3)\n",
      "Test data shape: (10000, 32, 32, 3)\n",
      "Number of classes: 10\n"
     ]
    }
   ],
   "source": [
    "print(f\"Object type: {type(trainset)}\")\n",
    "print(f\"Training data shape: {trainset.data.shape}\")\n",
    "print(f\"Test data shape: {testset.data.shape}\")\n",
    "print(f\"Number of classes: {np.unique(trainset.targets).shape[0]}\")"
   ]
  },
  {
   "cell_type": "code",
   "execution_count": 12,
   "id": "9667572c-8d7a-40fa-893b-3251e01142d5",
   "metadata": {
    "colab": {
     "base_uri": "https://localhost:8080/"
    },
    "id": "9667572c-8d7a-40fa-893b-3251e01142d5",
    "outputId": "052c0b15-f4ab-4656-bdf3-21c7a0ddf395"
   },
   "outputs": [
    {
     "name": "stdout",
     "output_type": "stream",
     "text": [
      "size of the new trainset: 50000\n"
     ]
    }
   ],
   "source": [
    "# choose percentage from the trainset. set percent = 1.0 to use the whole train data\n",
    "percent = 1.0\n",
    "trainset = percentageSplit(trainset, percent = percent)\n",
    "print(f\"size of the new trainset: {len(trainset)}\")"
   ]
  },
  {
   "cell_type": "code",
   "execution_count": 13,
   "id": "40b4a47d-33b0-4f25-abdb-4bc01c5adc04",
   "metadata": {
    "colab": {
     "base_uri": "https://localhost:8080/"
    },
    "id": "40b4a47d-33b0-4f25-abdb-4bc01c5adc04",
    "outputId": "61875936-6a3a-4575-c45b-a9fb8e8e3c20"
   },
   "outputs": [
    {
     "name": "stdout",
     "output_type": "stream",
     "text": [
      "----> number of workers: 96\n"
     ]
    }
   ],
   "source": [
    "# Dataloader\n",
    "num_workers = multiprocessing.cpu_count()\n",
    "\n",
    "print(f'----> number of workers: {num_workers}')\n",
    "\n",
    "trainloader = torch.utils.data.DataLoader(\n",
    "    trainset, batch_size=batch_size, shuffle=True, num_workers=2)\n",
    "testloader = torch.utils.data.DataLoader(\n",
    "    testset, batch_size=batch_size, shuffle=False, num_workers=2)"
   ]
  },
  {
   "cell_type": "code",
   "execution_count": 14,
   "id": "d9942e37-67d5-464b-8aa4-d4bfe6102481",
   "metadata": {
    "colab": {
     "base_uri": "https://localhost:8080/"
    },
    "id": "d9942e37-67d5-464b-8aa4-d4bfe6102481",
    "outputId": "bb2aea30-8296-46b3-a79a-b353a883d457"
   },
   "outputs": [],
   "source": [
    "# get batch of data\n",
    "batch_X, batch_Y =  next(iter(trainloader))"
   ]
  },
  {
   "cell_type": "code",
   "execution_count": 15,
   "id": "5288773d-5b51-4bf2-b346-36d9c9733c88",
   "metadata": {
    "id": "5288773d-5b51-4bf2-b346-36d9c9733c88"
   },
   "outputs": [],
   "source": [
    "def plot_mixed_images(images):\n",
    "    inv_normalize = transforms.Normalize(\n",
    "                      mean= [-m/s for m, s in zip(mean, std)],\n",
    "                      std= [1/s for s in std]\n",
    "                    )\n",
    "    inv_PIL = transforms.ToPILImage()\n",
    "    fig = plt.figure(figsize=(10, 8))\n",
    "    \n",
    "    for i in range(1, len(images) + 1):\n",
    "        image = images[i-1]\n",
    "        ax = fig.add_subplot(1, 4, i)\n",
    "        inv_tensor = inv_normalize(image).cpu()\n",
    "        ax.imshow(inv_PIL(inv_tensor))\n",
    "        \n",
    "    plt.show()"
   ]
  },
  {
   "cell_type": "code",
   "execution_count": 16,
   "id": "9504ca6f-6383-4c2b-acb2-853d3e4054cc",
   "metadata": {
    "id": "9504ca6f-6383-4c2b-acb2-853d3e4054cc"
   },
   "outputs": [],
   "source": [
    "# Mixup Visualization\n",
    "if mixup:\n",
    "  alpha = 0.9\n",
    "  mixed_x, y_a, y_b, lam = mixup_data(batch_X.cuda(), batch_Y.cuda(), alpha=alpha, use_cuda=use_cuda)\n",
    "  plot_mixed_images(mixed_x[:4])"
   ]
  },
  {
   "cell_type": "code",
   "execution_count": 17,
   "id": "7d61b60b-a88b-4a3f-917f-331ed358182d",
   "metadata": {
    "colab": {
     "base_uri": "https://localhost:8080/",
     "height": 232
    },
    "id": "7d61b60b-a88b-4a3f-917f-331ed358182d",
    "outputId": "717c9f25-85af-4143-f9cd-94706d743a9a"
   },
   "outputs": [
    {
     "data": {
      "image/png": "[encoded data removed]",
      "text/plain": [
       "<Figure size 1000x800 with 4 Axes>"
      ]
     },
     "metadata": {},
     "output_type": "display_data"
    }
   ],
   "source": [
    "# Mixup Visualization\n",
    "if cutout:\n",
    "  plot_mixed_images(batch_X[:4])"
   ]
  },
  {
   "cell_type": "code",
   "execution_count": 18,
   "id": "88020803-4a55-4e4c-8600-525325a9093b",
   "metadata": {
    "id": "88020803-4a55-4e4c-8600-525325a9093b"
   },
   "outputs": [],
   "source": [
    "# @markdown ResNet model in PyTorch\n",
    "\n",
    "class Bottleneck(nn.Module):\n",
    "    \"\"\"\n",
    "    For deep networks, we use BottleNeck, which is proposed in the paper to have approximate computational complexity but save a lot of resources\n",
    "    zip_channels: The compressed dimension, the final output dimension is expansion * zip_channels\n",
    "    For the network structure of ResNet50/101/152, mainly because the third layer is 4 times the second layer, so expansion=4\n",
    "    \"\"\"\n",
    "    expansion = 4\n",
    "\n",
    "    def __init__(self, in_channels, zip_channels, stride=1):\n",
    "        super(Bottleneck, self).__init__()\n",
    "        out_channels = self.expansion * zip_channels\n",
    "        self.features = nn.Sequential(\n",
    "            nn.Conv2d(in_channels, zip_channels, kernel_size=1, bias=False),\n",
    "            nn.BatchNorm2d(zip_channels),\n",
    "            nn.ReLU(inplace=True),\n",
    "            nn.Conv2d(zip_channels, zip_channels, kernel_size=3, stride=stride, padding=1, bias=False),\n",
    "            nn.BatchNorm2d(zip_channels),\n",
    "            nn.ReLU(inplace=True),\n",
    "            nn.Conv2d(zip_channels, out_channels, kernel_size=1, bias=False),\n",
    "            nn.BatchNorm2d(out_channels)\n",
    "        )\n",
    "        self.shortcut = nn.Sequential()\n",
    "        if stride != 1 or in_channels != out_channels:\n",
    "            self.shortcut = nn.Sequential(\n",
    "                nn.Conv2d(in_channels, out_channels, kernel_size=1, stride=stride, bias=False),\n",
    "                nn.BatchNorm2d(out_channels)\n",
    "            )\n",
    "\n",
    "    def forward(self, x):\n",
    "        out = self.features(x)\n",
    "# print(out.shape)\n",
    "        out += self.shortcut(x)\n",
    "        out = torch.relu(out)\n",
    "        return out\n",
    "\n",
    "class BasicBlock(nn.Module):\n",
    "    \"\"\"\n",
    "    For shallow networks, such as ResNet-18/34, etc., use the basic Block\n",
    "    The base module is not compressed, so expansion=1\n",
    "    \"\"\"\n",
    "    expansion = 1\n",
    "    def __init__(self, in_channels, out_channels, stride=1):\n",
    "        super(BasicBlock,self).__init__()\n",
    "        self.features = nn.Sequential(\n",
    "            nn.Conv2d(in_channels, out_channels, kernel_size=3, stride=stride, padding=1, bias=False),\n",
    "            nn.BatchNorm2d(out_channels),\n",
    "            nn.ReLU(True),\n",
    "            nn.Conv2d(out_channels,out_channels, kernel_size=3, stride=1, padding=1, bias=False),\n",
    "            nn.BatchNorm2d(out_channels)\n",
    "        )\n",
    "        # If the input and output dimensions are not equal, use a 1x1 convolutional layer to change the dimension\n",
    "        self.shortcut = nn.Sequential()\n",
    "        if stride != 1 or in_channels != self.expansion * out_channels:\n",
    "            self.shortcut = nn.Sequential(\n",
    "                nn.Conv2d(in_channels, self.expansion * out_channels, kernel_size=1, stride=stride, bias=False),\n",
    "                nn.BatchNorm2d(self.expansion * out_channels),\n",
    "            )\n",
    "    def forward(self, x):\n",
    "        out = self.features(x)\n",
    "# print(out.shape)\n",
    "        out += self.shortcut(x)\n",
    "        out = torch.relu(out)\n",
    "        return out\n",
    "\n",
    "\n",
    "class ResNet(nn.Module):\n",
    "    \"\"\"\n",
    "    Different ResNet architectures are unified with one layer of feature extraction and four layers of residuals, and the difference lies in the depth of each layer of residuals.\n",
    "    For cifar10, the change of feature map size is as follows:\n",
    "    (32, 32, 3) -> [Conv2d] -> (32, 32, 64) -> [Res1] -> (32, 32, 64) -> [Res2]\n",
    " -> (16, 16, 128) -> [Res3] -> (8, 8, 256) ->[Res4] -> (4, 4, 512) -> [AvgPool]\n",
    " -> (1, 1, 512) -> [Reshape] -> (512) -> [Linear] -> (10)\n",
    "    \"\"\"\n",
    "    def __init__(self, block, num_blocks, num_classes=10, verbose = False):\n",
    "        super(ResNet, self).__init__()\n",
    "        self.verbose = verbose\n",
    "        self.in_channels = 64\n",
    "        self.features = nn.Sequential(\n",
    "            nn.Conv2d(3, 64, kernel_size=3, stride=1, padding=1, bias=False),\n",
    "            nn.BatchNorm2d(64),\n",
    "            nn.ReLU(inplace=True)\n",
    "        )\n",
    "        #Use the _make_layer function to generate the structure of conv2_x, conv3_x, conv4_x, conv5_x corresponding to the above table\n",
    "        self.layer1 = self._make_layer(block, 64, num_blocks[0], stride=1)\n",
    "        self.layer2 = self._make_layer(block, 128, num_blocks[1], stride=2)\n",
    "        self.layer3 = self._make_layer(block, 256, num_blocks[2], stride=2)\n",
    "        self.layer4 = self._make_layer(block, 512, num_blocks[3], stride=2)\n",
    "        # After cifar10 goes through the above structure, the feature map size here is 4 x 4 x 512 x expansion\n",
    "        # So 4 x 4 average pooling is used here\n",
    "        self.avg_pool = nn.AvgPool2d(kernel_size=4)\n",
    "        self.classifer = nn.Linear(512 *block.expansion, num_classes)\n",
    "\n",
    "    def _make_layer(self, block, out_channels, num_blocks, stride):\n",
    "        # The first block needs to be downsampled\n",
    "        strides = [stride] + [1]* (num_blocks - 1)\n",
    "        layers = []\n",
    "        for stride in strides:\n",
    "            layers.append(block(self.in_channels, out_channels, stride))\n",
    "            # If it is Bottleneck Block, you need to compress the input dimension of each layer, and then increase the dimension after compression\n",
    "            # So the input dimension of each layer should also change accordingly\n",
    "            self.in_channels = out_channels * block.expansion\n",
    "        return nn.Sequential(*layers)\n",
    "\n",
    "    def forward(self, x):\n",
    "        out = self.features(x)\n",
    "        if self.verbose:\n",
    "            print('block 1 output: {}'.format(out.shape))\n",
    "        out = self.layer1(out)\n",
    "        if self.verbose:\n",
    "            print('block 2 output: {}'.format(out.shape))\n",
    "        out = self.layer2(out)\n",
    "        if self.verbose:\n",
    "            print('block 3 output: {}'.format(out.shape))\n",
    "        out = self.layer3(out)\n",
    "        if self.verbose:\n",
    "            print('block 4 output: {}'.format(out.shape))\n",
    "        out = self.layer4(out)\n",
    "        if self.verbose:\n",
    "            print('block 5 output: {}'.format(out.shape))\n",
    "        out = self.avg_pool(out)\n",
    "        out = out.view(out.size(0), -1)\n",
    "        out = self.classifer(out)\n",
    "        return out\n",
    "\n",
    "\n",
    "def ResNet18(verbose=False):\n",
    "    return ResNet(BasicBlock, [2,2,2,2],verbose=verbose)\n",
    "\n",
    "def ResNet34(verbose=False):\n",
    "    return ResNet(BasicBlock, [3,4,6,3],verbose=verbose)\n",
    "\n",
    "def ResNet50(verbose=False):\n",
    "    return ResNet(Bottleneck, [3,4,6,3],verbose=verbose)\n",
    "\n",
    "def ResNet101(verbose=False):\n",
    "    return ResNet(Bottleneck, [3,4,23,3],verbose=verbose)\n",
    "\n",
    "def ResNet152(verbose=False):\n",
    "    return ResNet(Bottleneck, [3,8,36,3],verbose=verbose)"
   ]
  },
  {
   "cell_type": "code",
   "execution_count": 19,
   "id": "a822ab88-2c7e-4956-be96-49ef3ae55e1a",
   "metadata": {
    "colab": {
     "base_uri": "https://localhost:8080/"
    },
    "id": "a822ab88-2c7e-4956-be96-49ef3ae55e1a",
    "outputId": "fae3d218-5bb1-49b3-84e7-dde79b6097c0"
   },
   "outputs": [
    {
     "name": "stdout",
     "output_type": "stream",
     "text": [
      "-----> verify if model is run on random data\n",
      "model loaded\n",
      "Using 1 GPUs.\n",
      "Using CUDA..\n"
     ]
    }
   ],
   "source": [
    "# load the Model\n",
    "net = ResNet18()\n",
    "print('-----> verify if model is run on random data')\n",
    "y = net(Variable(torch.randn(1,3,32,32)))\n",
    "print('model loaded')\n",
    "\n",
    "result_folder = './results/'\n",
    "if not os.path.exists(result_folder):\n",
    "    os.makedirs(result_folder)\n",
    "\n",
    "proc = \"{}{}\".format(\"cutout\" if cutout else \"\", \"mixup\" if mixup else \"\") \n",
    "\n",
    "logname = result_folder + net.__class__.__name__ + '_' +proc+ 's_4.csv'\n",
    "\n",
    "if use_cuda:\n",
    "  net.cuda()\n",
    "  net = torch.nn.DataParallel(net)\n",
    "  print('Using', torch.cuda.device_count(), 'GPUs.')\n",
    "  cudnn.benchmark = True\n",
    "  print('Using CUDA..')"
   ]
  },
  {
   "cell_type": "code",
   "execution_count": 20,
   "id": "f608c868-98b2-4f1e-95cf-a9ea24b231fd",
   "metadata": {
    "id": "f608c868-98b2-4f1e-95cf-a9ea24b231fd"
   },
   "outputs": [],
   "source": [
    "# optimizer and criterion\n",
    "\n",
    "def mixup_criterion(y_a, y_b, lam):\n",
    "  '''\n",
    "    - Mixup criterion\n",
    "    - https://github.com/hongyi-zhang/mixup\n",
    "  '''\n",
    "  return lambda criterion, pred: lam * criterion(pred, y_a) + (1 - lam) * criterion(pred, y_b)\n",
    "\n",
    "criterion = nn.CrossEntropyLoss()\n",
    "optimizer = optim.Adam(net.parameters(), lr=base_learning_rate, weight_decay=5e-4)\n",
    "# scheduler = optim.lr_scheduler.ReduceLROnPlateau(optimizer, 'min', factor=0.1, patience=10, min_lr=1e-5)"
   ]
  },
  {
   "cell_type": "code",
   "execution_count": 21,
   "id": "8bca1f8c-472c-4f73-9cd3-bb4179bb2d1d",
   "metadata": {
    "id": "8bca1f8c-472c-4f73-9cd3-bb4179bb2d1d"
   },
   "outputs": [],
   "source": [
    "# Training & Test functions\n",
    "def train(epoch, alpha, use_cuda=False):\n",
    "    print('\\nEpoch: %d' % epoch)\n",
    "    \n",
    "    net.train()\n",
    "    train_loss = 0\n",
    "    correct = 0\n",
    "    total = 0\n",
    "    for batch_idx, (inputs, targets) in enumerate(trainloader):\n",
    "\n",
    "        if use_cuda:\n",
    "            inputs, targets = inputs.cuda(), targets.cuda()\n",
    "\n",
    "        optimizer.zero_grad()\n",
    "        if mixup:\n",
    "        # generate mixed inputs, two one-hot label vectors and mixing coefficient\n",
    "            inputs, targets_a, targets_b, lam = mixup_data(inputs, targets, alpha, use_cuda)\n",
    "            inputs, targets_a, targets_b = Variable(inputs), Variable(targets_a), Variable(targets_b)\n",
    "            outputs = net(inputs)\n",
    "            loss_func = mixup_criterion(targets_a, targets_b, lam)\n",
    "            loss = loss_func(criterion, outputs)\n",
    "        else:\n",
    "            inputs, targets = Variable(inputs), Variable(targets)\n",
    "            outputs = net(inputs)\n",
    "            loss = criterion(outputs, targets)\n",
    "\n",
    "        loss.backward()\n",
    "        optimizer.step()\n",
    "\n",
    "        train_loss += loss.item()\n",
    "        _, predicted = torch.max(outputs.data, 1)\n",
    "        total += targets.size(0)\n",
    "\n",
    "        if mixup:\n",
    "            correct += lam * predicted.eq(targets_a.data).cpu().sum() + (1 - lam) * predicted.eq(targets_b.data).cpu().sum()\n",
    "            # correct += lam * predicted.eq(targets_a.data).sum() + (1 - lam) * predicted.eq(targets_b.data).sum()\n",
    "        else:\n",
    "            correct += predicted.eq(targets.data).cpu().sum()\n",
    "            # correct += predicted.eq(targets.data).sum()\n",
    "\n",
    "        acc = 100.*(correct/total)\n",
    "        \n",
    "        if batch_idx % 500 == 0:\n",
    "            print(batch_idx, len(trainloader), 'Loss: %.3f | Acc: %.3f%% (%d/%d)' % (train_loss/(batch_idx+1), acc, correct, total))\n",
    "        \n",
    "\n",
    "    return (train_loss/batch_idx, acc)\n"
   ]
  },
  {
   "cell_type": "code",
   "execution_count": 22,
   "id": "QflbahkaF7La",
   "metadata": {
    "id": "QflbahkaF7La"
   },
   "outputs": [],
   "source": [
    "def test(epoch, use_cuda=False):\n",
    "    global best_acc\n",
    "    net.eval()\n",
    "    test_loss = 0\n",
    "    correct = 0\n",
    "    total = 0\n",
    "\n",
    "    with torch.no_grad():\n",
    "        for batch_idx, (inputs, targets) in enumerate(testloader):\n",
    "            if use_cuda:\n",
    "                inputs, targets = inputs.cuda(), targets.cuda()\n",
    "            # inputs, targets = Variable(inputs, volatile=True), Variable(targets)\n",
    "            outputs = net(inputs)\n",
    "            loss = criterion(outputs, targets)\n",
    "\n",
    "            test_loss += loss.item()\n",
    "            _, predicted = torch.max(outputs.data, 1)\n",
    "            total += targets.size(0)\n",
    "            correct += predicted.eq(targets.data).cpu().sum()\n",
    "            # correct += predicted.eq(targets.data).sum()\n",
    "            \n",
    "\n",
    "            if batch_idx % 200 == 0:\n",
    "                print(batch_idx, len(testloader), 'Loss: %.3f | Acc: %.3f%% (%d/%d)'% (test_loss/(batch_idx+1), 100.*correct/total, correct, total))\n",
    "\n",
    "    # Save checkpoint.\n",
    "    acc = 100.*(correct/total)\n",
    "    \n",
    "    if acc > best_acc:\n",
    "        best_acc = acc\n",
    "        checkpoint(acc, epoch)\n",
    "    return (test_loss/batch_idx, acc)"
   ]
  },
  {
   "cell_type": "code",
   "execution_count": 23,
   "id": "a055a55b-0f37-4967-99c1-85d5fc9251d7",
   "metadata": {
    "id": "a055a55b-0f37-4967-99c1-85d5fc9251d7"
   },
   "outputs": [],
   "source": [
    "# @markdown `checkpoint` and `adjust_learning_rate` functions\n",
    "def checkpoint(acc, epoch):\n",
    "  # Save checkpoint.\n",
    "  print('Saving..')\n",
    "  state = {\n",
    "      'net': net.state_dict(),\n",
    "      'acc': acc,\n",
    "      'epoch': epoch,\n",
    "      'rng_state': torch.get_rng_state()\n",
    "      }\n",
    "  if not os.path.isdir('checkpoint'):\n",
    "    os.mkdir('checkpoint')\n",
    "  torch.save(state, './checkpoint/ckpt.t7')\n",
    "\n",
    "\n",
    "def adjust_learning_rate(optimizer, epoch):\n",
    "  \"\"\"decrease the learning rate at 100 and 150 epoch\"\"\"\n",
    "  lr = base_learning_rate\n",
    "  if epoch <= 9 and lr > 0.1:\n",
    "    # warm-up training for large minibatch\n",
    "    lr = 0.1 + (base_learning_rate - 0.1) * epoch / 10.\n",
    "  if epoch >= 100:\n",
    "    lr /= 10\n",
    "  if epoch >= 150:\n",
    "    lr /= 10\n",
    "  for param_group in optimizer.param_groups:\n",
    "    param_group['lr'] = lr"
   ]
  },
  {
   "cell_type": "code",
   "execution_count": null,
   "id": "0205c8f4-19e5-4401-9149-2798f248fd03",
   "metadata": {
    "colab": {
     "base_uri": "https://localhost:8080/",
     "height": 394
    },
    "id": "0205c8f4-19e5-4401-9149-2798f248fd03",
    "outputId": "7f2956b6-1fca-4199-abea-945c81f2219f"
   },
   "outputs": [],
   "source": [
    "# start training\n",
    "if not os.path.exists(logname):\n",
    "  with open(logname, 'w') as logfile:\n",
    "    logwriter = csv.writer(logfile, delimiter=',')\n",
    "    logwriter.writerow(['epoch', 'train loss', 'train acc',\n",
    "                        'test loss', 'test acc'])\n",
    "\n",
    "for epoch in range(start_epoch+1, end_apochs+1):\n",
    "#   adjust_learning_rate(optimizer, epoch)\n",
    "    start = time.time()\n",
    "\n",
    "    train_loss, train_acc = train(epoch, alpha, use_cuda=use_cuda)\n",
    "    test_loss, test_acc = test(epoch, use_cuda=use_cuda)\n",
    "\n",
    "    # scheduler.step(test_loss)\n",
    "\n",
    "    end = time.time()\n",
    "\n",
    "    time_ = int(end - start)\n",
    "    h = time_ / 3600\n",
    "    m = time_ % 3600 /60\n",
    "    s = time_ % 60\n",
    "    time_str = \"%02d:%02d\" % ( m, s)\n",
    "\n",
    "\n",
    "    with open(logname, 'a') as logfile:\n",
    "        logwriter = csv.writer(logfile, delimiter=',')\n",
    "        logwriter.writerow([epoch, train_loss, train_acc.item(),test_loss, test_acc.item()])\n",
    "        \n",
    "    print(f\"Epoch: {epoch} | Time Per Epoch: {time_str} | train acc: {train_acc:.2f} | test acc: {test_acc:.2f}% | Learning Rate: {optimizer.param_groups[0]['lr']}\")"
   ]
  },
  {
   "cell_type": "code",
   "execution_count": 25,
   "id": "d76bb4f2-eb58-426c-8ebc-1b539eb034b5",
   "metadata": {
    "id": "d76bb4f2-eb58-426c-8ebc-1b539eb034b5"
   },
   "outputs": [
    {
     "data": {
      "text/html": [
       "<div>\n",
       "<style scoped>\n",
       "    .dataframe tbody tr th:only-of-type {\n",
       "        vertical-align: middle;\n",
       "    }\n",
       "\n",
       "    .dataframe tbody tr th {\n",
       "        vertical-align: top;\n",
       "    }\n",
       "\n",
       "    .dataframe thead th {\n",
       "        text-align: right;\n",
       "    }\n",
       "</style>\n",
       "<table border=\"1\" class=\"dataframe\">\n",
       "  <thead>\n",
       "    <tr style=\"text-align: right;\">\n",
       "      <th></th>\n",
       "      <th>epoch</th>\n",
       "      <th>train loss</th>\n",
       "      <th>train acc</th>\n",
       "      <th>test loss</th>\n",
       "      <th>test acc</th>\n",
       "    </tr>\n",
       "  </thead>\n",
       "  <tbody>\n",
       "    <tr>\n",
       "      <th>0</th>\n",
       "      <td>1</td>\n",
       "      <td>1.789626</td>\n",
       "      <td>35.012001</td>\n",
       "      <td>1.736563</td>\n",
       "      <td>37.230000</td>\n",
       "    </tr>\n",
       "    <tr>\n",
       "      <th>1</th>\n",
       "      <td>2</td>\n",
       "      <td>1.358690</td>\n",
       "      <td>50.290001</td>\n",
       "      <td>1.381748</td>\n",
       "      <td>49.680000</td>\n",
       "    </tr>\n",
       "    <tr>\n",
       "      <th>2</th>\n",
       "      <td>3</td>\n",
       "      <td>1.165976</td>\n",
       "      <td>57.740002</td>\n",
       "      <td>1.171485</td>\n",
       "      <td>59.069996</td>\n",
       "    </tr>\n",
       "    <tr>\n",
       "      <th>3</th>\n",
       "      <td>4</td>\n",
       "      <td>1.079423</td>\n",
       "      <td>61.029999</td>\n",
       "      <td>1.444041</td>\n",
       "      <td>50.279999</td>\n",
       "    </tr>\n",
       "    <tr>\n",
       "      <th>4</th>\n",
       "      <td>5</td>\n",
       "      <td>1.023007</td>\n",
       "      <td>63.392002</td>\n",
       "      <td>1.157017</td>\n",
       "      <td>59.280003</td>\n",
       "    </tr>\n",
       "  </tbody>\n",
       "</table>\n",
       "</div>"
      ],
      "text/plain": [
       "   epoch  train loss  train acc  test loss   test acc\n",
       "0      1    1.789626  35.012001   1.736563  37.230000\n",
       "1      2    1.358690  50.290001   1.381748  49.680000\n",
       "2      3    1.165976  57.740002   1.171485  59.069996\n",
       "3      4    1.079423  61.029999   1.444041  50.279999\n",
       "4      5    1.023007  63.392002   1.157017  59.280003"
      ]
     },
     "execution_count": 25,
     "metadata": {},
     "output_type": "execute_result"
    }
   ],
   "source": [
    "# plot results\n",
    "results = pd.read_csv(logname, sep=',')\n",
    "results.head()"
   ]
  },
  {
   "cell_type": "code",
   "execution_count": 26,
   "id": "9d0e14dd-d893-4926-95f8-00e3f1335e94",
   "metadata": {
    "id": "9d0e14dd-d893-4926-95f8-00e3f1335e94"
   },
   "outputs": [
    {
     "name": "stdout",
     "output_type": "stream",
     "text": [
      "Average test Accuracy over 200 epochs: 80.0\n",
      "best test accuraccy over 200 epochs: 85.38999938964844\n",
      "best test accuraccy over 200 epochs: 97.60800170898438\n"
     ]
    }
   ],
   "source": [
    "train_accuracy = results['train acc'].values\n",
    "test_accuracy = results['test acc'].values\n",
    "\n",
    "print(f\"Average test Accuracy over {end_apochs} epochs: {sum(test_accuracy)//len(test_accuracy)}\")\n",
    "print(f\"best test accuraccy over {end_apochs} epochs: {max(test_accuracy)}\")\n",
    "print(f\"best test accuraccy over {end_apochs} epochs: {max(train_accuracy)}\")"
   ]
  },
  {
   "cell_type": "code",
   "execution_count": 25,
   "id": "1a25dec5-2785-4367-87a4-c77a19997732",
   "metadata": {
    "id": "1a25dec5-2785-4367-87a4-c77a19997732"
   },
   "outputs": [
    {
     "data": {
      "image/png": "[encoded data removed]",
      "text/plain": [
       "<Figure size 900x600 with 1 Axes>"
      ]
     },
     "metadata": {},
     "output_type": "display_data"
    }
   ],
   "source": [
    "plt.figure(figsize=(9, 6))\n",
    "plt.plot(sorted(results['epoch'].values), train_accuracy, label='train')\n",
    "plt.plot(sorted(results['epoch'].values), test_accuracy, label='test')\n",
    "plt.xlabel('Number of epochs')\n",
    "plt.ylabel('Accuracy')\n",
    "plt.title(f'Train/Test Accuracy curve for {end_apochs} epochs')\n",
    "plt.legend()\n",
    "plt.show()"
   ]
  },
  {
   "cell_type": "code",
   "execution_count": null,
   "id": "OFhisUF4GYpp",
   "metadata": {
    "id": "OFhisUF4GYpp"
   },
   "outputs": [],
   "source": []
  }
 ],
 "metadata": {
  "accelerator": "GPU",
  "colab": {
   "gpuType": "T4",
   "provenance": []
  },
  "kernelspec": {
   "display_name": "Python 3 (ipykernel)",
   "language": "python",
   "name": "python3"
  },
  "language_info": {
   "codemirror_mode": {
    "name": "ipython",
    "version": 3
   },
   "file_extension": ".py",
   "mimetype": "text/x-python",
   "name": "python",
   "nbconvert_exporter": "python",
   "pygments_lexer": "ipython3",
   "version": "3.10.13"
  }
 },
 "nbformat": 4,
 "nbformat_minor": 5
}
