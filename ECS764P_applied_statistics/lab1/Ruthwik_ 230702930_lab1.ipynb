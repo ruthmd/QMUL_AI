{
 "cells": [
  {
   "cell_type": "markdown",
   "metadata": {},
   "source": [
    "# Question 1"
   ]
  },
  {
   "cell_type": "code",
   "execution_count": 126,
   "metadata": {},
   "outputs": [],
   "source": [
    "def counting_measure(a):\n",
    "    if not isinstance(a, set):\n",
    "        raise TypeError(\"Iterables only of type 'set' are allowed\\n\")\n",
    "    return len(a)"
   ]
  },
  {
   "cell_type": "code",
   "execution_count": 127,
   "metadata": {},
   "outputs": [
    {
     "data": {
      "text/plain": [
       "3"
      ]
     },
     "execution_count": 127,
     "metadata": {},
     "output_type": "execute_result"
    }
   ],
   "source": [
    "counting_measure({\"a\", \"b\", \"c\"})"
   ]
  },
  {
   "cell_type": "code",
   "execution_count": 128,
   "metadata": {},
   "outputs": [],
   "source": [
    "def check(a, b):\n",
    "    if counting_measure(a)+counting_measure(b) != counting_measure(a.union(b)):\n",
    "        raise Exception(\"The above sets are not Disjoint\\n\")\n",
    "    return f\"Additivity check holds: count(a) {len(a)} + count(b) {len(b)} = count(aUb) {len(a.union(b))}\""
   ]
  },
  {
   "cell_type": "code",
   "execution_count": 129,
   "metadata": {},
   "outputs": [
    {
     "data": {
      "text/plain": [
       "'Additivity check holds: count(a) 3 + count(b) 3 = count(aUb) 6'"
      ]
     },
     "execution_count": 129,
     "metadata": {},
     "output_type": "execute_result"
    }
   ],
   "source": [
    "check({\"a\", \"b\", \"c\"}, {\"d\", \"e\", \"f\"})"
   ]
  },
  {
   "cell_type": "markdown",
   "metadata": {},
   "source": [
    "# Question 2"
   ]
  },
  {
   "cell_type": "code",
   "execution_count": 130,
   "metadata": {},
   "outputs": [],
   "source": [
    "class Intervals():\n",
    "    def __init__(self, a, b):\n",
    "        self.a = a\n",
    "        self.b = b\n",
    "\n",
    "        if not isinstance(a, float) and isinstance(b, float):\n",
    "            raise TypeError(\"intervels are constrained to only of type float\\n\")\n",
    "        elif a > b:\n",
    "            raise Exception(\"The first element in the range should be smaller than the second!\\n\")\n",
    "        \n",
    "def length_measure(intervel):\n",
    "    return abs(intervel.b-intervel.a)"
   ]
  },
  {
   "cell_type": "code",
   "execution_count": 131,
   "metadata": {},
   "outputs": [
    {
     "data": {
      "text/plain": [
       "2.5"
      ]
     },
     "execution_count": 131,
     "metadata": {},
     "output_type": "execute_result"
    }
   ],
   "source": [
    "x = Intervals(1., 3.5)\n",
    "length_measure(x)"
   ]
  },
  {
   "cell_type": "markdown",
   "metadata": {},
   "source": [
    "# Question 3"
   ]
  },
  {
   "cell_type": "code",
   "execution_count": 132,
   "metadata": {},
   "outputs": [],
   "source": [
    "from scipy.stats import expon \n",
    "import matplotlib.pyplot as plt\n",
    "import numpy as np\n",
    "import math"
   ]
  },
  {
   "cell_type": "code",
   "execution_count": 133,
   "metadata": {},
   "outputs": [],
   "source": [
    "def expon_measure(intervel, l=2):\n",
    "    return expon.cdf(intervel.b, scale=1/l) - expon.cdf(intervel.a, scale=1/l)"
   ]
  },
  {
   "cell_type": "code",
   "execution_count": 134,
   "metadata": {},
   "outputs": [
    {
     "name": "stdout",
     "output_type": "stream",
     "text": [
      "[0.8646647167633873, 0.0, 0.13533528117545912, 1.0]\n"
     ]
    },
    {
     "data": {
      "image/png": "[encoded data removed]",
      "text/plain": [
       "<Figure size 640x480 with 1 Axes>"
      ]
     },
     "metadata": {},
     "output_type": "display_data"
    }
   ],
   "source": [
    "intervels = [Intervals(0., 1.), Intervals(1., 1.), Intervals(1., 10.), Intervals(0., np.inf)]\n",
    "\n",
    "print(list(map(expon_measure, intervels)))\n",
    "x = np.linspace(0, 10, 100)\n",
    "y = expon.pdf(x, scale=1/2)\n",
    "\n",
    "plt.plot(x, y)\n",
    "plt.show()"
   ]
  },
  {
   "cell_type": "markdown",
   "metadata": {},
   "source": [
    "### Comparing the reslutant values with a plot of PDF of an exponential distribution, they are similar\n",
    "#### 1. '0.8646647167633873' is in the intertvel [0, 1] \n",
    "#### 2. '0.0' for the intervel [1, 1] as there is no difference in cdf values\n",
    "#### 3. '0.13533528117545912' is in the intertvel [0, 10] as the PDF tapers off\n",
    "#### 4. '1.0' is the total probality as it's in the intervel [0, np.inf]"
   ]
  },
  {
   "cell_type": "markdown",
   "metadata": {},
   "source": [
    "# Question 4"
   ]
  },
  {
   "cell_type": "code",
   "execution_count": 135,
   "metadata": {},
   "outputs": [
    {
     "data": {
      "text/plain": [
       "[0.8646647167633873, 0.0, 0.1353352811754591, 0.9999999999999999]"
      ]
     },
     "execution_count": 135,
     "metadata": {},
     "output_type": "execute_result"
    }
   ],
   "source": [
    "from matplotlib import scale\n",
    "import scipy.integrate as integrate\n",
    "\n",
    "[integrate.quad(lambda x: expon.pdf(x, scale=1/2), intervel.a, intervel.b)[0] for intervel in intervels]"
   ]
  },
  {
   "cell_type": "markdown",
   "metadata": {},
   "source": [
    "### The values are quite similar to the results form Question 3 bar minute errors due to the implementation of integration function."
   ]
  }
 ],
 "metadata": {
  "kernelspec": {
   "display_name": "base",
   "language": "python",
   "name": "python3"
  },
  "language_info": {
   "codemirror_mode": {
    "name": "ipython",
    "version": 3
   },
   "file_extension": ".py",
   "mimetype": "text/x-python",
   "name": "python",
   "nbconvert_exporter": "python",
   "pygments_lexer": "ipython3",
   "version": "3.11.5"
  }
 },
 "nbformat": 4,
 "nbformat_minor": 2
}
