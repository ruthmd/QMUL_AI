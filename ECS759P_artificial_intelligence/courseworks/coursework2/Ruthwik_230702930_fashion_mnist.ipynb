{
 "cells": [
  {
   "cell_type": "code",
   "execution_count": 12,
   "metadata": {},
   "outputs": [],
   "source": [
    "import torch\n",
    "import torch.nn as nn\n",
    "import torch.optim as optim\n",
    "from torchvision import datasets, transforms\n",
    "from torch.utils.data import DataLoader\n",
    "import matplotlib.pyplot as plt\n",
    "import numpy as np"
   ]
  },
  {
   "cell_type": "code",
   "execution_count": 13,
   "metadata": {},
   "outputs": [
    {
     "data": {
      "text/plain": [
       "(4, 'NVIDIA A100 80GB PCIe')"
      ]
     },
     "execution_count": 13,
     "metadata": {},
     "output_type": "execute_result"
    }
   ],
   "source": [
    "torch.cuda.device_count(), torch.cuda.get_device_name(0)"
   ]
  },
  {
   "cell_type": "code",
   "execution_count": 14,
   "metadata": {},
   "outputs": [
    {
     "name": "stdout",
     "output_type": "stream",
     "text": [
      "cuda\n"
     ]
    }
   ],
   "source": [
    "# Check if GPU is available and set device\n",
    "device = torch.device('cuda' if torch.cuda.is_available() else 'cpu')\n",
    "print(device)"
   ]
  },
  {
   "cell_type": "code",
   "execution_count": 15,
   "metadata": {},
   "outputs": [
    {
     "data": {
      "text/plain": [
       "<torch._C.Generator at 0x7f67cc11f530>"
      ]
     },
     "execution_count": 15,
     "metadata": {},
     "output_type": "execute_result"
    }
   ],
   "source": [
    "# Define the data transformations\n",
    "transform = transforms.Compose([transforms.ToTensor()])\n",
    "\n",
    "# Load the Fashion MNIST dataset\n",
    "train_dataset = datasets.FashionMNIST(root='./data', train=True, transform=transform, download=True)\n",
    "test_dataset = datasets.FashionMNIST(root='./data', train=False, transform=transform, download=True)\n",
    "\n",
    "# Create data loaders\n",
    "train_loader = DataLoader(dataset=train_dataset, batch_size=32, shuffle=True)\n",
    "test_loader = DataLoader(dataset=test_dataset, batch_size=32, shuffle=False)\n",
    "\n",
    "torch.manual_seed(0)"
   ]
  },
  {
   "cell_type": "code",
   "execution_count": 16,
   "metadata": {},
   "outputs": [],
   "source": [
    "# # If you are using CuDNN , otherwise you can just ignore\n",
    "torch.cuda.manual_seed(0)\n",
    "torch.backends.cudnn.deterministic=True\n",
    "torch.backends.cudnn.benchmark=False"
   ]
  },
  {
   "cell_type": "code",
   "execution_count": 17,
   "metadata": {},
   "outputs": [],
   "source": [
    "# tune_me\n",
    "activation = nn.ReLU()\n",
    "learning_rate = 0.1"
   ]
  },
  {
   "cell_type": "code",
   "execution_count": 18,
   "metadata": {},
   "outputs": [],
   "source": [
    "# Define the CNN architecture\n",
    "class FashionCNN(nn.Module):\n",
    "    def __init__(self):\n",
    "        super(FashionCNN, self).__init__()\n",
    "\n",
    "        self.conv1 = nn.Conv2d(1, 32, kernel_size=5, stride=1)\n",
    "        self.activation1 = activation\n",
    "        self.pool1 = nn.MaxPool2d(kernel_size=2, stride=2)\n",
    "\n",
    "        self.conv2 = nn.Conv2d(32, 64, kernel_size=5, stride=1)\n",
    "        self.activation2 = activation\n",
    "        self.pool2 = nn.MaxPool2d(kernel_size=2, stride=2)\n",
    "\n",
    "        self.fc1 = nn.Linear(1024, 1024)\n",
    "        self.activation3 = activation\n",
    "\n",
    "        self.fc2 = nn.Linear(1024, 256)\n",
    "        self.activation4 = activation\n",
    "\n",
    "        self.dropout = nn.Dropout(p=0.3)\n",
    "\n",
    "        self.fc3 = nn.Linear(256, 10)\n",
    "\n",
    "    def forward(self, x):\n",
    "        x = self.pool1(self.activation1(self.conv1(x)))\n",
    "        x = self.pool2(self.activation2(self.conv2(x)))\n",
    "        \n",
    "        # flatten for fully connected layer\n",
    "        x = x.view(x.size(0), -1)\n",
    "        x = self.activation3(self.fc1(x))\n",
    "        x = self.activation4(self.fc2(x))\n",
    "        \n",
    "        x = self.dropout(x)\n",
    "        x = self.fc3(x)\n",
    "        return x"
   ]
  },
  {
   "cell_type": "code",
   "execution_count": 19,
   "metadata": {},
   "outputs": [],
   "source": [
    "def init_weights(m):\n",
    "    if isinstance(m, nn.Linear) and isinstance(m, nn.Conv2d):\n",
    "        nn.init.xavier_uniform_(m.weight)"
   ]
  },
  {
   "cell_type": "code",
   "execution_count": 20,
   "metadata": {},
   "outputs": [
    {
     "name": "stdout",
     "output_type": "stream",
     "text": [
      "FashionCNN(\n",
      "  (conv1): Conv2d(1, 32, kernel_size=(5, 5), stride=(1, 1))\n",
      "  (activation1): ReLU()\n",
      "  (pool1): MaxPool2d(kernel_size=2, stride=2, padding=0, dilation=1, ceil_mode=False)\n",
      "  (conv2): Conv2d(32, 64, kernel_size=(5, 5), stride=(1, 1))\n",
      "  (activation2): ReLU()\n",
      "  (pool2): MaxPool2d(kernel_size=2, stride=2, padding=0, dilation=1, ceil_mode=False)\n",
      "  (fc1): Linear(in_features=1024, out_features=1024, bias=True)\n",
      "  (activation3): ReLU()\n",
      "  (fc2): Linear(in_features=1024, out_features=256, bias=True)\n",
      "  (activation4): ReLU()\n",
      "  (dropout): Dropout(p=0.3, inplace=False)\n",
      "  (fc3): Linear(in_features=256, out_features=10, bias=True)\n",
      ")\n"
     ]
    }
   ],
   "source": [
    "# Move the model to GPU\n",
    "model = FashionCNN().to(device)\n",
    "model.apply(init_weights)\n",
    "\n",
    "print(model)\n",
    "\n",
    "# Instantiate the loss function and optimizer\n",
    "criterion = nn.CrossEntropyLoss()\n",
    "criterion.to(device)\n",
    "optimizer = optim.SGD(list(model.parameters()), lr=learning_rate)\n",
    "\n",
    "\n",
    "# criterion = nn.CrossEntropyLoss()\n",
    "# optimizer = optim.Adam(list(model.parameters()), lr=learning_rate)"
   ]
  },
  {
   "cell_type": "code",
   "execution_count": 21,
   "metadata": {},
   "outputs": [],
   "source": [
    "def evaluation(dataloader):\n",
    "  total, correct = 0,0\n",
    "  # turn on evaluate mode, this de-activates certain modes such as dropout\n",
    "  # good practice to include in your projects\n",
    "  model.eval()\n",
    "  for data in dataloader:\n",
    "\n",
    "    inputs, labels = data\n",
    "    inputs, labels = inputs.to(device), labels.to(device)\n",
    "    outputs = model(inputs)\n",
    "    # we take the index of the class that received the highest value\n",
    "    # we take outputs.data so that no backpropagation is performed for these outputs\n",
    "    _, pred = torch.max(outputs.data, 1)\n",
    "    total += labels.size(0)\n",
    "    # .item() takes Python float values from the tensor\n",
    "    correct += (pred == labels).sum().item()\n",
    "  return 100 * correct / total"
   ]
  },
  {
   "cell_type": "code",
   "execution_count": null,
   "metadata": {},
   "outputs": [
    {
     "name": "stdout",
     "output_type": "stream",
     "text": [
      "Epoch 1: loss: 1170.087720297277, train accuracy: 85.43666666666667, valid accuracy:84.4\n",
      "Epoch 2: loss: 656.2253056056798, train accuracy: 89.71666666666667, valid accuracy:88.28\n",
      "Epoch 3: loss: 546.2004272732884, train accuracy: 89.865, valid accuracy:87.95\n",
      "Epoch 4: loss: 485.3447560723871, train accuracy: 91.13333333333334, valid accuracy:89.01\n",
      "Epoch 5: loss: 436.79365026950836, train accuracy: 92.54833333333333, valid accuracy:90.03\n",
      "Epoch 6: loss: 397.61660710535944, train accuracy: 93.325, valid accuracy:90.38\n",
      "Epoch 7: loss: 360.6707063424401, train accuracy: 93.72, valid accuracy:90.58\n",
      "Epoch 8: loss: 331.0344875762239, train accuracy: 93.39666666666666, valid accuracy:90.17\n",
      "Epoch 9: loss: 303.0613756850362, train accuracy: 95.55166666666666, valid accuracy:91.35\n"
     ]
    }
   ],
   "source": [
    "loss_epoch_array = []\n",
    "max_epochs = 30\n",
    "loss_epoch = 0\n",
    "train_accuracy = []\n",
    "test_accuracy = []\n",
    "# loop over epochs\n",
    "for epoch in range(max_epochs):\n",
    "  # we will compute sum of batch losses per epoch\n",
    "  loss_epoch = 0\n",
    "  # loop over batches\n",
    "  for i, data in enumerate(train_loader, 0):\n",
    "    # to ensure the training mode is \"turned on\"\n",
    "    model.train()\n",
    "    inputs, labels = data\n",
    "    inputs, labels = inputs.to(device), labels.to(device)\n",
    "    # zero the gradients\n",
    "    optimizer.zero_grad()\n",
    "    outputs = model(inputs)\n",
    "    # compute the loss\n",
    "    loss = criterion(outputs, labels)\n",
    "    # calculate the gradients\n",
    "    loss.backward()\n",
    "    # update the parameters using the gradients and optimizer algorithm\n",
    "    optimizer.step()\n",
    "    # we sum the loss over batches\n",
    "    loss_epoch += loss.item()\n",
    "\n",
    "  loss_epoch_array.append(loss_epoch)\n",
    "  train_accuracy.append(evaluation(train_loader))\n",
    "  test_accuracy.append(evaluation(test_loader))\n",
    "  print(\"Epoch {}: loss: {}, train accuracy: {}, valid accuracy:{}\".format(epoch + 1, loss_epoch_array[-1], train_accuracy[-1], test_accuracy[-1]))"
   ]
  },
  {
   "cell_type": "code",
   "execution_count": null,
   "metadata": {},
   "outputs": [],
   "source": [
    "plt.xlabel(\"Epoch\")\n",
    "plt.ylabel(\"Accuracy\")\n",
    "plt.plot(train_accuracy, \"r\")\n",
    "plt.plot(test_accuracy, \"b\")\n",
    "plt.gca().legend(('train','test'))"
   ]
  },
  {
   "cell_type": "code",
   "execution_count": null,
   "metadata": {},
   "outputs": [],
   "source": [
    "plt.xlabel(\"Epoch\")\n",
    "plt.ylabel(\"Loss\")\n",
    "plt.plot(loss_epoch_array)"
   ]
  }
 ],
 "metadata": {
  "kernelspec": {
   "display_name": "Python 3 (ipykernel)",
   "language": "python",
   "name": "python3"
  },
  "language_info": {
   "codemirror_mode": {
    "name": "ipython",
    "version": 3
   },
   "file_extension": ".py",
   "mimetype": "text/x-python",
   "name": "python",
   "nbconvert_exporter": "python",
   "pygments_lexer": "ipython3",
   "version": "3.10.13"
  }
 },
 "nbformat": 4,
 "nbformat_minor": 4
}
