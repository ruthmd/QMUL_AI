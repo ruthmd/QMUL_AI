{
 "cells": [
  {
   "cell_type": "code",
   "execution_count": 450,
   "metadata": {},
   "outputs": [],
   "source": [
    "import math\n",
    "import hashlib\n",
    "import random\n",
    "import numpy as np\n",
    "import string"
   ]
  },
  {
   "cell_type": "code",
   "execution_count": 451,
   "metadata": {},
   "outputs": [],
   "source": [
    "def get_password(student_username, l=10):\n",
    "    # possible characters include upper-case English letters,\n",
    "    # numbers between 0 and 9 (inclusive),\n",
    "    # and the underscore symbol\n",
    "    options = string.digits + string.ascii_uppercase + \"_\"\n",
    "        \n",
    "    h = hashlib.sha256((\"ECS759P-AI\"+student_username).encode(\"utf-8\"))\n",
    "    d = h.digest()\n",
    "    s = \"\"\n",
    "    for n in d:\n",
    "        s += options[n%len(options)]\n",
    "    return s[0:l]"
   ]
  },
  {
   "cell_type": "code",
   "execution_count": 452,
   "metadata": {},
   "outputs": [],
   "source": [
    "# hyperparameters\n",
    "\n",
    "POPULATION_SIZE = 500\n",
    "MUTATION_RATE = 0.1\n",
    "CROSSOVER_RATE = 0.9\n",
    "TARGET_PASSWORD = get_password('ec23759') # \"TRT9_2U6R8\"\n",
    "GENERATIONS = 1000"
   ]
  },
  {
   "cell_type": "code",
   "execution_count": 453,
   "metadata": {},
   "outputs": [],
   "source": [
    "# random password generator\n",
    "def generate_random_password(length):\n",
    "    return ''.join(random.choice(string.ascii_uppercase + string.digits + '_') for _ in range(length))"
   ]
  },
  {
   "cell_type": "code",
   "execution_count": 454,
   "metadata": {},
   "outputs": [],
   "source": [
    "def distance_function(string_one, string_two):\n",
    "    score = 0\n",
    "    for i, j in zip(string_one, string_two):\n",
    "        score += math.sqrt(abs(ord(i) - ord(j)))\n",
    "    return score"
   ]
  },
  {
   "cell_type": "code",
   "execution_count": 455,
   "metadata": {},
   "outputs": [],
   "source": [
    "MAX_VALUE = distance_function('0000000000', '__________')"
   ]
  },
  {
   "cell_type": "code",
   "execution_count": 456,
   "metadata": {},
   "outputs": [],
   "source": [
    "def get_normalised_fitness(list_of_phrases, phrase_to_find):\n",
    "    ordered_dict = dict()\n",
    "    for phrase in list_of_phrases:\n",
    "        ordered_dict[phrase] = 1 - (distance_function(phrase, phrase_to_find) / MAX_VALUE)\n",
    "    return ordered_dict"
   ]
  },
  {
   "cell_type": "code",
   "execution_count": 457,
   "metadata": {},
   "outputs": [],
   "source": [
    "# multi-point crossover directed by the corssover rate\n",
    "def crossover(parent1, parent2, crossover_rate):\n",
    "    if np.random.rand() <= crossover_rate:\n",
    "        crossover_point1 = random.randint(0, len(parent1))\n",
    "        crossover_point2 = random.randint(crossover_point1, len(parent1))\n",
    "        child1 = parent1[:crossover_point1] + parent2[crossover_point1:crossover_point2] + parent1[crossover_point2:]\n",
    "        child2 = parent2[:crossover_point1] + parent1[crossover_point1:crossover_point2] + parent2[crossover_point2:]\n",
    "        return child1, child2\n",
    "    return parent1, parent2"
   ]
  },
  {
   "cell_type": "code",
   "execution_count": 458,
   "metadata": {},
   "outputs": [],
   "source": [
    "# mutation\n",
    "def mutate(password, mutation_rate):\n",
    "    mutated_password = list(password)\n",
    "    m_len = len(mutated_password)\n",
    "    for i in range(m_len):\n",
    "        if random.random() <= mutation_rate:\n",
    "            mutated_password[i] = random.choice(string.ascii_uppercase + string.digits + '_')\n",
    "    return ''.join(mutated_password)"
   ]
  },
  {
   "cell_type": "code",
   "execution_count": 459,
   "metadata": {},
   "outputs": [],
   "source": [
    "def genetic_algorithm(target_password, population_size, mutation_rate, crossover_rate):\n",
    "    \n",
    "    population = [generate_random_password(len(target_password)) for _ in range(population_size)]\n",
    "\n",
    "    for generation in range(GENERATIONS):\n",
    "        fitness_scores = get_normalised_fitness(population, target_password)\n",
    "\n",
    "        # check for convergence ie. true password was found\n",
    "        if max(fitness_scores.values()) == 1.:\n",
    "            solution = max(fitness_scores, key=fitness_scores.get)\n",
    "            return generation, solution\n",
    "        \n",
    "        # sort through the fitness values of population\n",
    "        sorted_population = [k for k, _ in sorted(fitness_scores.items(), key=lambda item: item[1], reverse=True)]\n",
    "        # selection criteria: eliminate the half of candidates with less fitness scores\n",
    "        selected_population = sorted_population[:len(sorted_population)//2]\n",
    "\n",
    "        new_population = selected_population.copy()\n",
    "\n",
    "        while len(new_population) < population_size:\n",
    "            # parent selection at random\n",
    "            parent1 = random.choice(selected_population)\n",
    "            parent2 = random.choice(selected_population)\n",
    "\n",
    "            # crossover\n",
    "            child1, child2 = crossover(parent1, parent2, crossover_rate)\n",
    "\n",
    "            # check if the offspring from crossover is same as the parent to restart the parent selection process\n",
    "            if (child1, child2) == (parent1, parent2):\n",
    "                continue\n",
    "                \n",
    "            # mutation\n",
    "            child1 = mutate(child1, mutation_rate)\n",
    "            child2 = mutate(child2, mutation_rate)\n",
    "\n",
    "            # extend the population by adding the offsprings for the next generation\n",
    "            new_population.extend([child1, child2])\n",
    "\n",
    "        population = new_population"
   ]
  },
  {
   "cell_type": "code",
   "execution_count": 460,
   "metadata": {},
   "outputs": [
    {
     "data": {
      "text/plain": [
       "(29, 'TRT9_2U6R8')"
      ]
     },
     "execution_count": 460,
     "metadata": {},
     "output_type": "execute_result"
    }
   ],
   "source": [
    "genetic_algorithm(TARGET_PASSWORD, POPULATION_SIZE, MUTATION_RATE, CROSSOVER_RATE)"
   ]
  },
  {
   "cell_type": "code",
   "execution_count": 461,
   "metadata": {},
   "outputs": [
    {
     "name": "stdout",
     "output_type": "stream",
     "text": [
      "Generation of convergence: [24, 29, 20, 25, 22, 28, 25, 27, 23, 27], Mean convergence: 25.0,  std of convergence: 2.6832815729997477\n"
     ]
    }
   ],
   "source": [
    "experiments = [genetic_algorithm(TARGET_PASSWORD, POPULATION_SIZE, MUTATION_RATE, CROSSOVER_RATE)[0] for _ in range(10)]\n",
    "print(f\"Generation of convergence: {experiments}, Mean convergence: {np.mean(experiments)},  std of convergence: {np.std(experiments)}\")"
   ]
  }
 ],
 "metadata": {
  "kernelspec": {
   "display_name": "base",
   "language": "python",
   "name": "python3"
  },
  "language_info": {
   "codemirror_mode": {
    "name": "ipython",
    "version": 3
   },
   "file_extension": ".py",
   "mimetype": "text/x-python",
   "name": "python",
   "nbconvert_exporter": "python",
   "pygments_lexer": "ipython3",
   "version": "3.11.5"
  }
 },
 "nbformat": 4,
 "nbformat_minor": 2
}
