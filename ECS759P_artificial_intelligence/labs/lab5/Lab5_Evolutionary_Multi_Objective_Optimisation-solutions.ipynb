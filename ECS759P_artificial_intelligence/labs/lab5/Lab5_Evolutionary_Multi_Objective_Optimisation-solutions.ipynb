{
 "cells": [
  {
   "cell_type": "markdown",
   "metadata": {
    "id": "4j02EnAOAB2-",
    "internals": {
     "slide_helper": "subslide_end"
    },
    "slide_helper": "subslide_end"
   },
   "source": [
    "# ECS759P Lab5 - Evolutionary Multi-Objective Optimisation (EMOO)\n"
   ]
  },
  {
   "cell_type": "markdown",
   "metadata": {
    "id": "iwSslmqHAB2_",
    "internals": {
     "slide_helper": "subslide_end",
     "slide_type": "subslide"
    },
    "slide_helper": "slide_end"
   },
   "source": [
    "In this notebook we will:\n",
    "\n",
    "\n",
    "\n",
    "*   Learn how to use the [DEAP](https://deap.readthedocs.io) toolkit to compute and visualise non-dominated sets\n",
    "*   Implement NSGA-II from scratch\n",
    "*   Use the DEAP implementation of NSGA-II for a benchmarking problem\n",
    "\n",
    "Some recap on the concepts we have learnt in the lecture.\n",
    "\n",
    "**Multi-Objective Optimisation (MOO) Problem**\n",
    "\n",
    "A lot of optimisation problems involve more than one objective function to be optimised simultaneously. A MOO problem is formally defined as:\n",
    "$$\n",
    "\\left.\\begin{aligned}\n",
    "\\text{Minimise/Maximise} \\qquad & f_m(\\mathbf{x}), & m=1,2, \\dots, M; \\\\\n",
    "\\text{subject to} \\qquad \\  & g_j(\\mathbf{x}) \\geq 0, & j=1,2, \\dots, J;  \\\\\n",
    "  \\qquad \\  & h_k(\\mathbf{x}) = 0, & k=1,2, \\dots, K;  \\\\\n",
    " \\qquad \\  & x_i^{(L)} \\leq x_i \\leq x_i^{(U)} & i=1,2, \\dots, n;\n",
    "\\end{aligned}\\right\\rbrace\n",
    "$$\n",
    "\n",
    "* Solution $\\mathbf{x}$ is a vector of $n$ decision variables: $\\mathbf{x} = (x_1, x_2, \\cdots ,x_n)^T$\n",
    "* Variable bounds restrict each decision variable $x_i$ to take a value within a lower $x_i^{(L)}$ and an upper $x_i^{(U)}$ bound. These bounds constitute the *decision (solution, search) space*, $D$\n",
    "* Associated with the problem are $J$ inequality and $K$ equality constraints\n",
    "* $g_j(\\mathbf{x})$ and $h_k(\\mathbf{x})$ are constraint functions\n",
    "* $\\mathbf{f} = (f_1(\\mathbf{x}), f_2(\\mathbf{x}), ... , f_M(\\mathbf{x}))^T$ are $M$ objective functions, each can be minimised or maximised.\n",
    "\n",
    "A solution $\\mathbf{x}$ that satisfies all of the $(J + K)$ constraints and all of the $2n$ variable bounds stated above is called a *feasible solution*. In the presence of constraints, the entire decision variable space $D$ may not be feasible. The set of all the feasible solutions is called the *feasible region*, $S$.\n",
    "\n",
    "The objective functions constitute a multi-dimensional space, in addition to the usual decision variable space. This additional space is called the *objective space*, $Z$. For each solution $\\mathbf{x}$ in the\n",
    "decision variable space, there exists a point $\\mathbf{z}$ in the objective space. Every feasible solution in $S$ can be mapped to a solution in the *feasible objective space*. The mapping takes place between an $n$-dimensional solution vector and an $M$-dimensional objective vector.  \n",
    "\n"
   ]
  },
  {
   "cell_type": "markdown",
   "metadata": {
    "id": "fMtuvFf3AB3C",
    "internals": {
     "slide_helper": "subslide_end",
     "slide_type": "subslide"
    },
    "slide_helper": "slide_end"
   },
   "source": [
    "**Optimal solutions in MOO**\n",
    "\n",
    "In MOO problems there is no unique solution that minimises all the objective functions simultaneously, but there is a set of equally good *trade-off* solutions. These solutions are called *Pareto-optimal solutions*. They form a *non-dominated set* of solutions for the entire search space. The curve formed by joining these solutions is known as a Pareto-optimal front.\n",
    "\n",
    "Solution $\\mathbf{x}^{(1)}$ dominates $\\mathbf{x}^{(2)}$, if\n",
    "* $\\mathbf{x}^{(1)}$ is **no worse** than $\\mathbf{x}^{(2)}$ in all objectives\n",
    "* $\\mathbf{x}^{(1)}$ is **strictly better** than $\\mathbf{x}^{(2)}$ in at least one objective\n",
    "\n",
    "Among a set of solutions $P$, the non-dominated set of solutions $P'$ are those that are not dominated by any member of the set $P$.\n",
    "\n",
    "**Objectives in MOO**\n",
    "\n",
    "1. Find a set of solutions as close as possible to the Pareto-optimal front\n",
    "2. Find a set of solutions as diverse as possible"
   ]
  },
  {
   "cell_type": "markdown",
   "metadata": {
    "id": "xhWh5xUyAB3C",
    "internals": {
     "slide_type": "subslide"
    }
   },
   "source": [
    "DEAP is a popular evolutionary computation library that includes implementation of genetic algorithms (GAs), tools for genetic programming, MOO and parallelisation."
   ]
  },
  {
   "cell_type": "markdown",
   "metadata": {
    "id": "z3RNmZQSH9XB"
   },
   "source": [
    "We start with standard imports."
   ]
  },
  {
   "cell_type": "code",
   "execution_count": null,
   "metadata": {
    "executionInfo": {
     "elapsed": 923,
     "status": "ok",
     "timestamp": 1699807378375,
     "user": {
      "displayName": "julia ive",
      "userId": "11396706016758891847"
     },
     "user_tz": 0
    },
    "id": "6llbeFg9AB3C",
    "internals": {}
   },
   "outputs": [],
   "source": [
    "import time, array, random, copy, math\n",
    "import numpy as np\n",
    "import pandas as pd"
   ]
  },
  {
   "cell_type": "markdown",
   "metadata": {
    "id": "2m9rDeg8IghC"
   },
   "source": [
    "We also import some visualisation packages."
   ]
  },
  {
   "cell_type": "code",
   "execution_count": null,
   "metadata": {
    "executionInfo": {
     "elapsed": 1425,
     "status": "ok",
     "timestamp": 1699807379796,
     "user": {
      "displayName": "julia ive",
      "userId": "11396706016758891847"
     },
     "user_tz": 0
    },
    "id": "R7P6kQcyAB3D"
   },
   "outputs": [],
   "source": [
    "import matplotlib.pyplot as plt\n",
    "from matplotlib import animation\n",
    "from IPython.display import HTML\n",
    "%matplotlib inline\n",
    "%config InlineBackend.figure_format = 'retina'\n",
    "\n",
    "import seaborn\n",
    "seaborn.set(style='whitegrid')\n",
    "seaborn.set_context('notebook')"
   ]
  },
  {
   "cell_type": "markdown",
   "metadata": {
    "id": "CPx84osLJT1K"
   },
   "source": [
    "Finally, we import the required DEAP modules."
   ]
  },
  {
   "cell_type": "code",
   "execution_count": null,
   "metadata": {
    "executionInfo": {
     "elapsed": 11,
     "status": "ok",
     "timestamp": 1699807379796,
     "user": {
      "displayName": "julia ive",
      "userId": "11396706016758891847"
     },
     "user_tz": 0
    },
    "id": "W62HJiljAB3D"
   },
   "outputs": [],
   "source": [
    "from deap import algorithms, base, benchmarks, tools, creator\n",
    "\n",
    "# set the seed for reproducibility\n",
    "random.seed(a=123)"
   ]
  },
  {
   "cell_type": "markdown",
   "metadata": {
    "id": "8JqY_KsLAB3E",
    "internals": {
     "frag_helper": "fragment_end",
     "frag_number": 11,
     "slide_type": "subslide"
    }
   },
   "source": [
    "## Visualising the Pareto-optimal front\n",
    "\n",
    "`creator` factory creates new classes at run-time.\n",
    "\n",
    "We will first call its function `create` with two arguments: the name of the newly created class and the base class that the new class should inherit from. Subsequent arguments become class attributes.\n",
    "\n",
    "The first line creates a Fitness class. This fitness minimises two objectives (hence both respective weights are negative).\n",
    "\n",
    "The second line creates an Individual class. Our individual will be a simple list of doubles. We hence set the double typecode (`d` for double). The class has the previously created FitnessMin as its fitness attribute."
   ]
  },
  {
   "cell_type": "code",
   "execution_count": null,
   "metadata": {
    "executionInfo": {
     "elapsed": 10,
     "status": "ok",
     "timestamp": 1699807379796,
     "user": {
      "displayName": "julia ive",
      "userId": "11396706016758891847"
     },
     "user_tz": 0
    },
    "id": "BRtfhTpYAB3E",
    "internals": {
     "frag_helper": "fragment_end",
     "frag_number": 11,
     "slide_helper": "subslide_end"
    },
    "slide_helper": "slide_end"
   },
   "outputs": [],
   "source": [
    "creator.create(\"FitnessMin\", base.Fitness, weights=(-1.0,-1.0))\n",
    "creator.create(\"Individual\", array.array, typecode='d',\n",
    "               fitness=creator.FitnessMin)"
   ]
  },
  {
   "cell_type": "markdown",
   "metadata": {
    "id": "Eex7JThXAB3E",
    "internals": {
     "frag_helper": "fragment_end",
     "frag_number": 11,
     "slide_helper": "subslide_end",
     "slide_type": "subslide"
    },
    "slide_helper": "slide_end"
   },
   "source": [
    "We will consider the following two-objective Dent benchmarking problem. Both objectives are to be minimised. Solutions (individuals) contain two decision variables with the bounds as indicated below.\n",
    "\n",
    "$$\n",
    "\\begin{array}{rl}\n",
    "\\text{Minimise} & f_1(\\mathbf{x}),f_2(\\mathbf{x}) \\\\\n",
    "\\text{where} & f_1(\\mathbf{x}) = \\frac{1}{2}\\left( \\sqrt{1 + (x_1 + x_2)^2} \\sqrt{1 + (x_1 - x_2)^2} + x_1 -x_2\\right) + d,\\\\\n",
    " & f_2(\\mathbf{x}) = \\frac{1}{2}\\left( \\sqrt{1 + (x_1 + x_2)^2} \\sqrt{1 + (x_1 - x_2)^2} - x_1 -x_2\\right) + d,\\\\\n",
    "& d = \\lambda e^{-\\left(x_1-x_2\\right)^2}\\\\\n",
    "\\text{subject to}  \\  & -1.5 \\leq x_1 \\leq 1.5 \\\\\n",
    "\\  & -1.5 \\leq x_2 \\leq 1.5 \\\\\n",
    "\\end{array}\n",
    "$$"
   ]
  },
  {
   "cell_type": "code",
   "execution_count": null,
   "metadata": {
    "executionInfo": {
     "elapsed": 10,
     "status": "ok",
     "timestamp": 1699807379797,
     "user": {
      "displayName": "julia ive",
      "userId": "11396706016758891847"
     },
     "user_tz": 0
    },
    "id": "9faGwxKMAB3F",
    "internals": {
     "frag_helper": "fragment_end",
     "frag_number": 11,
     "slide_helper": "subslide_end"
    },
    "slide_helper": "slide_end"
   },
   "outputs": [],
   "source": [
    "# source https://github.com/DEAP/deap/blob/master/deap/benchmarks/__init__.py\n",
    "\n",
    "def dent(individual, lambda_ = 0.85):\n",
    "    d = lambda_ * math.exp(-(individual[0] - individual[1]) ** 2)\n",
    "    f1 = 0.5 * (math.sqrt(1 + (individual[0] + individual[1]) ** 2) +\n",
    "                math.sqrt(1 + (individual[0] - individual[1]) ** 2) +\n",
    "                individual[0] - individual[1]) + d\n",
    "    f2 = 0.5 * (math.sqrt(1 + (individual[0] + individual[1]) ** 2) +\n",
    "                math.sqrt(1 + (individual[0] - individual[1]) ** 2) -\n",
    "                individual[0] + individual[1]) + d\n",
    "    return f1, f2"
   ]
  },
  {
   "cell_type": "markdown",
   "metadata": {
    "id": "acs5ocZvsBKk"
   },
   "source": [
    "We set the decision bounds and the solution dimensionality accordingly."
   ]
  },
  {
   "cell_type": "code",
   "execution_count": null,
   "metadata": {
    "executionInfo": {
     "elapsed": 10,
     "status": "ok",
     "timestamp": 1699807379797,
     "user": {
      "displayName": "julia ive",
      "userId": "11396706016758891847"
     },
     "user_tz": 0
    },
    "id": "idMi-_Bqr-Cl"
   },
   "outputs": [],
   "source": [
    "BOUND_LOW, BOUND_UP = -1.5, 1.5\n",
    "# two-dimensional solutions\n",
    "NDIM = 2"
   ]
  },
  {
   "cell_type": "markdown",
   "metadata": {
    "id": "gO8EoVFbskj9"
   },
   "source": [
    "The method below will uniformely sample individuals respecting the bounds."
   ]
  },
  {
   "cell_type": "code",
   "execution_count": null,
   "metadata": {
    "executionInfo": {
     "elapsed": 9,
     "status": "ok",
     "timestamp": 1699807379797,
     "user": {
      "displayName": "julia ive",
      "userId": "11396706016758891847"
     },
     "user_tz": 0
    },
    "id": "8I1p0z4Xsjtz"
   },
   "outputs": [],
   "source": [
    "def uniform(low, up, dimensionality=1):\n",
    "    return [random.uniform(a, b) for a, b in zip([low] * dimensionality, [up] * dimensionality)]"
   ]
  },
  {
   "cell_type": "markdown",
   "metadata": {
    "id": "Knlvh-QUAB3F",
    "internals": {
     "frag_helper": "fragment_end",
     "frag_number": 11,
     "slide_type": "subslide"
    }
   },
   "source": [
    "The `toolbox` stores useful functions. They are registered by providing the alias and the function itself. If you specify any arguments, they will be passed to the function when the alias is called.\n",
    "\n",
    "We register four functions:\n",
    "\n",
    "*   `attr_float` calls the solution sampling method\n",
    "*   `individual` generates an individual using the method `attr_float()`\n",
    "*   `population` returns a new population in a list\n",
    "*   `evaluate`  returns fitness values of an individual. The function arguments are not specified here. They will be applied each individual separately.\n",
    "\n",
    "You may write the evaluation function yourself (like we did above with `dent`) or take it from the provided set of benchmarking problems (https://deap.readthedocs.io/en/master/api/benchmarks.html). We will see how to do it later."
   ]
  },
  {
   "cell_type": "code",
   "execution_count": null,
   "metadata": {
    "executionInfo": {
     "elapsed": 10,
     "status": "ok",
     "timestamp": 1699807379798,
     "user": {
      "displayName": "julia ive",
      "userId": "11396706016758891847"
     },
     "user_tz": 0
    },
    "id": "-WX-33ryAB3F",
    "internals": {
     "frag_helper": "fragment_end",
     "frag_number": 11
    }
   },
   "outputs": [],
   "source": [
    "toolbox = base.Toolbox()\n",
    "toolbox.register(\"attr_float\", uniform, BOUND_LOW, BOUND_UP, NDIM)\n",
    "toolbox.register(\"individual\", tools.initIterate, creator.Individual, toolbox.attr_float)\n",
    "toolbox.register(\"population\", tools.initRepeat, list, toolbox.individual)\n",
    "toolbox.register(\"evaluate\", dent)"
   ]
  },
  {
   "cell_type": "markdown",
   "metadata": {
    "id": "9kacwXVzzDh4"
   },
   "source": [
    "We will create a sample population using `meshgrid`. This function returns the coordinates of solutions which construct a rectangular grid.\n",
    "\n",
    "![meshgrid_resized.png](data:image/png;base64,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)"
   ]
  },
  {
   "cell_type": "code",
   "execution_count": null,
   "metadata": {
    "executionInfo": {
     "elapsed": 9,
     "status": "ok",
     "timestamp": 1699807379798,
     "user": {
      "displayName": "julia ive",
      "userId": "11396706016758891847"
     },
     "user_tz": 0
    },
    "id": "71DG5bQmAB3G",
    "internals": {
     "frag_helper": "fragment_end",
     "frag_number": 11
    }
   },
   "outputs": [],
   "source": [
    "# set the count of points to pick in each dimension\n",
    "dim_sample_count = 50\n",
    "# choose equally distanced coordinates in each dimension\n",
    "coordinates = np.arange(BOUND_LOW, BOUND_UP, (BOUND_UP - BOUND_LOW)/dim_sample_count)\n",
    "\n",
    "# build a rectangular grid by creating every possible combination of coordinates in two dimensions\n",
    "# get a list of two arrays (all the x-coordinates and all the y-coordinates) with the dimensionality (dim_sample_count, dim_sample_count) each\n",
    "# (see the figure above)\n",
    "grid = np.meshgrid(coordinates, coordinates)"
   ]
  },
  {
   "cell_type": "code",
   "execution_count": null,
   "metadata": {
    "executionInfo": {
     "elapsed": 9,
     "status": "ok",
     "timestamp": 1699807379798,
     "user": {
      "displayName": "julia ive",
      "userId": "11396706016758891847"
     },
     "user_tz": 0
    },
    "id": "3YXJRc-zAB3G",
    "internals": {
     "frag_helper": "fragment_end",
     "frag_number": 11,
     "slide_helper": "subslide_end"
    },
    "slide_helper": "slide_end"
   },
   "outputs": [],
   "source": [
    "# get each array flattened, i.e. dimensionality (dim_sample_count*dim_sample_count)\n",
    "dimension_points = list()\n",
    "for i in range(len(grid)):\n",
    "    x_i = grid[i]\n",
    "    dimension_points.append(x_i.reshape(dim_sample_count*dim_sample_count))"
   ]
  },
  {
   "cell_type": "markdown",
   "metadata": {
    "id": "Lv8TfWeu-tQg"
   },
   "source": [
    "We call the `population` function to create a population."
   ]
  },
  {
   "cell_type": "code",
   "execution_count": null,
   "metadata": {
    "colab": {
     "base_uri": "https://localhost:8080/"
    },
    "executionInfo": {
     "elapsed": 391,
     "status": "ok",
     "timestamp": 1699807380181,
     "user": {
      "displayName": "julia ive",
      "userId": "11396706016758891847"
     },
     "user_tz": 0
    },
    "id": "RmnY6rzuAB3G",
    "internals": {
     "frag_helper": "fragment_end",
     "frag_number": 11,
     "slide_type": "subslide"
    },
    "outputId": "0abae26b-c235-4dfd-d923-86a4c206b7be"
   },
   "outputs": [],
   "source": [
    "demonstration_population = toolbox.population(n=dim_sample_count**NDIM)\n",
    "\n",
    "print(\"Population is of type %s and contains %d individuals\\n%s\" % (type(demonstration_population), len(demonstration_population), demonstration_population[:10]))"
   ]
  },
  {
   "cell_type": "code",
   "execution_count": null,
   "metadata": {
    "executionInfo": {
     "elapsed": 11,
     "status": "ok",
     "timestamp": 1699807380182,
     "user": {
      "displayName": "julia ive",
      "userId": "11396706016758891847"
     },
     "user_tz": 0
    },
    "id": "C6SD4zg8AB3G",
    "internals": {
     "frag_helper": "fragment_end",
     "frag_number": 11
    }
   },
   "outputs": [],
   "source": [
    "# assign our grid coordinates to decision variables of the individuals to produce a grid of solutions\n",
    "for i, ind in enumerate(demonstration_population):\n",
    "    for j in range(len(dimension_points)):\n",
    "        ind[j] = dimension_points[j][i]"
   ]
  },
  {
   "cell_type": "markdown",
   "metadata": {
    "id": "wbYMf7R69POS"
   },
   "source": [
    "We evaluate our solutions with the fitness function."
   ]
  },
  {
   "cell_type": "code",
   "execution_count": null,
   "metadata": {
    "executionInfo": {
     "elapsed": 10,
     "status": "ok",
     "timestamp": 1699807380182,
     "user": {
      "displayName": "julia ive",
      "userId": "11396706016758891847"
     },
     "user_tz": 0
    },
    "id": "fKjJC2YuOCgk"
   },
   "outputs": [],
   "source": [
    "fitnesses = toolbox.map(toolbox.evaluate, demonstration_population)\n",
    "for ind, fit in zip(demonstration_population, fitnesses):\n",
    "    ind.fitness.values = fit"
   ]
  },
  {
   "cell_type": "markdown",
   "metadata": {
    "id": "7-INil7CAB3G",
    "internals": {
     "frag_helper": "fragment_end",
     "frag_number": 11,
     "slide_type": "subslide"
    }
   },
   "source": [
    "We pick a solution that we will assess (this will be point (0.5, 0.5)) and get its fitness."
   ]
  },
  {
   "cell_type": "code",
   "execution_count": null,
   "metadata": {
    "executionInfo": {
     "elapsed": 10,
     "status": "ok",
     "timestamp": 1699807380182,
     "user": {
      "displayName": "julia ive",
      "userId": "11396706016758891847"
     },
     "user_tz": 0
    },
    "id": "uVmyuT3aAB3G",
    "internals": {
     "frag_helper": "fragment_end",
     "frag_number": 11
    }
   },
   "outputs": [],
   "source": [
    "trg_solution = toolbox.population(n=1)[0]\n",
    "trg_solution[0] = 0.5\n",
    "trg_solution[1] = 0.5"
   ]
  },
  {
   "cell_type": "code",
   "execution_count": null,
   "metadata": {
    "colab": {
     "base_uri": "https://localhost:8080/"
    },
    "executionInfo": {
     "elapsed": 10,
     "status": "ok",
     "timestamp": 1699807380182,
     "user": {
      "displayName": "julia ive",
      "userId": "11396706016758891847"
     },
     "user_tz": 0
    },
    "id": "t6ixVEWnAB3G",
    "internals": {
     "frag_helper": "fragment_end",
     "frag_number": 11,
     "slide_helper": "subslide_end"
    },
    "outputId": "9f2b6987-73ec-4d6e-f335-f654c13d17db",
    "slide_helper": "slide_end"
   },
   "outputs": [],
   "source": [
    "trg_solution.fitness.values = toolbox.evaluate(trg_solution)\n",
    "print(trg_solution.fitness.values)"
   ]
  },
  {
   "cell_type": "markdown",
   "metadata": {
    "id": "33ya4_q5AB3G",
    "internals": {
     "frag_helper": "fragment_end",
     "frag_number": 11,
     "slide_type": "subslide"
    }
   },
   "source": [
    "To find Pareto-optimal solutions, we first need to implement a dominance test.\n",
    "\n",
    "**Q. Implement the dominance test function below.**"
   ]
  },
  {
   "cell_type": "code",
   "execution_count": null,
   "metadata": {
    "executionInfo": {
     "elapsed": 7,
     "status": "ok",
     "timestamp": 1699807380183,
     "user": {
      "displayName": "julia ive",
      "userId": "11396706016758891847"
     },
     "user_tz": 0
    },
    "id": "KQVddVZFAB3G",
    "internals": {
     "frag_helper": "fragment_end",
     "frag_number": 11
    }
   },
   "outputs": [],
   "source": [
    "def dominance_test(solution1,solution2):\n",
    "    \"\"\"\n",
    "    solution1: numpy array of shape (NDIM)\n",
    "    solution2: numpy array of shape (NDIM)\n",
    "    Returns:\n",
    "        True if solution1 dominates solution2\n",
    "    \"\"\"\n",
    "    # TO DO\n",
    "    if type(solution1) is not np.ndarray:\n",
    "        solution1 = solution1.fitness.values\n",
    "        solution2 = solution2.fitness.values\n",
    "\n",
    "    no_worse = solution1[0] <= solution2[0] and solution1[1] <= solution2[1]\n",
    "    strictly_better = solution1[0] < solution2[0] or solution1[1] < solution2[1]\n",
    "    return no_worse and strictly_better\n",
    "    # TO DO"
   ]
  },
  {
   "cell_type": "markdown",
   "metadata": {
    "id": "7qcOuqtPAB3H",
    "internals": {
     "frag_helper": "fragment_end",
     "frag_number": 11,
     "slide_type": "subslide"
    }
   },
   "source": [
    "We will now get the set of solutions that are dominated by `trg_solution`, the set that dominates it and the rest."
   ]
  },
  {
   "cell_type": "code",
   "execution_count": null,
   "metadata": {
    "executionInfo": {
     "elapsed": 7,
     "status": "ok",
     "timestamp": 1699807380183,
     "user": {
      "displayName": "julia ive",
      "userId": "11396706016758891847"
     },
     "user_tz": 0
    },
    "id": "zJYAXhvbAB3H",
    "internals": {
     "frag_helper": "fragment_end",
     "frag_number": 11,
     "slide_helper": "subslide_end"
    },
    "slide_helper": "subslide_end"
   },
   "outputs": [],
   "source": [
    "dominated_by_trg_solution = [solution for solution in demonstration_population if dominance_test(trg_solution, solution)]\n",
    "dominates_trg_solution = [solution for solution in demonstration_population if dominance_test(solution, trg_solution)]\n",
    "rest = [solution for solution in demonstration_population if not solution in dominated_by_trg_solution and not solution in dominates_trg_solution]"
   ]
  },
  {
   "cell_type": "markdown",
   "metadata": {
    "id": "UqYzy2Jludak"
   },
   "source": [
    "We plot the points in the decision and objective spaces."
   ]
  },
  {
   "cell_type": "code",
   "execution_count": null,
   "metadata": {
    "executionInfo": {
     "elapsed": 7,
     "status": "ok",
     "timestamp": 1699807380183,
     "user": {
      "displayName": "julia ive",
      "userId": "11396706016758891847"
     },
     "user_tz": 0
    },
    "id": "ldmIxLl1AB3H",
    "internals": {
     "frag_helper": "fragment_end",
     "frag_number": 11,
     "slide_helper": "subslide_end",
     "slide_type": "subslide"
    },
    "slide_helper": "slide_end"
   },
   "outputs": [],
   "source": [
    "def plot_dent():\n",
    "\n",
    "    plt.figure(figsize=(10,5))\n",
    "    plt.subplot(1,2,1)\n",
    "\n",
    "    for ind in dominates_trg_solution:\n",
    "      plt.plot(ind[0], ind[1], 'm.')\n",
    "    for ind in dominated_by_trg_solution:\n",
    "      plt.plot(ind[0], ind[1], 'c.')\n",
    "    for ind in rest:\n",
    "      plt.plot(ind[0], ind[1], 'y.', ms=3)\n",
    "\n",
    "    plt.plot(trg_solution[0], trg_solution[1], 'bo', ms=6);\n",
    "    plt.xlabel('x1');\n",
    "    plt.ylabel('x2');\n",
    "    plt.title('Decision (Search) space');\n",
    "    plt.subplot(1,2,2)\n",
    "\n",
    "    for ind in dominates_trg_solution:\n",
    "      plt.plot(ind.fitness.values[0], ind.fitness.values[1], 'm.', alpha=0.7)\n",
    "    for ind in dominated_by_trg_solution:\n",
    "      plt.plot(ind.fitness.values[0], ind.fitness.values[1], 'c.', alpha=0.7)\n",
    "    for ind in rest:\n",
    "      plt.plot(ind.fitness.values[0], ind.fitness.values[1], 'y.', alpha=0.7, ms=3)\n",
    "\n",
    "    plt.plot(trg_solution.fitness.values[0], trg_solution.fitness.values[1], 'bo', ms=6);\n",
    "    plt.xlabel('f1(x)');\n",
    "    plt.ylabel('f2(x)');\n",
    "    plt.xlim((0.5,3.6));\n",
    "    plt.ylim((0.5,3.6));\n",
    "    plt.title('Objective space');\n",
    "    plt.tight_layout()"
   ]
  },
  {
   "cell_type": "markdown",
   "metadata": {
    "id": "Bf9W9VpyAB3H",
    "internals": {
     "frag_helper": "fragment_end",
     "frag_number": 11,
     "slide_type": "subslide"
    }
   },
   "source": [
    "The solutions that dominate `trg_solution` are in magenta, those that it dominates are in cyan and the rest are incomparable."
   ]
  },
  {
   "cell_type": "code",
   "execution_count": null,
   "metadata": {
    "colab": {
     "base_uri": "https://localhost:8080/",
     "height": 498
    },
    "executionInfo": {
     "elapsed": 18765,
     "status": "ok",
     "timestamp": 1699807398942,
     "user": {
      "displayName": "julia ive",
      "userId": "11396706016758891847"
     },
     "user_tz": 0
    },
    "id": "4vAbd0UkAB3H",
    "internals": {
     "frag_helper": "fragment_end",
     "frag_number": 11,
     "slide_helper": "subslide_end"
    },
    "outputId": "82633f28-209b-4651-caf8-6c3d18e54fb3",
    "slide_helper": "slide_end"
   },
   "outputs": [],
   "source": [
    "plot_dent()"
   ]
  },
  {
   "cell_type": "markdown",
   "metadata": {
    "id": "ynYpMlRmAB3H",
    "internals": {
     "frag_helper": "fragment_end",
     "frag_number": 11,
     "slide_type": "subslide"
    }
   },
   "source": [
    "We can also find and display the Pareto-optimal front using DEAP. We will get only the best front (also the first in the returned lists of fronts). It is highlighted in blue in the plot below."
   ]
  },
  {
   "cell_type": "code",
   "execution_count": null,
   "metadata": {
    "executionInfo": {
     "elapsed": 10611,
     "status": "ok",
     "timestamp": 1699807409544,
     "user": {
      "displayName": "julia ive",
      "userId": "11396706016758891847"
     },
     "user_tz": 0
    },
    "id": "85gPQgExAB3H",
    "internals": {
     "frag_helper": "fragment_end",
     "frag_number": 11
    }
   },
   "outputs": [],
   "source": [
    "non_dominated_front = tools.sortNondominated(demonstration_population, k=len(demonstration_population), first_front_only=True)[0]"
   ]
  },
  {
   "cell_type": "code",
   "execution_count": null,
   "metadata": {
    "colab": {
     "base_uri": "https://localhost:8080/",
     "height": 488
    },
    "executionInfo": {
     "elapsed": 3876,
     "status": "ok",
     "timestamp": 1699807413415,
     "user": {
      "displayName": "julia ive",
      "userId": "11396706016758891847"
     },
     "user_tz": 0
    },
    "id": "bhLTXOHoAB3I",
    "internals": {
     "frag_helper": "fragment_end",
     "frag_number": 11,
     "slide_helper": "subslide_end"
    },
    "outputId": "08375a54-eff2-492c-f871-c02a2834a418",
    "slide_helper": "slide_end"
   },
   "outputs": [],
   "source": [
    "plt.figure(figsize=(5,5))\n",
    "for ind in demonstration_population:\n",
    "    plt.plot(ind.fitness.values[0], ind.fitness.values[1], 'k.', ms=3, alpha=0.5)\n",
    "for ind in non_dominated_front:\n",
    "    plt.plot(ind.fitness.values[0], ind.fitness.values[1], 'bo', alpha=0.74, ms=5)\n",
    "plt.title('Pareto-optimal front')"
   ]
  },
  {
   "cell_type": "markdown",
   "metadata": {
    "id": "VtHaEaWtAB3I",
    "internals": {
     "frag_helper": "fragment_end",
     "frag_number": 11,
     "slide_helper": "subslide_end",
     "slide_type": "subslide"
    },
    "slide_helper": "slide_end"
   },
   "source": [
    "## Non-Dominated Sorting Genetic Algorithm (NSGA-II)\n",
    "\n",
    "* NSGA-II algorithm is one of the key algorithms in Evolutionary MOO\n",
    "* It uses a diversity-preserving strategy together with an elite-preservation strategy\n",
    "\n",
    "\n",
    "Given the number of iterations $T$ and population size $N$ as parameters, the algorithm performs the following steps:\n",
    "\n",
    "\n",
    "1.   Combine parent and offspring populations $R_t=P_t \\cup Q_t$. Initial population $Q_1$ is created by crossover and mutation from the parent population. Perform a non-dominated sorting to $R_t$ and identify different fronts.\n",
    "2.   Set new $P_{t+1}= ∅$. Set $i = 1$.\n",
    "3.   Until $|P_{(t+1)}|+|F_i|< N$, perform $P_{(t+1)}=P_{(t+1)} \\cup F_i$ and increment $i = i + 1$.\n",
    "4.   Perform crowding sort for $F_i$ and include the best $(N -|P_{(t+1)}|)$ solutions to $P_{(t+1)}$ using the crowding distance estimates.\n",
    "5.  Create offspring population $Q_{(t+1)}$ from $P_{(t+1)}$ by using the crowded tournament selection.\n",
    "6.  Perform crossover and mutation over $Q_{(t+1)}$.  \n",
    "\n",
    "Below we implement the algorithm from scratch. We will start with the most important functions that compute the crowding distance, perform non-dominated sorting and crowded tournament. We will then look into creating the algorithm loop."
   ]
  },
  {
   "cell_type": "markdown",
   "metadata": {
    "id": "BNeR9r1377Lp"
   },
   "source": [
    "Crossover and mutation operations are given and implemented as follows."
   ]
  },
  {
   "cell_type": "code",
   "execution_count": null,
   "metadata": {
    "executionInfo": {
     "elapsed": 20,
     "status": "ok",
     "timestamp": 1699807413416,
     "user": {
      "displayName": "julia ive",
      "userId": "11396706016758891847"
     },
     "user_tz": 0
    },
    "id": "BD-YT5Hs74f2"
   },
   "outputs": [],
   "source": [
    "def crossover(population):\n",
    "    \"\"\"\n",
    "    population: numpy array of shape (N, NDIM)\n",
    "    Returns:\n",
    "        offspring_population: numpy array of shape (N, NDIM)\n",
    "    \"\"\"\n",
    "\n",
    "    offspring_population = np.zeros((population.shape))\n",
    "\n",
    "    # we iterate over the population taking two members at a time\n",
    "    for i in range(0, population.shape[0]-1, 2):\n",
    "\n",
    "        # we select two solutions randomly from the whole population\n",
    "        rnd1 = np.random.randint(0, population.shape[0])\n",
    "        rnd2 = np.random.randint(0, population.shape[0])\n",
    "\n",
    "        # we randomly select a crossover point\n",
    "        point = np.random.randint(1, population.shape[1])\n",
    "\n",
    "        offspring_population[i, :point] = population[rnd1, :point]\n",
    "        offspring_population[i, point:] = population[rnd2, point:]\n",
    "        offspring_population[i+1, :point] = population[rnd2, :point]\n",
    "        offspring_population[i+1, point:] = population[rnd1, point:]\n",
    "\n",
    "    return offspring_population\n",
    "\n",
    "def mutation(population, low, up, mutation_strength=0.1):\n",
    "    \"\"\"\n",
    "    population: numpy array of shape (N, NDIM)\n",
    "    low: float for the lower decision variable bound\n",
    "    up: float for the upper decision variable bound\n",
    "    mutation_strength: float for the amount of added noise\n",
    "\n",
    "    Returns:\n",
    "        offspring_population: numpy array of shape (N, NDIM)\n",
    "    \"\"\"\n",
    "    offspring_population = population.copy()\n",
    "    # create random noise\n",
    "    mutation = (np.random.uniform(low, up, (offspring_population.shape)) - 0.5) * mutation_strength\n",
    "    # add noise\n",
    "    offspring_population += mutation\n",
    "    # make sure we respect the bounds\n",
    "    offspring_population = np.clip(offspring_population, low, up)\n",
    "\n",
    "    return offspring_population"
   ]
  },
  {
   "cell_type": "markdown",
   "metadata": {
    "id": "HvqC0Nw1d6Sl"
   },
   "source": [
    "**Crowding Distance**\n",
    "\n",
    "The distance is computed as follows:\n",
    "\n",
    "1.   For each solution $i$ in the non-dominated front $F$, where $l=|F|$, assign $d_i=0$\n",
    "2.   For each objective function $m = 1, 2, ⋯, M$:\n",
    "\n",
    "  (a)   Sort the set in the worst order of $f_m$ to find the sorted indices vector $I_m=sort(f_m, >)$\n",
    "\n",
    "  (b)   Assign a large distance to the boundary solutions, $d_{I_1^m} = d_{I_l^m}= ∞$\n",
    "\n",
    "  (c) For all the other solutions j=2 to (l-1), assign:\n",
    "$d_{I_j^m} = d_{I_j^m} + \\frac{f_m^{(I_{j+1}^m)}-f_m^{(I_{j-1}^m)}}{f_m^{max}-f_m^{min}}$\n",
    "\n",
    "\n",
    "\n",
    "**Hint**: you can use the max objective values to assign large distances.\n",
    "\n",
    "\n",
    "**Q. Implement those steps in the function below.**"
   ]
  },
  {
   "cell_type": "code",
   "execution_count": null,
   "metadata": {
    "executionInfo": {
     "elapsed": 19,
     "status": "ok",
     "timestamp": 1699807413416,
     "user": {
      "displayName": "julia ive",
      "userId": "11396706016758891847"
     },
     "user_tz": 0
    },
    "id": "klGArGkx_4Vq"
   },
   "outputs": [],
   "source": [
    "def compute_crowding_distance(front_fitness_values, F_MIN, F_MAX):\n",
    "    \"\"\"\n",
    "    front_fitness_values: numpy array of shape (l, NDIM)\n",
    "    F_MIN: minimum values per objective, array of length 2\n",
    "    F_MAX: maximum values per objective, array of length 2\n",
    "\n",
    "    Returns:\n",
    "        crowding_distance: numpy array of shape (l, NDIM)\n",
    "    \"\"\"\n",
    "    # TO DO\n",
    "    # get l\n",
    "    l = front_fitness_values.shape[0]\n",
    "    # get number of objective functions\n",
    "    obj_number = front_fitness_values.shape[1]\n",
    "\n",
    "    # assign initial d to zero\n",
    "    distance_matrix = np.zeros((l, obj_number))\n",
    "    # loop over objectives\n",
    "    for i in range(obj_number):\n",
    "\n",
    "        # sort the fitness values in the worst order (step 2a)\n",
    "        sorted_fitness_values = np.sort(front_fitness_values[:,i])\n",
    "        # get indexes of the original array in the order of the sorted array\n",
    "        sorted_values_index = np.argsort(front_fitness_values[:,i])\n",
    "\n",
    "        crowding_results = np.zeros((l))\n",
    "\n",
    "        # assign the largest distance to the boundaries (step 2b)\n",
    "        crowding_results[0] =  F_MAX[i]\n",
    "        crowding_results[l - 1] = F_MAX[i]\n",
    "\n",
    "        # compute the crowding distance (step 2c)\n",
    "        for j in range(1, l - 1):\n",
    "            crowding_results[j] = (sorted_fitness_values[j+1] - sorted_fitness_values[j-1]) / (F_MAX[i] - F_MIN[i])\n",
    "\n",
    "        # update the distance matrix using the original index information\n",
    "        for new_ind, old_ind in enumerate(sorted_values_index):\n",
    "            distance_matrix[old_ind, i] = crowding_results[new_ind]\n",
    "\n",
    "    # print(distance_matrix)\n",
    "    # sum distances across objectives\n",
    "    crowding_distance = np.sum(distance_matrix, axis=1)\n",
    "\n",
    "    return crowding_distance\n",
    "    # TO DO"
   ]
  },
  {
   "cell_type": "markdown",
   "metadata": {
    "id": "Xf94wwZrhwU0"
   },
   "source": [
    "**Q. Test your implementation with the front given during the lecture.**"
   ]
  },
  {
   "cell_type": "code",
   "execution_count": null,
   "metadata": {
    "colab": {
     "base_uri": "https://localhost:8080/"
    },
    "executionInfo": {
     "elapsed": 19,
     "status": "ok",
     "timestamp": 1699807413416,
     "user": {
      "displayName": "julia ive",
      "userId": "11396706016758891847"
     },
     "user_tz": 0
    },
    "id": "OwsOI7YAMLXU",
    "outputId": "c2cf3de2-020d-4a1e-876f-b7ccf95879cb"
   },
   "outputs": [],
   "source": [
    "f_min = [0.1, 0.0]\n",
    "f_max = [1.0, 60.0]\n",
    "test_front = np.array([[0.31, 6.1], [0.22, 7.09], [0.79, 3.97], [0.27, 6.93]])\n",
    "\n",
    "# TO DO\n",
    "crowding_distance_array = compute_crowding_distance(test_front, f_min, f_max)\n",
    "print(crowding_distance_array)\n",
    "# TO DO"
   ]
  },
  {
   "cell_type": "code",
   "execution_count": null,
   "metadata": {
    "colab": {
     "base_uri": "https://localhost:8080/"
    },
    "executionInfo": {
     "elapsed": 15,
     "status": "ok",
     "timestamp": 1699807413416,
     "user": {
      "displayName": "julia ive",
      "userId": "11396706016758891847"
     },
     "user_tz": 0
    },
    "id": "gy_Y648C2smG",
    "outputId": "2821f1c5-50e0-44ea-e59d-a371a254f6f8"
   },
   "outputs": [],
   "source": [
    "f_min = [10, 0.25]\n",
    "f_max = [100, 0.80]\n",
    "test_front = np.array([[16, 0.30], [17, 0.32], [30, 0.5]])\n",
    "\n",
    "# TO DO\n",
    "crowding_distance_array = compute_crowding_distance(test_front, f_min, f_max)\n",
    "print(crowding_distance_array)\n",
    "# TO DO"
   ]
  },
  {
   "cell_type": "markdown",
   "metadata": {
    "id": "KAWyJHY23fOU"
   },
   "source": [
    "**Q. Implement the function below to perform non-dominated sorting of the population.**\n",
    "\n",
    "**Hint**: use may call the function you wrote earlier.\n",
    "\n",
    "Recall that among a set of solutions $P$, the non­-dominated set of solutions $P'$ containts those solutions that are **not** dominated by any member of the set $P$."
   ]
  },
  {
   "cell_type": "code",
   "execution_count": null,
   "metadata": {
    "executionInfo": {
     "elapsed": 13,
     "status": "ok",
     "timestamp": 1699807413417,
     "user": {
      "displayName": "julia ive",
      "userId": "11396706016758891847"
     },
     "user_tz": 0
    },
    "id": "XeEAkeRI3byA"
   },
   "outputs": [],
   "source": [
    "def non_dominated_sorting(fitness_values):\n",
    "    \"\"\"\n",
    "    fitness_values: numpy array of shape (N, NDIM)\n",
    "    Returns:\n",
    "        rank_dict: dictionary {int rank: list of indices}, rank starts from 1\n",
    "    \"\"\"\n",
    "    # TO DO\n",
    "    N = fitness_values.shape[0]\n",
    "    selected_index = set()\n",
    "    rank_dict = dict()\n",
    "\n",
    "    rank = 1\n",
    "\n",
    "    # until all the population is sorted\n",
    "    while len(selected_index) < N:\n",
    "\n",
    "      new_non_dominated_front_index = list()\n",
    "      for i in range(N):\n",
    "          # we skip the solutions from the previous non-dominated fronts\n",
    "          if i in selected_index:\n",
    "              continue\n",
    "          non_dominated = True\n",
    "          for j in range(N):\n",
    "              # we skip selected solutions\n",
    "              if j in selected_index:\n",
    "                continue\n",
    "              # if another member (j) of the set dominates i then i is not in the non-dominated set\n",
    "              if dominance_test(fitness_values[j], fitness_values[i]):\n",
    "                  non_dominated = False\n",
    "                  break\n",
    "          if non_dominated:\n",
    "              new_non_dominated_front_index.append(i)\n",
    "\n",
    "      rank_dict[rank] = new_non_dominated_front_index\n",
    "      selected_index.update(new_non_dominated_front_index)\n",
    "      rank += 1\n",
    "\n",
    "    return rank_dict\n",
    "    # TO DO"
   ]
  },
  {
   "cell_type": "markdown",
   "metadata": {
    "id": "1cRj9EFK4uRP"
   },
   "source": [
    "**Q. Test your implementation with the population given during the lecture. Print out all the fronts.**"
   ]
  },
  {
   "cell_type": "code",
   "execution_count": null,
   "metadata": {
    "colab": {
     "base_uri": "https://localhost:8080/"
    },
    "executionInfo": {
     "elapsed": 13,
     "status": "ok",
     "timestamp": 1699807413417,
     "user": {
      "displayName": "julia ive",
      "userId": "11396706016758891847"
     },
     "user_tz": 0
    },
    "id": "63YVQrKtkhlk",
    "outputId": "c2897ee3-63c2-4590-a432-58d1ea88ee07"
   },
   "outputs": [],
   "source": [
    "test_fitness_values = np.array([[0.31, 6.1], [0.43, 6.79], [0.22, 7.09], [0.59, 7.85],\n",
    "                       [0.66, 3.65], [0.83, 4.23], [0.21, 5.9], [0.79, 3.97],\n",
    "                       [0.51, 6.51], [0.27, 6.93], [0.58, 4.52], [0.24, 8.54]])\n",
    "solution_ids = np.array([1, 2, 3, 4, 5, 6, \"a\", \"b\", \"c\", \"d\", \"e\", \"f\"])\n",
    "\n",
    "# TO DO\n",
    "front_index_dict = non_dominated_sorting(test_fitness_values)\n",
    "print(\"Front 1\")\n",
    "print(solution_ids[front_index_dict[1]])\n",
    "print(\"Front 2\")\n",
    "print(solution_ids[front_index_dict[2]])\n",
    "print(\"Front 3\")\n",
    "print(solution_ids[front_index_dict[3]])\n",
    "print(\"Front 4\")\n",
    "print(solution_ids[front_index_dict[4]])\n",
    "# TO DO"
   ]
  },
  {
   "cell_type": "markdown",
   "metadata": {
    "id": "3napJwsGtdhx"
   },
   "source": [
    "Recall that a solution $i$ wins a tournament with another solution $j$ if any of the following conditions are true:\n",
    "\n",
    "1.  If solution $i$ has a better rank, that is, $r_i < r_j$\n",
    "\n",
    "2.  If they have the same rank but solution $i$ has a better crowding distance than solution $j$, i.e., $r_i = r_j$ and $d_i > d_j$\n",
    "\n",
    "Both $i$ and $j$ can be selected randomly from the initial population."
   ]
  },
  {
   "cell_type": "code",
   "execution_count": null,
   "metadata": {
    "executionInfo": {
     "elapsed": 11,
     "status": "ok",
     "timestamp": 1699807413417,
     "user": {
      "displayName": "julia ive",
      "userId": "11396706016758891847"
     },
     "user_tz": 0
    },
    "id": "fmhiomjQlokt"
   },
   "outputs": [],
   "source": [
    "def crowded_tournament(population, rank_list, F_MIN, F_MAX):\n",
    "    \"\"\"\n",
    "    population: numpy array of shape (N, NDIM)\n",
    "    rank_list: numpy array of shape (N, NDIM)\n",
    "    fitness_values: numpy array of shape (N, NDIM)\n",
    "    F_MIN: minimum values per objective, array of length 2\n",
    "    F_MAX: maximum values per objective, array of length 2\n",
    "\n",
    "    Returns:\n",
    "        parent: numpy array of shape (N, NDIM)\n",
    "    \"\"\"\n",
    "    fitness_values = compute_fitness(population)\n",
    "    crowding_distance = compute_crowding_distance(fitness_values, F_MIN, F_MAX)\n",
    "    N = population.shape[0]\n",
    "    parent = np.zeros(population.shape)\n",
    "\n",
    "    for i in range(N):\n",
    "\n",
    "        # we pick two solutions randomly\n",
    "        solution1 = np.random.randint(0, N)\n",
    "        solution2 = np.random.randint(0, N)\n",
    "        selected_solution = solution1\n",
    "\n",
    "        # if rank is the same we check the crowding distance\n",
    "        if rank_list[solution1] == rank_list[solution2]:\n",
    "            if crowding_distance[solution2] > crowding_distance[solution1]:\n",
    "                selected_solution = solution2\n",
    "        # otherwise we check the rank\n",
    "        else:\n",
    "            if rank_list[solution2] < rank_list[solution1]:\n",
    "                selected_solution = solution2\n",
    "\n",
    "        parent[i] = population[selected_solution]\n",
    "    return parent"
   ]
  },
  {
   "cell_type": "markdown",
   "metadata": {
    "id": "Gha-al_ADgVY"
   },
   "source": [
    "Now we can build a loop to fill a new population $P_{t+1}$."
   ]
  },
  {
   "cell_type": "code",
   "execution_count": null,
   "metadata": {
    "executionInfo": {
     "elapsed": 10,
     "status": "ok",
     "timestamp": 1699807413417,
     "user": {
      "displayName": "julia ive",
      "userId": "11396706016758891847"
     },
     "user_tz": 0
    },
    "id": "wsMxzMDa87Ia"
   },
   "outputs": [],
   "source": [
    "def fill_new_population(population, fitness_values, population_size, F_MIN, F_MAX):\n",
    "    \"\"\"\n",
    "    population: numpy array of shape (2N, NDIM)\n",
    "    fitness_values: numpy array of shape (2N, NDIM)\n",
    "    population_size: int, size of the population N to return\n",
    "    F_MIN: minimum values per objective, array of length 2\n",
    "    F_MAX: maximum values per objective, array of length 2\n",
    "\n",
    "    Returns:\n",
    "        selected_population:  numpy array of shape (N, NDIM)\n",
    "        selected_rank: numpy array of shape (N)\n",
    "    \"\"\"\n",
    "    # get the indices of the solutions per front (step 1 of the main algorithm)\n",
    "    front_index_dict = non_dominated_sorting(fitness_values)\n",
    "\n",
    "    # new population is empty (step 2 of the main algorithm)\n",
    "    selected_population = list()\n",
    "    # rank of each selected solution\n",
    "    selected_rank = list()\n",
    "\n",
    "    # we start with the best rank\n",
    "    rank = 1\n",
    "\n",
    "    # iterate until the population is filled (step 3 of the main algorithm)\n",
    "    while len(selected_population) < population_size:\n",
    "\n",
    "        # get the next non-dominated set of the relevant rank\n",
    "        new_non_dominated_front_index = front_index_dict[rank]\n",
    "        new_non_dominated_front = population[new_non_dominated_front_index]\n",
    "        new_non_dominated_front_fitness = fitness_values[new_non_dominated_front_index]\n",
    "\n",
    "        # compute the size of the new population after adding a new front\n",
    "        new_population_size = len(selected_population) + len(new_non_dominated_front)\n",
    "\n",
    "        # check the size of population after adding a new front\n",
    "        # if larger than population size then remove some solutions from the new front based on the crowding distance (step 4)\n",
    "        if new_population_size > population_size:\n",
    "\n",
    "            places_left = population_size - len(selected_population)\n",
    "            # compute the crowding distance\n",
    "            crowding_distance = compute_crowding_distance(new_non_dominated_front_fitness, F_MIN, F_MAX)\n",
    "\n",
    "            # select the necessary count of solutions with the highest distance\n",
    "            selected_solution_index = crowding_distance.argsort()[-places_left:]\n",
    "            selected_non_dominated_front = new_non_dominated_front[selected_solution_index]\n",
    "            new_selected_rank = np.array([rank] * len(selected_non_dominated_front))\n",
    "\n",
    "            # merge the reduced front with the current population (step 4 of the main algorithm)\n",
    "            selected_population.extend(selected_non_dominated_front)\n",
    "            selected_rank.extend(new_selected_rank)\n",
    "        else:\n",
    "            # merge the entire front with the current population (step 3 the main algorithm)\n",
    "            selected_population.extend(new_non_dominated_front)\n",
    "            new_selected_rank = np.array([rank] * len(new_non_dominated_front))\n",
    "            selected_rank.extend(new_selected_rank)\n",
    "\n",
    "        rank += 1\n",
    "\n",
    "    return np.asarray(selected_population), np.asarray(selected_rank)"
   ]
  },
  {
   "cell_type": "markdown",
   "metadata": {
    "id": "uRKAT_AxxZBC"
   },
   "source": [
    "We build a helper method to compute fitness values."
   ]
  },
  {
   "cell_type": "code",
   "execution_count": null,
   "metadata": {
    "executionInfo": {
     "elapsed": 10,
     "status": "ok",
     "timestamp": 1699807413417,
     "user": {
      "displayName": "julia ive",
      "userId": "11396706016758891847"
     },
     "user_tz": 0
    },
    "id": "sxMqqNebzY1B"
   },
   "outputs": [],
   "source": [
    "def compute_fitness(population):\n",
    "    \"\"\"\n",
    "    population: numpy array of shape (2N, NDIM)\n",
    "    Returns:\n",
    "        fitness_values:  numpy array of shape (2N, NDIM)\n",
    "    \"\"\"\n",
    "    fitness_values = np.zeros((population.shape))\n",
    "    for i,x in enumerate(population):\n",
    "      obj1, obj2 = dent(x)\n",
    "      fitness_values[i,0] = obj1\n",
    "      fitness_values[i,1] = obj2\n",
    "    return fitness_values"
   ]
  },
  {
   "cell_type": "markdown",
   "metadata": {
    "id": "Qge81ajX6B52"
   },
   "source": [
    "We will finally create the main NSGA-II loop.\n",
    "\n",
    "Run the code and compare your result to the result obtained earlier for the same problem."
   ]
  },
  {
   "cell_type": "code",
   "execution_count": null,
   "metadata": {
    "colab": {
     "base_uri": "https://localhost:8080/",
     "height": 456
    },
    "executionInfo": {
     "elapsed": 2561,
     "status": "ok",
     "timestamp": 1699807415969,
     "user": {
      "displayName": "julia ive",
      "userId": "11396706016758891847"
     },
     "user_tz": 0
    },
    "id": "-TX_xGNfABXQ",
    "outputId": "302f1d5d-c848-4722-a385-2f989892f785"
   },
   "outputs": [],
   "source": [
    "# we define the parameters\n",
    "NDIM = 2\n",
    "BOUND_LOW, BOUND_UP = -1.5, 1.5\n",
    "N = 70\n",
    "T = 70   # number of iterations\n",
    "F_MIN = [0.58, 0.58] # minimum values per objective\n",
    "F_MAX = [3.58, 3.58] # maximum values per objective\n",
    "\n",
    "# initialise the population by uniform sampling\n",
    "population = np.zeros((N, NDIM))\n",
    "for i in range(N):\n",
    "  population[i,:] = np.array(uniform(BOUND_LOW, BOUND_UP, dimensionality=NDIM))\n",
    "mating_pool = population\n",
    "\n",
    "# main loop\n",
    "for i in range(T):\n",
    "\n",
    "    # create new offspring population (step 6 of the main algorithm)\n",
    "    offspring_crossed = crossover(mating_pool)\n",
    "    offspring = mutation(offspring_crossed, BOUND_LOW, BOUND_UP)\n",
    "    # combine parent and offspring population (step 1 of the main algorithm)\n",
    "    population = np.append(population, offspring, axis=0)\n",
    "    # compute objective functions\n",
    "    fitness_values = compute_fitness(population)\n",
    "    # fill in a new population from the non-dominated fronts of the combined population (steps 1-4 of the main algorithm)\n",
    "    new_population, rank = fill_new_population(population, fitness_values, N, F_MIN, F_MAX)\n",
    "    # create new offspring with crowded tournament selection (step 5 of the main algorithm)\n",
    "    mating_pool = crowded_tournament(new_population, rank, F_MIN, F_MAX)\n",
    "    population = new_population\n",
    "\n",
    "# show the non-dominated set found\n",
    "fitness_values = compute_fitness(population)\n",
    "index = np.arange(population.shape[0]).astype(int)\n",
    "final_non_dominated_front_index = non_dominated_sorting(fitness_values)[1]\n",
    "fitness_values = fitness_values[final_non_dominated_front_index]\n",
    "\n",
    "plt.scatter(fitness_values[:, 0],fitness_values[:, 1], label='Pareto optimal front')\n",
    "plt.legend(loc='best')\n",
    "plt.xlabel('f1')\n",
    "plt.ylabel('f2')\n",
    "plt.grid(visible=1)\n",
    "plt.show()"
   ]
  },
  {
   "cell_type": "markdown",
   "metadata": {
    "id": "QErr_cLuAB3I",
    "internals": {
     "frag_helper": "fragment_end",
     "frag_number": 11,
     "slide_helper": "subslide_end",
     "slide_type": "subslide"
    },
    "slide_helper": "slide_end"
   },
   "source": [
    "## NSGA-II in DEAP\n",
    "\n",
    "We will try now the DEAP implementation of NSGA-II on the more complex [DTLZ3](https://deap.readthedocs.io/en/master/api/benchmarks.html?highlight=dtlz3#deap.benchmarks.dtlz3) problem (see visualisation below). This is one of the benchmarking problems used in the MOO community. It introduces a lot of local optima that run in parallel to the global optima. It is well suited to test algorithms. DTLZ problems can be configured with any amount of objectives. We will choose two for optimised visualisation.\n",
    "\n",
    "From [Pymoo](https://pymoo.org/problems/many/dtlz.html)\n",
    "<div align='center'><img src='https://pymoo.org/_images/problems_many_dtlz_26_1.png' width=\"38%\" align='center'/></div>\n"
   ]
  },
  {
   "cell_type": "markdown",
   "metadata": {
    "id": "yV1XE8QDAB3I",
    "internals": {
     "frag_helper": "fragment_end",
     "frag_number": 11,
     "slide_type": "subslide"
    }
   },
   "source": [
    "We initialise a new `toolbox` instance."
   ]
  },
  {
   "cell_type": "code",
   "execution_count": null,
   "metadata": {
    "executionInfo": {
     "elapsed": 12,
     "status": "ok",
     "timestamp": 1699807415970,
     "user": {
      "displayName": "julia ive",
      "userId": "11396706016758891847"
     },
     "user_tz": 0
    },
    "id": "uFXgaEQbAB3I",
    "internals": {
     "frag_helper": "fragment_end",
     "frag_number": 11
    }
   },
   "outputs": [],
   "source": [
    "toolbox = base.Toolbox()"
   ]
  },
  {
   "cell_type": "markdown",
   "metadata": {
    "id": "y5oESIkeAB3I"
   },
   "source": [
    "We define our problem as a two-objective DTLZ3 instance."
   ]
  },
  {
   "cell_type": "code",
   "execution_count": null,
   "metadata": {
    "executionInfo": {
     "elapsed": 11,
     "status": "ok",
     "timestamp": 1699807415970,
     "user": {
      "displayName": "julia ive",
      "userId": "11396706016758891847"
     },
     "user_tz": 0
    },
    "id": "mtkDZUnNAB3I",
    "internals": {
     "frag_helper": "fragment_end",
     "frag_number": 11
    }
   },
   "outputs": [],
   "source": [
    "NDIM = 30\n",
    "BOUND_LOW, BOUND_UP = 0.0, 1.0"
   ]
  },
  {
   "cell_type": "markdown",
   "metadata": {
    "id": "yYCa1UYwAB3I",
    "internals": {
     "frag_helper": "fragment_end",
     "frag_number": 11
    }
   },
   "source": [
    "We will register the necessary functions for sampling, creation of individuals and population, evaluation, as well for selection, mating (crossover) and mutation operators.\n",
    "\n",
    "Following the original NSGA-II algorithm, we use the simulated binary crossover (`cxSimulatedBinaryBounded`). It simulates the single-point crossover operator for real-coded GA. We also use Polynomial mutation (`mutPolynomialBounded`)(see Chapter 4, section 4.2.2, p109 and p120 of Deb:  Multi-Objective Optimization using Evolutionary Algorithms, John Wiley & Sons, 2001).\n",
    "\n",
    "We register the NSGA-II selection operator."
   ]
  },
  {
   "cell_type": "code",
   "execution_count": null,
   "metadata": {
    "executionInfo": {
     "elapsed": 11,
     "status": "ok",
     "timestamp": 1699807415970,
     "user": {
      "displayName": "julia ive",
      "userId": "11396706016758891847"
     },
     "user_tz": 0
    },
    "id": "qX06ZrtLAB3I",
    "internals": {
     "frag_helper": "fragment_end",
     "frag_number": 11
    }
   },
   "outputs": [],
   "source": [
    "toolbox.register(\"attr_float\", uniform, BOUND_LOW, BOUND_UP, NDIM)\n",
    "toolbox.register(\"individual\", tools.initIterate, creator.Individual, toolbox.attr_float)\n",
    "toolbox.register(\"population\", tools.initRepeat, list, toolbox.individual)\n",
    "toolbox.register(\"evaluate\", lambda ind: benchmarks.dtlz3(ind, 2))\n",
    "\n",
    "# we can specify different parameters of the relevant operators (see https://deap.readthedocs.io/en/master/api/tools.html)\n",
    "# eta is the crowding degree of the crossover:\n",
    "# high eta will produce children resembling to their parents, while a small eta will produce more diverse solutions\n",
    "toolbox.register(\"mate\", tools.cxSimulatedBinaryBounded, low=BOUND_LOW, up=BOUND_UP, eta=20.0)\n",
    "# indpb is the independent probability for each variable to be mutated\n",
    "toolbox.register(\"mutate\", tools.mutPolynomialBounded, low=BOUND_LOW, up=BOUND_UP, eta=20.0, indpb=1.0/NDIM)\n",
    "\n",
    "toolbox.register(\"select\", tools.selNSGA2)"
   ]
  },
  {
   "cell_type": "markdown",
   "metadata": {
    "id": "NqD_8FgEAB3J",
    "internals": {
     "frag_helper": "fragment_end",
     "frag_number": 11
    }
   },
   "source": [
    "`toolbox` can also store configurations."
   ]
  },
  {
   "cell_type": "code",
   "execution_count": null,
   "metadata": {
    "executionInfo": {
     "elapsed": 12,
     "status": "ok",
     "timestamp": 1699807415971,
     "user": {
      "displayName": "julia ive",
      "userId": "11396706016758891847"
     },
     "user_tz": 0
    },
    "id": "1203_eG3AB3J",
    "internals": {
     "frag_helper": "fragment_end",
     "frag_number": 11,
     "slide_helper": "subslide_end"
    },
    "slide_helper": "slide_end"
   },
   "outputs": [],
   "source": [
    "toolbox.pop_size = 50\n",
    "toolbox.max_gen = 1000\n",
    "toolbox.mut_prob = 0.2"
   ]
  },
  {
   "cell_type": "markdown",
   "metadata": {
    "id": "SKXaa9ECAB3J",
    "internals": {
     "frag_helper": "fragment_end",
     "frag_number": 11,
     "slide_type": "subslide"
    }
   },
   "source": [
    "DEAP's `algorithms.eaMuPlusLambda` implements an elitist EA where the next generation population is selected from both the offspring and the population. We will use it with the NSGA-II selection operator as defined above."
   ]
  },
  {
   "cell_type": "code",
   "execution_count": null,
   "metadata": {
    "executionInfo": {
     "elapsed": 11,
     "status": "ok",
     "timestamp": 1699807415971,
     "user": {
      "displayName": "julia ive",
      "userId": "11396706016758891847"
     },
     "user_tz": 0
    },
    "id": "HWcRfk74AB3J",
    "internals": {
     "frag_helper": "fragment_end",
     "frag_number": 11,
     "slide_helper": "subslide_end"
    },
    "slide_helper": "slide_end"
   },
   "outputs": [],
   "source": [
    "def run_nsga_ii(toolbox, verbose=False):\n",
    "    pop = toolbox.population(n=toolbox.pop_size)\n",
    "    pop = toolbox.select(pop, len(pop))\n",
    "\n",
    "    # we register the Statistics object for the new population\n",
    "    # we can then get the statistics via the returned log\n",
    "    pop_stats = tools.Statistics(key=np.copy)\n",
    "    pop_stats.register('pop', np.copy)\n",
    "    pop_stats.register('fitness', lambda x : [benchmarks.dtlz3(ind, 2) for ind in x])\n",
    "\n",
    "\n",
    "    # some of the parameters that are worth noting\n",
    "    # mu is number of individuals to select for the next generation\n",
    "    # cxpb is the probability of mating two individuals\n",
    "    # mutpb is the the probability of mutating an individual\n",
    "    # ngen is the number of generations\n",
    "    return algorithms.eaMuPlusLambda(pop, toolbox, mu=toolbox.pop_size,\n",
    "                                     lambda_=toolbox.pop_size,\n",
    "                                     cxpb=1-toolbox.mut_prob,\n",
    "                                     mutpb=toolbox.mut_prob,\n",
    "                                     stats=pop_stats,\n",
    "                                     ngen=toolbox.max_gen,\n",
    "                                     verbose=verbose)"
   ]
  },
  {
   "cell_type": "markdown",
   "metadata": {
    "id": "09z29ulOAB3J",
    "internals": {
     "frag_helper": "fragment_end",
     "frag_number": 11
    }
   },
   "source": [
    "We will now run NSGA-II."
   ]
  },
  {
   "cell_type": "code",
   "execution_count": null,
   "metadata": {
    "colab": {
     "base_uri": "https://localhost:8080/"
    },
    "executionInfo": {
     "elapsed": 14460,
     "status": "ok",
     "timestamp": 1699807430420,
     "user": {
      "displayName": "julia ive",
      "userId": "11396706016758891847"
     },
     "user_tz": 0
    },
    "id": "bT3hzsDiAB3J",
    "internals": {
     "frag_helper": "fragment_end",
     "frag_number": 11
    },
    "outputId": "65b283ec-7595-40e9-eb42-520b875b564c"
   },
   "outputs": [],
   "source": [
    "%time result, log = run_nsga_ii(toolbox)"
   ]
  },
  {
   "cell_type": "markdown",
   "metadata": {
    "id": "9SSIQ-E9IIWX"
   },
   "source": [
    "We get the solutions and fitness values from the last generation in the log."
   ]
  },
  {
   "cell_type": "code",
   "execution_count": null,
   "metadata": {
    "executionInfo": {
     "elapsed": 7,
     "status": "ok",
     "timestamp": 1699807430420,
     "user": {
      "displayName": "julia ive",
      "userId": "11396706016758891847"
     },
     "user_tz": 0
    },
    "id": "Wc3fycLOBcyJ"
   },
   "outputs": [],
   "source": [
    "pop = log[-1]['pop']\n",
    "fits = log[-1]['fitness']"
   ]
  },
  {
   "cell_type": "markdown",
   "metadata": {
    "id": "bknlEbP0H-Ao"
   },
   "source": [
    "We can finally plot the optimal front found."
   ]
  },
  {
   "cell_type": "code",
   "execution_count": null,
   "metadata": {
    "colab": {
     "base_uri": "https://localhost:8080/",
     "height": 411
    },
    "executionInfo": {
     "elapsed": 1549,
     "status": "ok",
     "timestamp": 1699807431964,
     "user": {
      "displayName": "julia ive",
      "userId": "11396706016758891847"
     },
     "user_tz": 0
    },
    "id": "OzzQxguY_4aM",
    "outputId": "1305d16f-b162-4559-ae1e-ad3b9428c0d9"
   },
   "outputs": [],
   "source": [
    "fig, ax = plt.subplots(1, figsize=(4,4))\n",
    "for f_values in fits:\n",
    "    ax.scatter(f_values[0], f_values[1], marker=\"o\", s=48, color='blue')\n",
    "plt.xlabel('f1(x)')\n",
    "plt.ylabel('f2(x)')"
   ]
  },
  {
   "cell_type": "markdown",
   "metadata": {
    "id": "afWrQtzjAB3K",
    "internals": {
     "frag_helper": "fragment_end",
     "frag_number": 11
    }
   },
   "source": [
    "We will also visualise the progress of the algorithm in a video."
   ]
  },
  {
   "cell_type": "code",
   "execution_count": null,
   "metadata": {
    "colab": {
     "base_uri": "https://localhost:8080/"
    },
    "executionInfo": {
     "elapsed": 14014,
     "status": "ok",
     "timestamp": 1699807445970,
     "user": {
      "displayName": "julia ive",
      "userId": "11396706016758891847"
     },
     "user_tz": 0
    },
    "id": "0K7jSFh0AB3K",
    "internals": {
     "frag_helper": "fragment_end",
     "frag_number": 11,
     "slide_helper": "subslide_end"
    },
    "outputId": "4e9fd6d7-7356-4bfe-ca14-59f305a651f5",
    "slide_helper": "subslide_end"
   },
   "outputs": [],
   "source": [
    "%time results, log = run_nsga_ii(toolbox)"
   ]
  },
  {
   "cell_type": "markdown",
   "metadata": {
    "id": "2R_YgxYwLzSh"
   },
   "source": [
    "We create a function to plot the best front for each iteration of the algorithm."
   ]
  },
  {
   "cell_type": "code",
   "execution_count": null,
   "metadata": {
    "executionInfo": {
     "elapsed": 5,
     "status": "ok",
     "timestamp": 1699807445970,
     "user": {
      "displayName": "julia ive",
      "userId": "11396706016758891847"
     },
     "user_tz": 0
    },
    "id": "kR2-hQ_UAB3K",
    "internals": {
     "frag_helper": "fragment_end",
     "frag_number": 11,
     "slide_helper": "subslide_end"
    },
    "slide_helper": "slide_end"
   },
   "outputs": [],
   "source": [
    "def animate(frame_index, log):\n",
    "    ax.clear()\n",
    "\n",
    "    fits = log[frame_index]['fitness']\n",
    "    for f_values in fits:\n",
    "        ax.scatter(f_values[0], f_values[1], marker=\"o\", s=48, color='blue')\n",
    "\n",
    "    ax.set_title('t=' + str(frame_index))\n",
    "    ax.set_xlabel('f1(x)')\n",
    "    ax.set_ylabel('f2(x)')\n",
    "    return []"
   ]
  },
  {
   "cell_type": "markdown",
   "metadata": {
    "id": "-vKDPTrYMrn9"
   },
   "source": [
    "We finally use the Matplotlib functionalities to animate the process."
   ]
  },
  {
   "cell_type": "code",
   "execution_count": null,
   "metadata": {
    "executionInfo": {
     "elapsed": 586,
     "status": "ok",
     "timestamp": 1699807446552,
     "user": {
      "displayName": "julia ive",
      "userId": "11396706016758891847"
     },
     "user_tz": 0
    },
    "id": "W53GEPTOAB3K",
    "internals": {
     "frag_helper": "fragment_end",
     "frag_number": 11,
     "slide_helper": "subslide_end",
     "slide_type": "subslide"
    },
    "slide_helper": "slide_end"
   },
   "outputs": [],
   "source": [
    "fig = plt.figure(figsize=(4,4))\n",
    "ax = fig.gca()\n",
    "anim = animation.FuncAnimation(fig, lambda i: animate(i, log), frames=len(log), interval=60, blit=True)\n",
    "plt.close()"
   ]
  },
  {
   "cell_type": "markdown",
   "metadata": {
    "id": "i0bmhF9JRAcY"
   },
   "source": [
    "We can watch how the algorithm advances from the local optimal fronts to the global one. Note that loading may take a while."
   ]
  },
  {
   "cell_type": "code",
   "execution_count": null,
   "metadata": {
    "colab": {
     "base_uri": "https://localhost:8080/",
     "height": 421
    },
    "executionInfo": {
     "elapsed": 658680,
     "status": "ok",
     "timestamp": 1699808105229,
     "user": {
      "displayName": "julia ive",
      "userId": "11396706016758891847"
     },
     "user_tz": 0
    },
    "id": "aSec3wdnAB3K",
    "outputId": "ca61b5ea-db6a-4856-e261-05ca77083d6d"
   },
   "outputs": [],
   "source": [
    "HTML(anim.to_html5_video())"
   ]
  },
  {
   "cell_type": "markdown",
   "metadata": {
    "id": "HeDVdqx9AB3L",
    "internals": {
     "frag_helper": "fragment_end",
     "frag_number": 91,
     "slide_helper": "subslide_end",
     "slide_type": "subslide"
    },
    "slide_helper": "slide_end"
   },
   "source": [
    "## Advanced: Hyperparameter search\n",
    "\n",
    "**Q: Run the algorithm with different values of the population size. Make conclusions about the performance.**"
   ]
  },
  {
   "cell_type": "markdown",
   "metadata": {
    "id": "BOpDwV7uAB3M",
    "internals": {
     "frag_helper": "fragment_end",
     "frag_number": 91,
     "slide_type": "subslide"
    }
   },
   "source": [
    "We will define three experiments with different population sizes, as well as the total evaluations per experiment."
   ]
  },
  {
   "cell_type": "code",
   "execution_count": null,
   "metadata": {
    "executionInfo": {
     "elapsed": 249,
     "status": "ok",
     "timestamp": 1699808105231,
     "user": {
      "displayName": "julia ive",
      "userId": "11396706016758891847"
     },
     "user_tz": 0
    },
    "id": "B0Zma4EjAB3M"
   },
   "outputs": [],
   "source": [
    "pop_sizes = (10,50,150)\n",
    "total_evals = 500"
   ]
  },
  {
   "cell_type": "markdown",
   "metadata": {
    "id": "hjOlMxfRmAeo"
   },
   "source": [
    "We also need a wrapper for the evaluation function to enable parallelisation later."
   ]
  },
  {
   "cell_type": "code",
   "execution_count": null,
   "metadata": {
    "executionInfo": {
     "elapsed": 222,
     "status": "ok",
     "timestamp": 1699808105231,
     "user": {
      "displayName": "julia ive",
      "userId": "11396706016758891847"
     },
     "user_tz": 0
    },
    "id": "RkuNGelbl_no"
   },
   "outputs": [],
   "source": [
    "def eval_helper(ind):\n",
    "      return benchmarks.dtlz3(ind, 2)\n",
    "\n",
    "toolbox.register(\"evaluate\", eval_helper)"
   ]
  },
  {
   "cell_type": "markdown",
   "metadata": {
    "id": "wo_RytquAB3M",
    "internals": {
     "frag_helper": "fragment_end",
     "frag_number": 91
    }
   },
   "source": [
    "We can now replicate this toolbox instance in a list."
   ]
  },
  {
   "cell_type": "code",
   "execution_count": null,
   "metadata": {
    "executionInfo": {
     "elapsed": 220,
     "status": "ok",
     "timestamp": 1699808105232,
     "user": {
      "displayName": "julia ive",
      "userId": "11396706016758891847"
     },
     "user_tz": 0
    },
    "id": "Bv9S_RkuAB3M",
    "internals": {
     "frag_helper": "fragment_end",
     "frag_number": 91
    }
   },
   "outputs": [],
   "source": [
    "toolboxes=list([copy.deepcopy(toolbox) for _ in range(len(pop_sizes))])"
   ]
  },
  {
   "cell_type": "markdown",
   "metadata": {
    "id": "SUbDimCTAB3M",
    "internals": {
     "frag_helper": "fragment_end",
     "frag_number": 91,
     "slide_type": "subslide"
    }
   },
   "source": [
    "We will set the population sizes in `toolboxes`. We add an `experiment_name` to each `toolbox`. Maximum number of iterations is defined by the population size (larger population size means less generations)."
   ]
  },
  {
   "cell_type": "code",
   "execution_count": null,
   "metadata": {
    "executionInfo": {
     "elapsed": 218,
     "status": "ok",
     "timestamp": 1699808105233,
     "user": {
      "displayName": "julia ive",
      "userId": "11396706016758891847"
     },
     "user_tz": 0
    },
    "id": "28_lmFXsAB3M",
    "internals": {
     "frag_helper": "fragment_end",
     "frag_number": 91
    }
   },
   "outputs": [],
   "source": [
    "for pop_size, toolbox in zip(pop_sizes, toolboxes):\n",
    "    toolbox.pop_size = pop_size\n",
    "    # define maximum generations per run\n",
    "    toolbox.max_gen = int(total_evals / pop_size)\n",
    "    toolbox.experiment_name = \"pop_size=\" + str(toolbox.pop_size) + \";\" + \"max_gen=\" + str(toolbox.max_gen)"
   ]
  },
  {
   "cell_type": "code",
   "execution_count": null,
   "metadata": {
    "colab": {
     "base_uri": "https://localhost:8080/"
    },
    "executionInfo": {
     "elapsed": 216,
     "status": "ok",
     "timestamp": 1699808105233,
     "user": {
      "displayName": "julia ive",
      "userId": "11396706016758891847"
     },
     "user_tz": 0
    },
    "id": "2G4_EWJYAB3M",
    "internals": {
     "frag_helper": "fragment_end",
     "frag_number": 114,
     "slide_helper": "subslide_end"
    },
    "outputId": "60ed80f0-4166-4bc3-da1f-b8b08c196c9e",
    "slide_helper": "slide_end"
   },
   "outputs": [],
   "source": [
    "for toolbox in toolboxes:\n",
    "    print(toolbox.experiment_name, toolbox.pop_size, toolbox.max_gen)"
   ]
  },
  {
   "cell_type": "markdown",
   "metadata": {
    "id": "mrwLHN0VAB3M",
    "internals": {
     "frag_helper": "fragment_end",
     "frag_number": 114,
     "slide_type": "subslide"
    }
   },
   "source": [
    "We will evaluate our stochastic models on the basis of 30 runs."
   ]
  },
  {
   "cell_type": "code",
   "execution_count": null,
   "metadata": {
    "executionInfo": {
     "elapsed": 133,
     "status": "ok",
     "timestamp": 1699808105234,
     "user": {
      "displayName": "julia ive",
      "userId": "11396706016758891847"
     },
     "user_tz": 0
    },
    "id": "V0gOIDKUAB3M",
    "internals": {
     "frag_helper": "fragment_end",
     "frag_number": 114,
     "slide_helper": "subslide_end"
    },
    "slide_helper": "slide_end"
   },
   "outputs": [],
   "source": [
    "number_of_runs = 30"
   ]
  },
  {
   "cell_type": "markdown",
   "metadata": {
    "id": "aA8WU9JvAB3N",
    "internals": {
     "frag_helper": "fragment_end",
     "frag_number": 114,
     "slide_helper": "subslide_end",
     "slide_type": "subslide"
    },
    "slide_helper": "slide_end"
   },
   "source": [
    "Local parallelisation can be achieved with Python's [`concurrent.futures`](https://docs.python.org/3/library/concurrent.futures.html) module."
   ]
  },
  {
   "cell_type": "markdown",
   "metadata": {
    "id": "MaFFjT-bAB3N",
    "internals": {
     "frag_helper": "fragment_end",
     "frag_number": 114,
     "slide_type": "subslide"
    }
   },
   "source": [
    "We can use the progress bar from [IPython widgets](http://nbviewer.ipython.org/github/jvns/ipython/blob/master/examples/Interactive%20Widgets/Index.ipynb)."
   ]
  },
  {
   "cell_type": "code",
   "execution_count": null,
   "metadata": {
    "executionInfo": {
     "elapsed": 130,
     "status": "ok",
     "timestamp": 1699808105234,
     "user": {
      "displayName": "julia ive",
      "userId": "11396706016758891847"
     },
     "user_tz": 0
    },
    "id": "L1uJelG7AB3N",
    "internals": {
     "frag_helper": "fragment_end",
     "frag_number": 114
    }
   },
   "outputs": [],
   "source": [
    "from ipywidgets import IntProgress\n",
    "from IPython.display import display"
   ]
  },
  {
   "cell_type": "markdown",
   "metadata": {
    "id": "x8NrS-PwAB3N",
    "internals": {
     "frag_helper": "fragment_end",
     "frag_number": 114,
     "slide_type": "subslide"
    }
   },
   "source": [
    "Parallelisation can be problematic if `lambda` is used. Hence we will write a wrapper function."
   ]
  },
  {
   "cell_type": "code",
   "execution_count": null,
   "metadata": {
    "executionInfo": {
     "elapsed": 130,
     "status": "ok",
     "timestamp": 1699808105235,
     "user": {
      "displayName": "julia ive",
      "userId": "11396706016758891847"
     },
     "user_tz": 0
    },
    "id": "l7PtrKlIAB3Q",
    "internals": {
     "frag_helper": "fragment_end",
     "frag_number": 114,
     "slide_helper": "subslide_end"
    },
    "slide_helper": "slide_end"
   },
   "outputs": [],
   "source": [
    "def run_algo_wrapper(toolbox):\n",
    "    result, log = run_nsga_ii(toolbox)\n",
    "    return log[-1]['fitness']"
   ]
  },
  {
   "cell_type": "code",
   "execution_count": null,
   "metadata": {
    "colab": {
     "base_uri": "https://localhost:8080/",
     "height": 84,
     "referenced_widgets": [
      "0efee516e02740c1835a6088948984de",
      "817890a7c7374a7792fb53baa9fda5ee",
      "faaa81d07a774461a17c2533bca98cab"
     ]
    },
    "executionInfo": {
     "elapsed": 12744,
     "status": "ok",
     "timestamp": 1699808117851,
     "user": {
      "displayName": "julia ive",
      "userId": "11396706016758891847"
     },
     "user_tz": 0
    },
    "id": "66MdWJsOAB3Q",
    "outputId": "41e4ab15-8544-4748-a277-61923998d650"
   },
   "outputs": [],
   "source": [
    "%%time\n",
    "# import the library to run tasks simultaneously\n",
    "import concurrent.futures\n",
    "progress_bar = IntProgress(description=\"000/000\", max=len(toolboxes)*number_of_runs)\n",
    "display(progress_bar)\n",
    "\n",
    "results = {toolbox.experiment_name:[] for toolbox in toolboxes}\n",
    "with concurrent.futures.ProcessPoolExecutor() as executor:\n",
    "    futures = {executor.submit(run_algo_wrapper, toolbox): toolbox\n",
    "               for _ in range(number_of_runs)\n",
    "               for toolbox in toolboxes}\n",
    "\n",
    "    for future in concurrent.futures.as_completed(futures):\n",
    "        current_tb = futures[future]\n",
    "        # we add all the optimal solutions from the current run\n",
    "        results[current_tb.experiment_name].extend(future.result())\n",
    "        progress_bar.value +=1\n",
    "        progress_bar.description = \"%03d/%03d:\" % (progress_bar.value, progress_bar.max)"
   ]
  },
  {
   "cell_type": "markdown",
   "metadata": {
    "id": "V9R99QvkAB3R",
    "internals": {
     "frag_helper": "fragment_end",
     "frag_number": 131,
     "slide_type": "subslide"
    }
   },
   "source": [
    "**Q: Use the code above to plot results per experiment.**"
   ]
  },
  {
   "cell_type": "code",
   "execution_count": null,
   "metadata": {
    "colab": {
     "base_uri": "https://localhost:8080/",
     "height": 1000
    },
    "executionInfo": {
     "elapsed": 124072,
     "status": "ok",
     "timestamp": 1699808241917,
     "user": {
      "displayName": "julia ive",
      "userId": "11396706016758891847"
     },
     "user_tz": 0
    },
    "id": "yoKlFCQrAB3R",
    "internals": {
     "frag_helper": "fragment_end",
     "frag_number": 131
    },
    "outputId": "adf0859b-3bef-480f-d550-23695190e0ae"
   },
   "outputs": [],
   "source": [
    "# TO DO\n",
    "for experiment_name in results:\n",
    "  fits = results[experiment_name]\n",
    "  fig, ax = plt.subplots(1, figsize=(4,4))\n",
    "\n",
    "  for f_values in fits:\n",
    "    ax.scatter(f_values[0], f_values[1], marker=\"o\", s=48, color='blue')\n",
    "\n",
    "  ax.set_title(str(experiment_name))\n",
    "  plt.xlabel('f1(x)')\n",
    "  plt.ylabel('f2(x)')\n",
    "  # TO DO"
   ]
  },
  {
   "cell_type": "markdown",
   "metadata": {
    "id": "oP2nUkYwN9Ys"
   },
   "source": [
    "We acknowledge the help of [DEAP library tutorial material](https://deap.readthedocs.io/en/master) in the preparation of this lab session."
   ]
  }
 ],
 "metadata": {
  "colab": {
   "provenance": []
  },
  "kernelspec": {
   "display_name": "Python 3 (ipykernel)",
   "language": "python",
   "name": "python3"
  },
  "language_info": {
   "codemirror_mode": {
    "name": "ipython",
    "version": 3
   },
   "file_extension": ".py",
   "mimetype": "text/x-python",
   "name": "python",
   "nbconvert_exporter": "python",
   "pygments_lexer": "ipython3",
   "version": "3.10.13"
  },
  "notify_time": "30",
  "widgets": {
   "application/vnd.jupyter.widget-state+json": {
    "0efee516e02740c1835a6088948984de": {
     "model_module": "@jupyter-widgets/controls",
     "model_module_version": "1.5.0",
     "model_name": "IntProgressModel",
     "state": {
      "_dom_classes": [],
      "_model_module": "@jupyter-widgets/controls",
      "_model_module_version": "1.5.0",
      "_model_name": "IntProgressModel",
      "_view_count": null,
      "_view_module": "@jupyter-widgets/controls",
      "_view_module_version": "1.5.0",
      "_view_name": "ProgressView",
      "bar_style": "",
      "description": "090/090:",
      "description_tooltip": null,
      "layout": "IPY_MODEL_817890a7c7374a7792fb53baa9fda5ee",
      "max": 90,
      "min": 0,
      "orientation": "horizontal",
      "style": "IPY_MODEL_faaa81d07a774461a17c2533bca98cab",
      "value": 90
     }
    },
    "817890a7c7374a7792fb53baa9fda5ee": {
     "model_module": "@jupyter-widgets/base",
     "model_module_version": "1.2.0",
     "model_name": "LayoutModel",
     "state": {
      "_model_module": "@jupyter-widgets/base",
      "_model_module_version": "1.2.0",
      "_model_name": "LayoutModel",
      "_view_count": null,
      "_view_module": "@jupyter-widgets/base",
      "_view_module_version": "1.2.0",
      "_view_name": "LayoutView",
      "align_content": null,
      "align_items": null,
      "align_self": null,
      "border": null,
      "bottom": null,
      "display": null,
      "flex": null,
      "flex_flow": null,
      "grid_area": null,
      "grid_auto_columns": null,
      "grid_auto_flow": null,
      "grid_auto_rows": null,
      "grid_column": null,
      "grid_gap": null,
      "grid_row": null,
      "grid_template_areas": null,
      "grid_template_columns": null,
      "grid_template_rows": null,
      "height": null,
      "justify_content": null,
      "justify_items": null,
      "left": null,
      "margin": null,
      "max_height": null,
      "max_width": null,
      "min_height": null,
      "min_width": null,
      "object_fit": null,
      "object_position": null,
      "order": null,
      "overflow": null,
      "overflow_x": null,
      "overflow_y": null,
      "padding": null,
      "right": null,
      "top": null,
      "visibility": null,
      "width": null
     }
    },
    "faaa81d07a774461a17c2533bca98cab": {
     "model_module": "@jupyter-widgets/controls",
     "model_module_version": "1.5.0",
     "model_name": "ProgressStyleModel",
     "state": {
      "_model_module": "@jupyter-widgets/controls",
      "_model_module_version": "1.5.0",
      "_model_name": "ProgressStyleModel",
      "_view_count": null,
      "_view_module": "@jupyter-widgets/base",
      "_view_module_version": "1.2.0",
      "_view_name": "StyleView",
      "bar_color": null,
      "description_width": ""
     }
    }
   }
  }
 },
 "nbformat": 4,
 "nbformat_minor": 4
}
