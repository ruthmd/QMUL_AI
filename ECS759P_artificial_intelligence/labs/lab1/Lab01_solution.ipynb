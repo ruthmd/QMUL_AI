{
 "cells": [
  {
   "cell_type": "markdown",
   "metadata": {
    "id": "KtbBxXk6Eshi"
   },
   "source": [
    "# ECS759P AI - Lab 1: Basics of coding in Python\n",
    "\n",
    "Python is an *interpreted* language. This means that the instructions are executed directly (by an \"interpreter\"), and you do not have to \"compile\" your code. In addition, you do not need to declare a type for your variables since they are dynamically assigned depending on their content or usage.\n",
    "\n",
    "Python uses **indentation** (whitespaces, created e.g. with pressing the tab key) to delimit a code block (instead of curly brackets, or begin/end keywords, etc). If you do not indent properly, your code will either not run, or worse, will do something unintended.\n",
    "\n",
    "We are going to look into some basic functionalities of Python that are needed for the future labs and coursework exercises. You might be familiar with some of them, but please make sure you are comfortable with all of them.\n",
    "\n",
    "Note that the following code is in Python 3 (not 2), if you are using your own Python environment.\n"
   ]
  },
  {
   "cell_type": "markdown",
   "metadata": {
    "id": "4haaQAfJYssD"
   },
   "source": [
    "## Notebook\n",
    "\n",
    "This environment allows us to both enter text and run code interactively. It is called ***[notebook](https://jupyter.org/)***.\n",
    "\n",
    "Notebooks can be composed of two types of cells: *Text* and *Code*. You can add your own cells (in Colab, hover your mouse over the edge between two cells, an option should pop up to add either a text cell or a code cell)\n",
    "\n",
    "You can edit the content of the *text* cells by double-clicking on them. It follows the [markup rules](https://github.com/adam-p/markdown-here/wiki/Markdown-Cheatsheet).\n",
    "\n",
    "In order to **execute (run) a cell**, you can use one of the following ways:\n",
    "\n",
    "1. `Shift + Enter` : executes a cell and goes to the next one.\n",
    "2. `Ctrl + Enter` : executes a block but stays at the same block.\n",
    "3. The above is equivalent to clicking on the *run* button in the top left menu.\n",
    "4. Use the `Run` tab (at the top of the page), which gives you more options.\n",
    "\n",
    "### Some useful tricks in Notebook:\n",
    "\n",
    "- While writing a code (in a code-type block), you can use the **`tab`** key for **auto-completion**. You can also use `tab` after a **`dot`** to see a drop-down list of the available attributes and methods on an object or a class.\n",
    "\n",
    "- Another cool feature of the `notebook` environment is that in order to get **help** on anything (a method, a function, an object, etc), you can just put a question mark in front of it (without any space) and execute that line. A help box will appear, which you can close after reading.\n",
    "\n",
    "- Something to keep in mind is that objects and functions (runtime variables) persist between different cells in the same notebook session. If you want to clear the memory, you can choose \"Run\" and then the \"Restart Kernel and Run All Cells...\" tab from the top-left menu."
   ]
  },
  {
   "cell_type": "markdown",
   "metadata": {
    "id": "hUiI8HvMW5eS"
   },
   "source": [
    "## Interacting with the user\n",
    "To display information, or ask for the user's input, we can use `print()` and `input()` functions. Here is an example:"
   ]
  },
  {
   "cell_type": "code",
   "execution_count": null,
   "metadata": {
    "id": "Nb8ny_b-HQS1"
   },
   "outputs": [],
   "source": [
    "user_input = input(\"What is your name? \")\n",
    "print(\"Hello {}! How can I help you?\".format(user_input.capitalize()))"
   ]
  },
  {
   "cell_type": "markdown",
   "metadata": {
    "id": "8pBgIWI-HrVk"
   },
   "source": [
    "You can of course customise the message displayed to ask information. Also note the (optional) usage of string formatting inside the print function. So the second instruction is just equivalent to:\n"
   ]
  },
  {
   "cell_type": "code",
   "execution_count": null,
   "metadata": {
    "id": "CXndkvdOc1DX"
   },
   "outputs": [],
   "source": [
    "print(\"Hello \", end='')\n",
    "print(user_input, end='')\n",
    "print(\"! How can I help you?\")"
   ]
  },
  {
   "cell_type": "markdown",
   "metadata": {
    "id": "C_O4lJkZcmKn"
   },
   "source": [
    "*NOTE:* You can ask for strings or numbers. However, be careful the type that `input()` returns is **always a string**. If you want to ask the user for an integer or a float number, then you can use **type-casting** using `int()` and `float()` functions.\n",
    "\n",
    "**Q. Write the code below that asks the user to enter their name and their age. Print out a message that tells them the year that they will turn 100 years old.**\n"
   ]
  },
  {
   "cell_type": "code",
   "execution_count": null,
   "metadata": {
    "id": "8LNkWLf8ezlY"
   },
   "outputs": [],
   "source": [
    "# TO DO\n",
    "name = input(\"What is your name? \")\n",
    "age = input(\"What is your age? \")\n",
    "print('Hello ' + name + \".\")\n",
    "print('You will turn 100 years old in ' + str(100-int(age)) + \" years.\")"
   ]
  },
  {
   "cell_type": "markdown",
   "metadata": {
    "id": "AhjMvjnhh1n5"
   },
   "source": [
    "You can also type-cast from numbers (integer or float) to string by using the `str()` function."
   ]
  },
  {
   "cell_type": "markdown",
   "metadata": {
    "id": "FIo1Rg7xcbQG"
   },
   "source": [
    "\n",
    "## Conditions in Python\n",
    "It is typical to want to execute an operation only in some specific cases. It comes down to creating conditions. For instance:"
   ]
  },
  {
   "cell_type": "code",
   "execution_count": null,
   "metadata": {
    "id": "BTKbLbxvIUdm"
   },
   "outputs": [],
   "source": [
    " val = 7\n",
    " if val < 3:\n",
    "   print(\"The input value is smaller than 3\")\n",
    " elif val <= 5:\n",
    "   print(\"The input value is either 3, 4 or 5\")\n",
    " else:\n",
    "   print(\"The value is greater than 5\")"
   ]
  },
  {
   "cell_type": "markdown",
   "metadata": {
    "id": "MS2WmcbkIa0O"
   },
   "source": [
    "Pay attention to the use of *indentation* as well as `:` (the colons).\n",
    "\n",
    "Recall that indentations are NOT optional in Python (so as to only make the code more readable) but rather a strict part of the syntax.   \n",
    "\n",
    "Feel free to change `val` and set it to `1`, `3`, and `4`. You can also change the conditions (using `>, >=, ==`) or just change the thresholds.\n",
    "\n"
   ]
  },
  {
   "cell_type": "markdown",
   "metadata": {
    "id": "aGZSoS0scBAC"
   },
   "source": [
    "**Q. Write the code below that asks the user for a number. Depending on whether the number is even or odd, print out an appropriate message to the user. Use the modulo operator %.**"
   ]
  },
  {
   "cell_type": "code",
   "execution_count": null,
   "metadata": {
    "id": "Nd8XR9DDcKvi"
   },
   "outputs": [],
   "source": [
    "# TO DO\n",
    "num = input(\"Give a number: \")\n",
    "if int(num)%2 == 1:\n",
    "    print(\"The number is odd.\")\n",
    "else:\n",
    "    print(\"The number is even\")"
   ]
  },
  {
   "cell_type": "markdown",
   "metadata": {
    "id": "Sf-0uCSTistL"
   },
   "source": [
    "## Using `range()`\n",
    "Python provides a useful function, `range()` that will create an object containing a set of numbers according to its parameters. For instance:"
   ]
  },
  {
   "cell_type": "code",
   "execution_count": null,
   "metadata": {
    "id": "tlVwZXBQJYX6"
   },
   "outputs": [],
   "source": [
    "my_range = range(10)\n",
    "print(list(my_range))"
   ]
  },
  {
   "cell_type": "markdown",
   "metadata": {
    "id": "zqP458CWJhML"
   },
   "source": [
    "Try to change the argument inside `range()` to `9` and `16`. You should observe that if we are passing only one (integer) argument to this function, it will generate all integers between 0 (**included**) and the input **not included**.\n",
    "\n",
    "Now let's try with two parameters"
   ]
  },
  {
   "cell_type": "code",
   "execution_count": null,
   "metadata": {
    "id": "7Xq2S6wOKLOB"
   },
   "outputs": [],
   "source": [
    "my_second_range = range(2, 18)\n",
    "print(list(my_second_range))"
   ]
  },
  {
   "cell_type": "markdown",
   "metadata": {
    "id": "IBucusfvKTrs"
   },
   "source": [
    "Try to change the two values inside the function. As you notice, this will create an object with all the integers between the first bound (start) **included** to the second bound (stop) **not included**.\n",
    "\n",
    "Now let's try with three arguments:"
   ]
  },
  {
   "cell_type": "code",
   "execution_count": null,
   "metadata": {
    "id": "RjTLUV-AKxIm"
   },
   "outputs": [],
   "source": [
    "my_third_range = range(3, 31, 3)\n",
    "print(list(my_third_range))"
   ]
  },
  {
   "cell_type": "markdown",
   "metadata": {
    "id": "2TDxpIMrLDt-"
   },
   "source": [
    "Change only the last value, and try to understand what it corresponds to. It is basically the offset between each number inside the object (step size).\n",
    "\n",
    "You should now be able to explain, in the following code, why the first print outputs an empty list whereas the second outputs a list with values:"
   ]
  },
  {
   "cell_type": "code",
   "execution_count": null,
   "metadata": {
    "id": "fZbRQxoxLoP8"
   },
   "outputs": [],
   "source": [
    "my_fourth_range = range(1, 11, -1)\n",
    "print(list(my_fourth_range))\n",
    "\n",
    "my_fifth_range = range (10, 0, -1)\n",
    "print(list(my_fifth_range))"
   ]
  },
  {
   "cell_type": "markdown",
   "metadata": {
    "id": "NxLDDxyOMACk"
   },
   "source": [
    "## `For` loops\n",
    "When you need to execute the same operation a given number of times, you may want to use a `for` loop as follows:"
   ]
  },
  {
   "cell_type": "code",
   "execution_count": null,
   "metadata": {
    "id": "b801WTnSMMVO"
   },
   "outputs": [],
   "source": [
    "for index in range(1, 6):\n",
    "  print(\"This is iteration number {}.\".format(index))"
   ]
  },
  {
   "cell_type": "markdown",
   "metadata": {
    "id": "uLcacrFoMe4t"
   },
   "source": [
    "If you change the `6` to `10`, what happens?\n",
    "\n",
    "Note that you can **nest** `for` loops (again, do not forget the indentation):"
   ]
  },
  {
   "cell_type": "code",
   "execution_count": null,
   "metadata": {
    "id": "-1FbXKNZMwKj"
   },
   "outputs": [],
   "source": [
    "for first_index in range(5):\n",
    "  for second_index in range(3):\n",
    "    print(\"First (outer) index: {}, Second (inner) index: {}\".format(first_index, second_index))"
   ]
  },
  {
   "cell_type": "markdown",
   "metadata": {
    "id": "3Mc2wHOaNH7R"
   },
   "source": [
    "How many times did the loop run, i.e. how many messages have been printed? Change the values in the two ranges to understand the sequence of operations.\n",
    "\n",
    "## `While` loop\n",
    "\n",
    "In some cases, we do not know how many times, or for how long, we want to repeat some instructions. For such occasions, we can iterate until a given condition has been met. For instance:"
   ]
  },
  {
   "cell_type": "code",
   "execution_count": null,
   "metadata": {
    "id": "nktR9iaiOS7h"
   },
   "outputs": [],
   "source": [
    "answer = 0\n",
    "while answer != 4:\n",
    "  answer = int(input(\"What is 2 + 2? \"))\n",
    "\n",
    "print(\"\\nCongrats, you have shown some trace of intelligence!\")\n"
   ]
  },
  {
   "cell_type": "markdown",
   "metadata": {
    "id": "L74jCHcqO2We"
   },
   "source": [
    "Try to run the above cell while initially giving the *wrong* answer (so *not* 4).\n",
    "\n"
   ]
  },
  {
   "cell_type": "markdown",
   "metadata": {
    "id": "WVr46DTl7EqV"
   },
   "source": [
    "## Lists\n",
    "List is one of the basic data types in Python, holding a collection of items with a specific order.\n",
    "\n",
    "One of the properties of Python's list is that it can contain elements of different types:"
   ]
  },
  {
   "cell_type": "code",
   "execution_count": null,
   "metadata": {
    "id": "UqwXGD28PhpS"
   },
   "outputs": [],
   "source": [
    "my_list = [\"Welcome to AI\", 21, \"q\", -78, [\"What is the answer?\"], [[42]]]"
   ]
  },
  {
   "cell_type": "markdown",
   "metadata": {
    "id": "i13IgPBCPwoX"
   },
   "source": [
    "Keep in mind that a list is an *iterable* object which means that you can directly go through it without indices. The two snippets below will output the exact same thing:\n",
    "\n"
   ]
  },
  {
   "cell_type": "code",
   "execution_count": null,
   "metadata": {
    "id": "BsPgjATKP4xQ"
   },
   "outputs": [],
   "source": [
    "# you should not use this:\n",
    "for index in range(len(my_list)):\n",
    "  print(\"One of the elements of the list is '{}'\".format(my_list[index]))\n",
    "\n",
    "print(\"-----------------------\")\n",
    "\n",
    "# we prefer the following in python:\n",
    "for element in my_list:\n",
    "  print(\"One of the elements of the list is '{}'\".format(element))\n",
    "\n"
   ]
  },
  {
   "cell_type": "markdown",
   "metadata": {
    "id": "QiK8AnZsQaKq"
   },
   "source": [
    "*Useful trick:* You can iterate through both the index and the value of the list using the function `enumerate()`:"
   ]
  },
  {
   "cell_type": "code",
   "execution_count": null,
   "metadata": {
    "id": "vs0WPxUFQt4G"
   },
   "outputs": [],
   "source": [
    "for index, value in enumerate(my_list):\n",
    "  print(\"The element of the list at index {} is '{}'\".format(index, value))"
   ]
  },
  {
   "cell_type": "markdown",
   "metadata": {
    "id": "oSoQQpE5_sCj"
   },
   "source": [
    "Note that the indices in Python start with 0 (and not 1!), so:"
   ]
  },
  {
   "cell_type": "code",
   "execution_count": null,
   "metadata": {
    "id": "nTruF2aD_4E4"
   },
   "outputs": [],
   "source": [
    "print(\"The first element of the list is: '{}'\".format(my_list[0]))\n",
    "print(\"The second element of the list is: '{}'\".format(my_list[1]))"
   ]
  },
  {
   "cell_type": "markdown",
   "metadata": {
    "id": "9DZzBKroBks7"
   },
   "source": [
    "Python allows negative indexing as well:"
   ]
  },
  {
   "cell_type": "code",
   "execution_count": null,
   "metadata": {
    "id": "KRfIHF7IBjwe"
   },
   "outputs": [],
   "source": [
    "print(\"The last element of the list is: '{}'\".format(my_list[-1]))\n",
    "print(\"The one before the last element of the list is: '{}'\".format(my_list[-2]))"
   ]
  },
  {
   "cell_type": "markdown",
   "metadata": {
    "id": "yyfqSEzUQ3NW"
   },
   "source": [
    "Another useful property of a list is that you can also access a **slice** of it:"
   ]
  },
  {
   "cell_type": "code",
   "execution_count": null,
   "metadata": {
    "id": "w8Fc6Y4MRCFt"
   },
   "outputs": [],
   "source": [
    "print(my_list[1:5])"
   ]
  },
  {
   "cell_type": "markdown",
   "metadata": {
    "id": "Xy2pew6DRQMi"
   },
   "source": [
    "Try to change the two integers inside the squared brackets. What happens? Basically you can access the values of the list indexed between the first boundary **included** and the last boundary **not included**.\n",
    "\n",
    "**Q. You should now be able to explain the output of the following instructions:**"
   ]
  },
  {
   "cell_type": "code",
   "execution_count": null,
   "metadata": {
    "id": "8ulfxgG9GBxx"
   },
   "outputs": [],
   "source": [
    "simple_list = list(range(10))\n",
    "\n",
    "print(simple_list[:2])\n",
    "print(simple_list[4:])\n",
    "print(simple_list[4:-1])\n",
    "print(simple_list[2:-1:2])"
   ]
  },
  {
   "cell_type": "markdown",
   "metadata": {
    "id": "YuXkTWNwFzwK"
   },
   "source": [
    "## Modifying a list\n",
    "\n",
    "You can change a specific element of a list, or change the size of a list by removing or popping existing elements, or by appending new elements:"
   ]
  },
  {
   "cell_type": "code",
   "execution_count": null,
   "metadata": {
    "id": "8ujzu2wRSJFL"
   },
   "outputs": [],
   "source": [
    "my_list_copy = my_list[:] # We create a copy of the previous list\n",
    "print(\"Before removing, the list is:\\n{}\\n\".format(my_list_copy))\n",
    "\n",
    "my_list_copy.remove(-78) # remove the \"first\" occurence of \"-78\"\n",
    "print(\"After removing -78, the list is:\\n{}\\n\".format(my_list_copy))\n",
    "\n",
    "popped_element = my_list_copy.pop(2) # remove (and return) the item at index 2\n",
    "print(\"After popping the second element, the list is:\\n{} and the popped element is {}\\n\".format(my_list_copy, popped_element))\n",
    "my_list_copy[1] = \"I changed this element\"\n",
    "print(\"After modification of the second element, the list is:\\n{}\\n\".format(my_list_copy))\n",
    "my_list_copy.append(78.9)\n",
    "print(\"After appending 78.9, the list is:\\n{}\\n\".format(my_list_copy))"
   ]
  },
  {
   "cell_type": "markdown",
   "metadata": {
    "id": "Xs-tv_1eTZza"
   },
   "source": [
    "Try to change some indices or values used as arguments and rerun the cell. What do you observe?\n",
    "\n",
    "Please note that `remove()` only deletes the **first** occurrence of the argument in the list. `pop()` would remove and **return** the element corresponding to the specified index (which can also be a negative index, which you should know what the interpretation is by now)."
   ]
  },
  {
   "cell_type": "markdown",
   "metadata": {
    "id": "2blMGkGcLfyz"
   },
   "source": [
    "## List comprehension\n",
    "Instead of creating new lists every time we perform operations on them, Python provides a compact and useful way to deal with that. It is called list comprehension. For instance:"
   ]
  },
  {
   "cell_type": "code",
   "execution_count": null,
   "metadata": {
    "id": "Ay7e58aZVSlz"
   },
   "outputs": [],
   "source": [
    "print([i**5 for i in range(1,6)])"
   ]
  },
  {
   "cell_type": "markdown",
   "metadata": {
    "id": "WViyPmnHVZOG"
   },
   "source": [
    "It creates a list of each element between 1 and 5 (included) to the power of five. You can play with the numbers inside the `range()` to see what happens. What is the output if instead of `i**5` you have (2*i+1)**2? <br/>\n",
    "You can embed some conditions inside the list comprehension:"
   ]
  },
  {
   "cell_type": "code",
   "execution_count": null,
   "metadata": {
    "id": "Bp1ZIMtlV7Jg"
   },
   "outputs": [],
   "source": [
    "print([i**10 for i in range(1,5) if (i == 2 or i == 4)])"
   ]
  },
  {
   "cell_type": "markdown",
   "metadata": {
    "id": "XJHoRg1HWBe_"
   },
   "source": [
    "Although `i` will take all the value between 1 and 4, only 2<sup>10</sup> and 4<sup>10</sup> will be kept in the output list. Try to change this line to output only 3<sup>6</sup> and 5<sup>6</sup>. You can even add more complexity using *if/else* statement inside."
   ]
  },
  {
   "cell_type": "code",
   "execution_count": null,
   "metadata": {
    "colab": {
     "base_uri": "https://localhost:8080/"
    },
    "executionInfo": {
     "elapsed": 222,
     "status": "ok",
     "timestamp": 1696525894718,
     "user": {
      "displayName": "julia ive",
      "userId": "11396706016758891847"
     },
     "user_tz": -60
    },
    "id": "VqBUzyHoWtQp",
    "outputId": "794624d2-c5ad-4feb-a3d5-4fe1a9e519f9"
   },
   "outputs": [],
   "source": [
    "print([val * 10 if val <=5 else val *2 for val in range(1, 11)])\n",
    "\n",
    "# modified to get a list containing the cube of all numbers lower than 6 and the square of all values above 8\n",
    "print([val ** 3 if val <=6 else val **2 for val in range(1, 11) if (val <6 or val > 8)])"
   ]
  },
  {
   "cell_type": "markdown",
   "metadata": {
    "id": "rRaUVYyWW3Og"
   },
   "source": [
    "Thanks to the *if/else* statement we can have two different operations carried out on the values of the `range()` based on their value. Now let's try to modify the previous line to get a list containing the cube of all numbers lower than 6 and the square of all values above 8."
   ]
  },
  {
   "cell_type": "markdown",
   "metadata": {
    "id": "eTqGFoNA5tex"
   },
   "source": [
    "**Q. Write the code below that asks the user for a number greater than 10 (let's say a). Then create a list containing all the squared numbers before a<sup>2</sup>. Using two list comprehensions, create two lists, one with all the even and the other with all the odd squared numbers.**"
   ]
  },
  {
   "cell_type": "code",
   "execution_count": null,
   "metadata": {
    "id": "eah5pmBf5tex"
   },
   "outputs": [],
   "source": [
    "# TO DO\n",
    "a = input(\"Give a number >10: \")\n",
    "list_a = [i**2 for i in range(10)]\n",
    "print(list_a)\n",
    "list_odd = [i for i in list_a if i % 2 == 1]\n",
    "print(list_odd)\n",
    "list_even = [i for i in list_a if i % 2 == 0 ]\n",
    "print(list_even)"
   ]
  },
  {
   "cell_type": "markdown",
   "metadata": {
    "id": "1FJJ0B-lMvwm"
   },
   "source": [
    "## Declaring and using functions\n",
    "\n",
    "It is very likely that some operations have to be carried out several times, but not with the same values. Instead of duplicating code, you can create functions."
   ]
  },
  {
   "cell_type": "code",
   "execution_count": null,
   "metadata": {
    "id": "LAkLpdiDXuCa"
   },
   "outputs": [],
   "source": [
    "def mean_function(value1, value2):\n",
    "  # You can do operations here\n",
    "  # ...\n",
    "  # But don't forget to return something\n",
    "  return (value1 + value2) / 2"
   ]
  },
  {
   "cell_type": "markdown",
   "metadata": {
    "id": "3_qvF6wGX1FI"
   },
   "source": [
    "If you run the above cell, nothing happens. It is because we have just created this function and now we can call it:"
   ]
  },
  {
   "cell_type": "code",
   "execution_count": null,
   "metadata": {
    "id": "UWMb6IMcYBbW"
   },
   "outputs": [],
   "source": [
    "print(\"The mean of 5 and 6 is: {}\".format(mean_function(5, 6)))\n",
    "print(\"The mean of 7 and 89 is: {}\".format(mean_function(7, 89)))\n",
    "print(\"The mean of -78 and 983 is: {}\".format(mean_function(-78, 983)))"
   ]
  },
  {
   "cell_type": "markdown",
   "metadata": {
    "id": "2OrjK8gLYjHZ"
   },
   "source": [
    "As you can see, we can now use this function as much as we want and with different values. Try with your own value. You can even try with floats instead of integers.\n"
   ]
  },
  {
   "cell_type": "markdown",
   "metadata": {
    "id": "v2m8VJzlM2P-"
   },
   "source": [
    "# Numpy basics\n",
    "\n",
    "When dealing with high dimensional problems, we are going to deal with nested lists, which can be a bit painful. That is why we are going to now introduce numpy, a (very useful) Python library allowing, among other things, to manipulate multi-dimensional arrays and perform linear algebra. This lab cannot cover all the useful functions contained in numpy, so we advise you to have a look [here](https://numpy.org/) when needed."
   ]
  },
  {
   "cell_type": "markdown",
   "metadata": {
    "id": "5Oo82uOUM7zi"
   },
   "source": [
    "## Numpy arrays\n",
    "In order to use numpy, we are not going to work with lists any more (even if they are still useful) but numpy arrays. Sometimes it is better to convert lists containing only *integers*, *floats* or nested lists of *integers*, *floats* into numpy arrays. For instance:"
   ]
  },
  {
   "cell_type": "code",
   "execution_count": null,
   "metadata": {
    "id": "4pQMVEO7aAsx"
   },
   "outputs": [],
   "source": [
    "import numpy as np\n",
    "\n",
    "my_first_np_array = np.array([5, 9, 8, 5.7, 75])\n",
    "print(\"The shape of the first array is {}\".format(my_first_np_array.shape))\n",
    "\n",
    "my_second_np_array = np.array([[3,-1,5], [5,4,3.8]])\n",
    "print(\"The shape of the second array is {}\".format(my_second_np_array.shape))"
   ]
  },
  {
   "cell_type": "markdown",
   "metadata": {
    "id": "_8NR_q5EalDb"
   },
   "source": [
    "In the first case it is equivalent to a vector with 5 elements. In the second it is equivalent to have a matrix with two rows and 3 columns. Try to change the values and dimensions of the lists to understand the constraints about the dimensions.\n",
    "\n",
    "## Element-wise operations\n",
    "\n",
    "**Q. In the cell below implement the element-wise addition of two lists: `[1, 2, 3]` and `[7, 8, 9]`. Then try to do it with the following matrices: `[[1,2,3], [4,5,6]]` and `[[4,5,6], [1,2,3]]`. You can create a function for that.**"
   ]
  },
  {
   "cell_type": "code",
   "execution_count": null,
   "metadata": {
    "id": "c7MSm41qbkZv"
   },
   "outputs": [],
   "source": [
    "# TO DO\n",
    "# with list\n",
    "list1 = [1, 2, 3]\n",
    "list2 = [7, 8, 9]\n",
    "assert(len(list1) == len(list2))\n",
    "res = list1.copy()\n",
    "for i in range(len(list1)):\n",
    "    res[i] = list1[i] + list2[i]\n",
    "print(res)\n",
    "\n",
    "\n",
    "# with matrix\n",
    "mat1 = [[1,2,3], [4,5,6]]\n",
    "mat2 = [[4,5,6], [1,2,3]]\n",
    "assert(len(mat1) == len(mat2) and len(mat1[0]) == len(mat2[0]))\n",
    "res = mat1.copy()\n",
    "for i in range(len(mat1)):\n",
    "    for j in range(len(mat1[0])):\n",
    "        res[i][j] = mat1[i][j] + mat2[i][j]\n",
    "print(res)"
   ]
  },
  {
   "cell_type": "markdown",
   "metadata": {
    "id": "c9oOxaU0bnma"
   },
   "source": [
    "Now let's try to do it with numpy. It is quite convenient.\n"
   ]
  },
  {
   "cell_type": "code",
   "execution_count": null,
   "metadata": {
    "id": "FF2apeSjbyOO"
   },
   "outputs": [],
   "source": [
    "added_vectors = np.array([1, 2, 3]) + np.array([7, 8, 9])\n",
    "print(added_vectors) # If you want a list and not a numpy array you can do added_vectors.tolist()\n",
    "\n",
    "print(\"--------------\")\n",
    "\n",
    "added_matrices = np.array([[1,2,3], [4,5,6]]) + np.array([[4,5,6], [1,2,3]])\n",
    "print(added_matrices)"
   ]
  },
  {
   "cell_type": "markdown",
   "metadata": {
    "id": "NCWgy9a7cyOA"
   },
   "source": [
    "You can use these results to compare with the output of your functions. They should be the same. As you can see it is more convenient. It is also true for difference, multiplication and division.\n",
    "\n",
    "## Multi-dimensional arrays\n",
    "\n",
    "You can directly create multi-dimensional arrays using some provided functions. For instance you can create a 150x98 matrix with random numbers (drawn from a uniform distribution) using:"
   ]
  },
  {
   "cell_type": "code",
   "execution_count": null,
   "metadata": {
    "id": "9U0M5w5Td1By"
   },
   "outputs": [],
   "source": [
    "random_matrix = np.random.random([150,98])\n",
    "print(random_matrix)"
   ]
  },
  {
   "cell_type": "markdown",
   "metadata": {
    "id": "akZmmJ0oeEOG"
   },
   "source": [
    "If you run the above cell several time you will see that the numbers are changing. Try to create a random 3x3 matrix and a 6x8 matrix containing only 1s (you can look below if you do not manage to do it).\n",
    "\n",
    "### Slicing a numpy array\n",
    "It is possible to slice and change the value of a numpy array using the same syntax as before."
   ]
  },
  {
   "cell_type": "code",
   "execution_count": null,
   "metadata": {
    "id": "a0LjqFhlep5o"
   },
   "outputs": [],
   "source": [
    "example_array = np.ones([8,4])\n",
    "print(\"Initial array is: \\n {}\".format(example_array))\n",
    "example_array[4,2] = 2\n",
    "example_array[0,3] = 3\n",
    "example_array[6,1] = 4\n",
    "print(\"Modified array is \\n {}\".format(example_array))\n",
    "three_first_columns = example_array[:, :3]\n",
    "print(\"The three first columns are: \\n {}\".format(three_first_columns))"
   ]
  },
  {
   "cell_type": "markdown",
   "metadata": {
    "id": "odOLvPKgferf"
   },
   "source": [
    "Now try to print the 4 last rows of the numpy array. What about extracting only the smallest rectangle containing the 2 and 4?\n",
    "\n",
    "## Modifying the size of an array\n",
    "\n",
    "Sometimes we want the size of the array to change without changing its content.\n",
    "Try to **reshape** the given array to a 5x4 matrix."
   ]
  },
  {
   "cell_type": "code",
   "execution_count": null,
   "metadata": {
    "id": "kA0cqYddgQpW"
   },
   "outputs": [],
   "source": [
    "given_array = np.array([[1, 2, 3, 4, 5, 6, 7, 8, 9, 10], [11 ,12 ,13, 14, 15, 16, 17, 18, 19, 20]])"
   ]
  },
  {
   "cell_type": "markdown",
   "metadata": {
    "id": "iUx6cV8Wg3Gj"
   },
   "source": [
    "Now let's try to make it as a 2x10 matrix. You have different ways to do so. Can you make it a 7x3 matrix? If not try to understand why.\n",
    "\n",
    "You can also change the size of the array by stacking new rows or columns.\n",
    "\n",
    "**Q. In the cell below try to stack a row and a column of 1s to the following matrix.**"
   ]
  },
  {
   "cell_type": "code",
   "execution_count": null,
   "metadata": {
    "id": "yF_Rq89phRJT"
   },
   "outputs": [],
   "source": [
    "import numpy as np\n",
    "matrix_to_change = np.zeros([3,4])\n",
    "# TO DO\n",
    "# stack a 1s row\n",
    "ones_row = np.ones([1, matrix_to_change.shape[1]])\n",
    "print(np.vstack([matrix_to_change, ones_row]))\n",
    "# stack a 1s column\n",
    "ones_row = np.ones([matrix_to_change.shape[0], 1])\n",
    "print(np.hstack([matrix_to_change, ones_row]))"
   ]
  },
  {
   "cell_type": "markdown",
   "metadata": {
    "id": "n3IHtRq3hWni"
   },
   "source": [
    "What are the different constraints on the dimensions of the stacked vectors (or matrices)?\n",
    "\n",
    "## Linear algebra\n",
    "\n",
    "**Q. Without numpy, write a function computing the matrix multiplication (not element-wise) between `[[1, 2, 3, -8], [4, 5, 6, 7], [-1, -1, 2, 3], [8, 7, 2, 10]]` and `[[-4, 5, 6, -1], [1, 2, 31, 8], [-7, 8, 5, 2], [4, 4, -4, 3]]`.**"
   ]
  },
  {
   "cell_type": "code",
   "execution_count": null,
   "metadata": {
    "id": "4VzNxzXNiYN4"
   },
   "outputs": [],
   "source": [
    "# TO DO\n",
    "mat1 = [[1, 2, 3, -8], [4, 5, 6, 7], [-1, -1, 2, 3], [8, 7, 2, 10]]\n",
    "mat2 = [[-4, 5, 6, -1], [1, 2, 31, 8], [-7, 8, 5, 2], [4, 4, -4, 3]]\n",
    "R1, C1 = len(mat1), len(mat1[0])\n",
    "R2, C2 = len(mat2), len(mat2[0])\n",
    "assert(C1 == R2)\n",
    "\n",
    "# Initialize the resulting matrix\n",
    "res = [[0 for r in range(C2)] for c in range(R1)]\n",
    "print(res)\n",
    "\n",
    "# Can you reduce one loop with list comprehension?\n",
    "for r in range(R1):\n",
    "    for c in range(C2):\n",
    "        for i in range(C1):\n",
    "            res[r][c] += mat1[r][i] * mat2[i][c]\n",
    "print(res)\n"
   ]
  },
  {
   "cell_type": "markdown",
   "metadata": {
    "id": "Fvxa7fB7ilKd"
   },
   "source": [
    "Now let's try to do it with numpy. Once again, you will see how convenient numpy is."
   ]
  },
  {
   "cell_type": "code",
   "execution_count": null,
   "metadata": {
    "id": "Et2zzEOcirAQ",
    "tags": []
   },
   "outputs": [],
   "source": [
    "multiplicated_matrix = np.array([[1, 2, 3, -8], [4, 5, 6, 7], [-1, -1, 2, 3], [8, 7, 2, 10]]).dot(np.array([[-4, 5, 6, -1], [1, 2, 31, 8], [-7, 8, 5, 2], [4, 4, -4, 3]]))\n",
    "print(multiplicated_matrix)\n",
    "\n",
    "print(\"--------------\")\n",
    "\n",
    "scalar_product = np.array([15, 7, 89, -7, 2, 6, 78, 6, 14, -12, 5.6]).dot(np.array([4.8, -98, 1, 2, -4, 7, 0.4, 16, 54, 78, 99]))\n",
    "print(scalar_product) # If you want a list and not a numpy array you can do scalar_product.tolist()\n"
   ]
  }
 ],
 "metadata": {
  "colab": {
   "provenance": []
  },
  "kernelspec": {
   "display_name": "Python 3 (ipykernel)",
   "language": "python",
   "name": "python3"
  },
  "language_info": {
   "codemirror_mode": {
    "name": "ipython",
    "version": 3
   },
   "file_extension": ".py",
   "mimetype": "text/x-python",
   "name": "python",
   "nbconvert_exporter": "python",
   "pygments_lexer": "ipython3",
   "version": "3.10.12"
  }
 },
 "nbformat": 4,
 "nbformat_minor": 4
}
